{
 "cells": [
  {
   "cell_type": "code",
   "execution_count": 1,
   "metadata": {},
   "outputs": [],
   "source": [
    "import pandas as pd\n",
    "import numpy as np\n",
    "import matplotlib.pyplot as plt\n",
    "import datetime\n",
    "from sklearn.neighbors import KNeighborsClassifier\n",
    "from sklearn.model_selection import train_test_split \n",
    "import math\n",
    "import seaborn as sns"
   ]
  },
  {
   "cell_type": "code",
   "execution_count": 2,
   "metadata": {},
   "outputs": [],
   "source": [
    "jogos = pd.read_csv(\"spi_matches.csv\")\n",
    "Santos = jogos[np.logical_or(jogos['team1'] == 'Santos', jogos['team2'] == 'Santos')]\n",
    "jogos_Santos = Santos[['date', 'team1', 'team2', 'score1', 'score2', 'prob1', 'prob2', 'importance1', 'importance2', 'spi1', 'spi2']]"
   ]
  },
  {
   "cell_type": "code",
   "execution_count": 3,
   "metadata": {},
   "outputs": [
    {
     "name": "stdout",
     "output_type": "stream",
     "text": [
      "2017-05-14 : Fluminense 3x2 Santos\n"
     ]
    },
    {
     "name": "stderr",
     "output_type": "stream",
     "text": [
      "C:\\Program Files\\Anaconda3\\lib\\site-packages\\pandas\\core\\indexing.py:362: SettingWithCopyWarning: \n",
      "A value is trying to be set on a copy of a slice from a DataFrame.\n",
      "Try using .loc[row_indexer,col_indexer] = value instead\n",
      "\n",
      "See the caveats in the documentation: http://pandas.pydata.org/pandas-docs/stable/indexing.html#indexing-view-versus-copy\n",
      "  self.obj[key] = _infer_fill_value(value)\n",
      "C:\\Program Files\\Anaconda3\\lib\\site-packages\\pandas\\core\\indexing.py:543: SettingWithCopyWarning: \n",
      "A value is trying to be set on a copy of a slice from a DataFrame.\n",
      "Try using .loc[row_indexer,col_indexer] = value instead\n",
      "\n",
      "See the caveats in the documentation: http://pandas.pydata.org/pandas-docs/stable/indexing.html#indexing-view-versus-copy\n",
      "  self.obj[item] = s\n"
     ]
    },
    {
     "name": "stdout",
     "output_type": "stream",
     "text": [
      "2017-05-20 : Santos 1x0 Coritiba\n",
      "2017-05-28 : Santos 0x1 Cruzeiro\n",
      "2017-06-03 : Corinthians 2x0 Santos\n",
      "2017-06-07 : Santos 1x0 Botafogo\n",
      "2017-06-11 : Atlético Paranaense 0x2 Santos\n",
      "2017-06-14 : Santos 1x0 Palmeiras\n",
      "2017-06-17 : Santos 0x0 Ponte Preta\n",
      "2017-06-21 : Vítoria 0x2 Santos\n",
      "2017-06-24 : Santos 0x1 Sport Recife\n",
      "2017-07-01 : Atlético Goianiense 1x1 Santos\n",
      "2017-07-09 : Santos 3x2 São Paulo\n",
      "2017-07-12 : Atletico Mineiro 0x1 Santos\n",
      "2017-07-16 : Vasco da Gama 0x0 Santos\n",
      "2017-07-19 : Santos 1x0 Chapecoense AF\n",
      "2017-07-23 : Santos 3x0 Bahía\n",
      "2017-07-30 : Grêmio 1x1 Santos\n",
      "2017-08-02 : Santos 3x2 Flamengo\n",
      "2017-08-06 : Avaí 0x0 Santos\n",
      "2017-08-14 : Santos 0x0 Fluminense\n",
      "2017-08-20 : Coritiba 0x0 Santos\n",
      "2017-08-27 : Cruzeiro 1x1 Santos\n",
      "2017-09-10 : Santos 2x0 Corinthians\n",
      "2017-09-16 : Botafogo 2x0 Santos\n",
      "2017-09-23 : Santos 1x0 Atlético Paranaense\n",
      "2017-09-30 : Palmeiras 0x1 Santos\n",
      "2017-10-12 : Ponte Preta 1x1 Santos\n",
      "2017-10-16 : Santos 2x2 Vítoria\n",
      "2017-10-19 : Sport Recife 1x1 Santos\n",
      "2017-10-22 : Santos 1x0 Atlético Goianiense\n",
      "2017-10-28 : São Paulo 2x1 Santos\n",
      "2017-11-04 : Santos 3x1 Atletico Mineiro\n",
      "2017-11-08 : Santos 1x2 Vasco da Gama\n",
      "2017-11-13 : Chapecoense AF 2x0 Santos\n",
      "2017-11-16 : Bahía 3x1 Santos\n",
      "2017-11-19 : Santos 1x0 Grêmio\n",
      "2017-11-26 : Flamengo 1x2 Santos\n",
      "2017-12-03 : Santos 1x1 Avaí\n",
      "2018-04-14 : Santos 2x0 Ceará\n",
      "2018-04-21 : Bahía 1x0 Santos\n",
      "2018-05-06 : Grêmio 5x1 Santos\n",
      "2018-05-13 : Santos 3x1 Paraná\n",
      "2018-05-20 : São Paulo 1x0 Santos\n",
      "2018-05-27 : Santos 0x1 Cruzeiro\n",
      "2018-05-31 : Atlético Paranaense 2x0 Santos\n",
      "2018-06-03 : Santos 5x2 Vítoria\n",
      "2018-06-06 : Corinthians 1x1 Santos\n",
      "2018-06-10 : Santos 1x2 Internacional\n",
      "2018-06-13 : Fluminense 0x1 Santos\n",
      "2018-07-19 : Santos 1x1 Palmeiras\n",
      "2018-07-22 : Chapecoense AF 0x0 Santos\n",
      "2018-07-25 : Santos 1x1 Flamengo\n",
      "2018-07-29 : Santos 0x1 América Mineiro\n",
      "2018-08-04 : Botafogo 0x0 Santos\n",
      "2018-08-08 : Ceará 1x1 Santos\n",
      "2018-08-12 : Atletico Mineiro 3x1 Santos\n",
      "2018-08-18 : Santos 3x0 Sport Recife\n",
      "2018-08-25 : Santos 2x0 Bahía\n",
      "2018-09-01 : Vasco da Gama 0x3 Santos\n",
      "2018-09-06 : Santos 0x0 Grêmio\n",
      "2018-09-09 : Paraná 0x2 Santos\n",
      "2018-09-16 : Santos 0x0 São Paulo\n",
      "2018-09-23 : Cruzeiro 2x1 Santos\n",
      "2018-09-27 : Santos 1x1 Vasco da Gama\n",
      "2018-09-30 : Santos 1x0 Atlético Paranaense\n",
      "2018-10-05 : Vítoria 0x1 Santos\n",
      "2018-10-13 : Santos 1x0 Corinthians\n",
      "2018-10-22 : Internacional 2x2 Santos\n",
      "2018-10-27 : Santos 3x0 Fluminense\n",
      "2018-11-03 : Palmeiras 3x2 Santos\n",
      "2018-11-12 : Santos 0x1 Chapecoense AF\n",
      "2018-11-15 : Flamengo 1x0 Santos\n",
      "2018-11-18 : América Mineiro 2x1 Santos\n",
      "2018-11-21 : Santos 1x1 Botafogo\n",
      "2018-11-24 : Santos 3x2 Atletico Mineiro\n",
      "2018-12-02 : Sport Recife 2x1 Santos\n",
      "2019-04-28 : Grêmio 1x2 Santos\n",
      "2019-05-02 : Santos 2x1 Fluminense\n",
      "2019-05-05 : CSA 0x0 Santos\n",
      "2019-05-12 : Santos 3x0 Vasco da Gama\n",
      "2019-05-18 : Palmeiras 4x0 Santos\n",
      "2019-05-26 : Santos 0x0 Internacional\n",
      "2019-06-02 : Ceará 0x1 Santos\n",
      "2019-06-09 : Santos 3x1 Atletico Mineiro\n",
      "2019-06-12 : Santos 1x0 Corinthians\n",
      "2019-07-13 : Bahía 0x1 Santos\n",
      "2019-07-21 : Botafogo 0x1 Santos\n",
      "2019-07-28 : Santos 3x1 Avaí\n",
      "2019-08-04 : Santos 6x1 Goiás\n",
      "2019-08-10 : São Paulo 3x2 Santos\n",
      "2019-08-18 : Cruzeiro 2x0 Santos\n",
      "2019-08-25 : Santos 3x3 Fortaleza\n",
      "2019-08-31 : Chapecoense AF 0x1 Santos\n",
      "2019-09-08 : Santos 1x1 Atlético Paranaense\n",
      "2019-09-14 : Flamengo 1x0 Santos\n",
      "2019-09-21 : Santos 0x3 Grêmio\n",
      "2019-09-26 : Fluminense 1x1 Santos\n",
      "2019-09-29 : Santos 2x0 CSA\n",
      "2019-10-05 : Vasco da Gama 0x1 Santos\n",
      "2019-10-09 : Santos 2x0 Palmeiras\n",
      "2019-10-13 : Internacional 0x0 Santos\n",
      "2019-10-17 : Santos 2x1 Ceará\n",
      "2019-10-20 : Atletico Mineiro 2x0 Santos\n",
      "2019-10-26 : Corinthians 0x0 Santos\n",
      "2019-10-31 : Santos 1x0 Bahía\n",
      "2019-11-03 : Santos 4x1 Botafogo\n",
      "2019-11-06 : Avaí 1x2 Santos\n",
      "2019-11-09 : Goiás 0x3 Santos\n",
      "2019-11-16 : Santos 1x1 São Paulo\n",
      "2019-11-23 : Santos 4x1 Cruzeiro\n",
      "2019-11-28 : Fortaleza 2x1 Santos\n",
      "2019-12-01 : Santos 2x0 Chapecoense AF\n",
      "2019-12-04 : Atlético Paranaense 1x0 Santos\n",
      "2019-12-08 : Santos 4x0 Flamengo\n"
     ]
    }
   ],
   "source": [
    "for label, row in jogos_Santos.iterrows() :\n",
    "    print(str(row[\"date\"]) + \" : \" + str(row[\"team1\"]) + \" \" + str(row[\"score1\"])[0] + \"x\"  + str(row[\"score2\"])[0] + \" \" + str(row[\"team2\"]))\n",
    "    if(row['team1'] == \"Santos\") :\n",
    "        jogos_Santos.loc[label, \"gols_santos\"] = row['score1']\n",
    "        jogos_Santos.loc[label, \"gols_adv\"] = row['score2']\n",
    "        jogos_Santos.loc[label, \"local\"] = 0.0\n",
    "        jogos_Santos.loc[label, \"prob_Santos\"] = row['prob1']\n",
    "        jogos_Santos.loc[label, \"spi_Santos\"] = row['spi1']\n",
    "        if(math.isnan(row['importance1'])) :\n",
    "            jogos_Santos.loc[label, \"importance_Santos\"] = 25.0\n",
    "        else : \n",
    "            jogos_Santos.loc[label, \"importance_Santos\"] = row['importance1']\n",
    "    else :\n",
    "        jogos_Santos.loc[label, \"gols_santos\"] = row['score2']\n",
    "        jogos_Santos.loc[label, \"gols_adv\"] = row['score1']\n",
    "        jogos_Santos.loc[label, \"local\"] = 1.0\n",
    "        jogos_Santos.loc[label, \"prob_Santos\"] = row['prob2']\n",
    "        jogos_Santos.loc[label, \"spi_Santos\"] = row['spi2']\n",
    "        if(math.isnan(row['importance2'])) :\n",
    "            jogos_Santos.loc[label, \"importance_Santos\"] = 25.0\n",
    "        else : \n",
    "            jogos_Santos.loc[label, \"importance_Santos\"] = row['importance2']"
   ]
  },
  {
   "cell_type": "code",
   "execution_count": 4,
   "metadata": {},
   "outputs": [
    {
     "name": "stderr",
     "output_type": "stream",
     "text": [
      "C:\\Program Files\\Anaconda3\\lib\\site-packages\\ipykernel_launcher.py:1: SettingWithCopyWarning: \n",
      "A value is trying to be set on a copy of a slice from a DataFrame.\n",
      "Try using .loc[row_indexer,col_indexer] = value instead\n",
      "\n",
      "See the caveats in the documentation: http://pandas.pydata.org/pandas-docs/stable/indexing.html#indexing-view-versus-copy\n",
      "  \"\"\"Entry point for launching an IPython kernel.\n"
     ]
    },
    {
     "data": {
      "image/png": "[encoded data removed]",
      "text/plain": [
       "<Figure size 432x288 with 1 Axes>"
      ]
     },
     "metadata": {
      "needs_background": "light"
     },
     "output_type": "display_data"
    },
    {
     "data": {
      "text/plain": [
       "<Figure size 432x288 with 0 Axes>"
      ]
     },
     "metadata": {},
     "output_type": "display_data"
    }
   ],
   "source": [
    "jogos_Santos[\"datetimeobj\"] = jogos_Santos[\"date\"].apply(lambda x : datetime.datetime.strptime(x, \"%Y-%m-%d\"))\n",
    "\n",
    "plt.plot_date(x=jogos_Santos['datetimeobj'], y=jogos_Santos['gols_santos'], xdate = True, ydate = False, color = 'blue')\n",
    "plt.plot_date(x=jogos_Santos['datetimeobj'], y=jogos_Santos['gols_adv'], xdate = True, ydate = False, color = 'red')\n",
    "plt.show()\n",
    "plt.clf()"
   ]
  },
  {
   "cell_type": "code",
   "execution_count": 5,
   "metadata": {},
   "outputs": [
    {
     "data": {
      "image/png": "[encoded data removed]",
      "text/plain": [
       "<Figure size 432x288 with 1 Axes>"
      ]
     },
     "metadata": {
      "needs_background": "light"
     },
     "output_type": "display_data"
    },
    {
     "data": {
      "text/plain": [
       "<Figure size 432x288 with 0 Axes>"
      ]
     },
     "metadata": {},
     "output_type": "display_data"
    }
   ],
   "source": [
    "plt.hist(jogos_Santos['gols_santos'], bins = range(7), alpha=0.5, label='Gols Santos')\n",
    "plt.hist(jogos_Santos['gols_adv'], bins = range(7), alpha=0.5, label='Gols Adv.')\n",
    "plt.legend(loc='upper right')\n",
    "plt.xticks(range(7))\n",
    "plt.show()\n",
    "plt.clf()"
   ]
  },
  {
   "cell_type": "markdown",
   "metadata": {},
   "source": [
    "# Treinando kNeighbors para prever numero de gols"
   ]
  },
  {
   "cell_type": "code",
   "execution_count": 13,
   "metadata": {},
   "outputs": [
    {
     "name": "stdout",
     "output_type": "stream",
     "text": [
      "Predicted scores = \n",
      "[0. 1. 1. 1. 1. 1. 1. 1. 1. 1. 1. 1. 0. 0. 1. 0. 1. 0. 0. 0. 0. 0. 1.]\n",
      "Precision of model = \n",
      "0.5652173913043478\n"
     ]
    }
   ],
   "source": [
    "Santos_predict = jogos_Santos[['gols_santos','prob_Santos', 'importance_Santos', 'spi_Santos', 'local']]\n",
    "\n",
    "X = Santos_predict.drop('gols_santos', axis=1).values\n",
    "y = Santos_predict['gols_santos'].values\n",
    "\n",
    "X_train, X_test, y_train, y_test = train_test_split(X, y, test_size = 0.2, random_state=42)\n",
    "\n",
    "knn = KNeighborsClassifier(n_neighbors=4)\n",
    "knn.fit(X_test,y_test)\n",
    "print(\"Predicted scores = \") \n",
    "print(knn.predict(X_test))\n",
    "print(\"Precision of model = \") \n",
    "print(knn.score(X_test, y_test))\n"
   ]
  },
  {
   "cell_type": "code",
   "execution_count": 8,
   "metadata": {},
   "outputs": [
    {
     "data": {
      "image/png": "[encoded data removed]",
      "text/plain": [
       "<Figure size 432x288 with 2 Axes>"
      ]
     },
     "metadata": {
      "needs_background": "light"
     },
     "output_type": "display_data"
    }
   ],
   "source": [
    "ax = sns.heatmap(Santos_predict.corr(), square=True, cmap='RdYlGn')\n",
    "plt.show()"
   ]
  },
  {
   "cell_type": "code",
   "execution_count": null,
   "metadata": {},
   "outputs": [],
   "source": []
  }
 ],
 "metadata": {
  "kernelspec": {
   "display_name": "Python 3",
   "language": "python",
   "name": "python3"
  },
  "language_info": {
   "codemirror_mode": {
    "name": "ipython",
    "version": 3
   },
   "file_extension": ".py",
   "mimetype": "text/x-python",
   "name": "python",
   "nbconvert_exporter": "python",
   "pygments_lexer": "ipython3",
   "version": "3.7.0"
  }
 },
 "nbformat": 4,
 "nbformat_minor": 2
}
