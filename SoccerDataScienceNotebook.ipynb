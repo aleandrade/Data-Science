{
 "cells": [
  {
   "cell_type": "code",
   "execution_count": 356,
   "metadata": {},
   "outputs": [],
   "source": [
    "import pandas as pd\n",
    "import numpy as np\n",
    "import matplotlib.pyplot as plt\n",
    "import datetime\n",
    "from sklearn.neighbors import KNeighborsClassifier\n",
    "from sklearn.model_selection import train_test_split \n",
    "from sklearn.linear_model import LinearRegression\n",
    "from sklearn.metrics import mean_squared_error\n",
    "from sklearn.model_selection import cross_val_score\n",
    "from sklearn.linear_model import Lasso\n",
    "from sklearn.linear_model import Ridge\n",
    "from sklearn.metrics import classification_report, confusion_matrix\n",
    "from sklearn.linear_model import LogisticRegression\n",
    "from sklearn.metrics import roc_curve\n",
    "from sklearn.model_selection import GridSearchCV\n",
    "from sklearn.tree import DecisionTreeClassifier\n",
    "from sklearn.model_selection import RandomizedSearchCV\n",
    "from sklearn.preprocessing import Imputer\n",
    "from sklearn.preprocessing import scale\n",
    "from sklearn.svm import SVC\n",
    "from sklearn.pipeline import Pipeline\n",
    "import math\n",
    "import seaborn as sns\n",
    "from scipy.stats import randint"
   ]
  },
  {
   "cell_type": "code",
   "execution_count": 357,
   "metadata": {},
   "outputs": [],
   "source": [
    "teamname = \"Santos\"\n",
    "\n",
    "matches = pd.read_csv(\"spi_matches.csv\")\n",
    "if(teamname == \"all\") :\n",
    "    team_matches = matches\n",
    "else :\n",
    "    team_matches = matches[np.logical_or(matches['team1'] == teamname, matches['team2'] == teamname)]\n",
    "team_matches_data = team_matches.loc[:, ['date', 'team1', 'team2', 'score1', 'score2', 'prob1', 'prob2', 'importance1', 'importance2', 'spi1', 'spi2']]"
   ]
  },
  {
   "cell_type": "markdown",
   "metadata": {},
   "source": [
    "# Cleaning dataset and creating columns for team data "
   ]
  },
  {
   "cell_type": "code",
   "execution_count": 358,
   "metadata": {},
   "outputs": [
    {
     "name": "stdout",
     "output_type": "stream",
     "text": [
      "2017-05-14 : Fluminense 3x2 Santos\n",
      "2017-05-20 : Santos 1x0 Coritiba\n",
      "2017-05-28 : Santos 0x1 Cruzeiro\n",
      "2017-06-03 : Corinthians 2x0 Santos\n",
      "2017-06-07 : Santos 1x0 Botafogo\n",
      "2017-06-11 : Atlético Paranaense 0x2 Santos\n",
      "2017-06-14 : Santos 1x0 Palmeiras\n",
      "2017-06-17 : Santos 0x0 Ponte Preta\n",
      "2017-06-21 : Vítoria 0x2 Santos\n",
      "2017-06-24 : Santos 0x1 Sport Recife\n",
      "2017-07-01 : Atlético Goianiense 1x1 Santos\n",
      "2017-07-09 : Santos 3x2 São Paulo\n",
      "2017-07-12 : Atletico Mineiro 0x1 Santos\n",
      "2017-07-16 : Vasco da Gama 0x0 Santos\n",
      "2017-07-19 : Santos 1x0 Chapecoense AF\n",
      "2017-07-23 : Santos 3x0 Bahía\n",
      "2017-07-30 : Grêmio 1x1 Santos\n",
      "2017-08-02 : Santos 3x2 Flamengo\n",
      "2017-08-06 : Avaí 0x0 Santos\n",
      "2017-08-14 : Santos 0x0 Fluminense\n",
      "2017-08-20 : Coritiba 0x0 Santos\n",
      "2017-08-27 : Cruzeiro 1x1 Santos\n",
      "2017-09-10 : Santos 2x0 Corinthians\n",
      "2017-09-16 : Botafogo 2x0 Santos\n",
      "2017-09-23 : Santos 1x0 Atlético Paranaense\n",
      "2017-09-30 : Palmeiras 0x1 Santos\n",
      "2017-10-12 : Ponte Preta 1x1 Santos\n",
      "2017-10-16 : Santos 2x2 Vítoria\n",
      "2017-10-19 : Sport Recife 1x1 Santos\n",
      "2017-10-22 : Santos 1x0 Atlético Goianiense\n",
      "2017-10-28 : São Paulo 2x1 Santos\n",
      "2017-11-04 : Santos 3x1 Atletico Mineiro\n",
      "2017-11-08 : Santos 1x2 Vasco da Gama\n",
      "2017-11-13 : Chapecoense AF 2x0 Santos\n",
      "2017-11-16 : Bahía 3x1 Santos\n",
      "2017-11-19 : Santos 1x0 Grêmio\n",
      "2017-11-26 : Flamengo 1x2 Santos\n",
      "2017-12-03 : Santos 1x1 Avaí\n",
      "2018-04-14 : Santos 2x0 Ceará\n",
      "2018-04-21 : Bahía 1x0 Santos\n",
      "2018-05-06 : Grêmio 5x1 Santos\n",
      "2018-05-13 : Santos 3x1 Paraná\n",
      "2018-05-20 : São Paulo 1x0 Santos\n",
      "2018-05-27 : Santos 0x1 Cruzeiro\n",
      "2018-05-31 : Atlético Paranaense 2x0 Santos\n",
      "2018-06-03 : Santos 5x2 Vítoria\n",
      "2018-06-06 : Corinthians 1x1 Santos\n",
      "2018-06-10 : Santos 1x2 Internacional\n",
      "2018-06-13 : Fluminense 0x1 Santos\n",
      "2018-07-19 : Santos 1x1 Palmeiras\n",
      "2018-07-22 : Chapecoense AF 0x0 Santos\n",
      "2018-07-25 : Santos 1x1 Flamengo\n",
      "2018-07-29 : Santos 0x1 América Mineiro\n",
      "2018-08-04 : Botafogo 0x0 Santos\n",
      "2018-08-08 : Ceará 1x1 Santos\n",
      "2018-08-12 : Atletico Mineiro 3x1 Santos\n",
      "2018-08-18 : Santos 3x0 Sport Recife\n",
      "2018-08-25 : Santos 2x0 Bahía\n",
      "2018-09-01 : Vasco da Gama 0x3 Santos\n",
      "2018-09-06 : Santos 0x0 Grêmio\n",
      "2018-09-09 : Paraná 0x2 Santos\n",
      "2018-09-16 : Santos 0x0 São Paulo\n",
      "2018-09-23 : Cruzeiro 2x1 Santos\n",
      "2018-09-27 : Santos 1x1 Vasco da Gama\n",
      "2018-09-30 : Santos 1x0 Atlético Paranaense\n",
      "2018-10-05 : Vítoria 0x1 Santos\n",
      "2018-10-13 : Santos 1x0 Corinthians\n",
      "2018-10-22 : Internacional 2x2 Santos\n",
      "2018-10-27 : Santos 3x0 Fluminense\n",
      "2018-11-03 : Palmeiras 3x2 Santos\n",
      "2018-11-12 : Santos 0x1 Chapecoense AF\n",
      "2018-11-15 : Flamengo 1x0 Santos\n",
      "2018-11-18 : América Mineiro 2x1 Santos\n",
      "2018-11-21 : Santos 1x1 Botafogo\n",
      "2018-11-24 : Santos 3x2 Atletico Mineiro\n",
      "2018-12-02 : Sport Recife 2x1 Santos\n",
      "2019-04-28 : Grêmio 1x2 Santos\n",
      "2019-05-02 : Santos 2x1 Fluminense\n",
      "2019-05-05 : CSA 0x0 Santos\n",
      "2019-05-12 : Santos 3x0 Vasco da Gama\n",
      "2019-05-18 : Palmeiras 4x0 Santos\n",
      "2019-05-26 : Santos 0x0 Internacional\n",
      "2019-06-02 : Ceará 0x1 Santos\n",
      "2019-06-09 : Santos 3x1 Atletico Mineiro\n",
      "2019-06-12 : Santos 1x0 Corinthians\n",
      "2019-07-13 : Bahía 0x1 Santos\n",
      "2019-07-21 : Botafogo 0x1 Santos\n",
      "2019-07-28 : Santos 3x1 Avaí\n",
      "2019-08-04 : Santos 6x1 Goiás\n",
      "2019-08-10 : São Paulo 3x2 Santos\n",
      "2019-08-18 : Cruzeiro 2x0 Santos\n",
      "2019-08-25 : Santos 3x3 Fortaleza\n",
      "2019-08-31 : Chapecoense AF 0x1 Santos\n",
      "2019-09-08 : Santos 1x1 Atlético Paranaense\n",
      "2019-09-14 : Flamengo 1x0 Santos\n",
      "2019-09-21 : Santos 0x3 Grêmio\n",
      "2019-09-26 : Fluminense 1x1 Santos\n",
      "2019-09-29 : Santos 2x0 CSA\n",
      "2019-10-05 : Vasco da Gama 0x1 Santos\n",
      "2019-10-09 : Santos 2x0 Palmeiras\n",
      "2019-10-13 : Internacional 0x0 Santos\n",
      "2019-10-17 : Santos 2x1 Ceará\n",
      "2019-10-20 : Atletico Mineiro 2x0 Santos\n",
      "2019-10-26 : Corinthians 0x0 Santos\n",
      "2019-10-31 : Santos 1x0 Bahía\n",
      "2019-11-03 : Santos 4x1 Botafogo\n",
      "2019-11-06 : Avaí 1x2 Santos\n",
      "2019-11-09 : Goiás 0x3 Santos\n",
      "2019-11-16 : Santos 1x1 São Paulo\n",
      "2019-11-23 : Santos 4x1 Cruzeiro\n",
      "2019-11-28 : Fortaleza 2x1 Santos\n",
      "2019-12-01 : Santos 2x0 Chapecoense AF\n",
      "2019-12-04 : Atlético Paranaense 1x0 Santos\n",
      "2019-12-08 : Santos 4x0 Flamengo\n"
     ]
    }
   ],
   "source": [
    "for label, row in team_matches_data.iterrows() :\n",
    "    print(str(row[\"date\"]) + \" : \" + str(row[\"team1\"]) + \" \" + str(row[\"score1\"])[0] + \"x\"  + str(row[\"score2\"])[0] + \" \" + str(row[\"team2\"]))\n",
    "    if(row['team1'] == teamname) :\n",
    "        team_matches_data.loc[label, \"goals_team\"] = row['score1']\n",
    "        team_matches_data.loc[label, \"goals_adv\"] = row['score2']\n",
    "        team_matches_data.loc[label, \"adv_team\"] = row['team2']\n",
    "        team_matches_data.loc[label, \"place\"] = \"home\"\n",
    "        team_matches_data.loc[label, \"prob_team\"] = row['prob1']\n",
    "        team_matches_data.loc[label, \"spi_team\"] = row['spi1']\n",
    "        team_matches_data.loc[label, \"spi_adv\"] = row['spi2']\n",
    "        team_matches_data.loc[label, \"spi_dif\"] = row['spi1'] - row['spi2']\n",
    "        if(math.isnan(row['importance1'])) :\n",
    "            team_matches_data.loc[label, \"importance_team\"] = 25.0\n",
    "        else : \n",
    "            team_matches_data.loc[label, \"importance_team\"] = row['importance1']\n",
    "        \n",
    "        if(math.isnan(row['score1'])) :\n",
    "            team_matches_data.loc[label, \"goals_team\"] = 0.0\n",
    "            team_matches_data.loc[label, \"goals_team_str\"] = 0\n",
    "        elif row['score1'] >= 3:\n",
    "            team_matches_data.loc[label, \"goals_team_str\"] = 3\n",
    "        else :\n",
    "            team_matches_data.loc[label, \"goals_team_str\"] = int(row['score1'])\n",
    "            \n",
    "        if(math.isnan(row['score2'])) :\n",
    "            team_matches_data.loc[label, \"goals_away\"] = 0.0\n",
    "            team_matches_data.loc[label, \"goals_away_str\"] = 0\n",
    "        elif row['score2'] >= 3:\n",
    "            team_matches_data.loc[label, \"goals_away_str\"] = 3\n",
    "        else :\n",
    "            team_matches_data.loc[label, \"goals_away_str\"] = int(row['score2'])\n",
    "            \n",
    "    else :\n",
    "        team_matches_data.loc[label, \"goals_team\"] = row['score2']\n",
    "        team_matches_data.loc[label, \"goals_adv\"] = row['score1']\n",
    "        team_matches_data.loc[label, \"adv_team\"] = row['team1']\n",
    "        team_matches_data.loc[label, \"place\"] = \"away\"\n",
    "        team_matches_data.loc[label, \"prob_team\"] = row['prob2']\n",
    "        team_matches_data.loc[label, \"spi_team\"] = row['spi2']\n",
    "        team_matches_data.loc[label, \"spi_adv\"] = row['spi1']\n",
    "        team_matches_data.loc[label, \"spi_dif\"] = row['spi2'] - row['spi1']\n",
    "        if(math.isnan(row['importance2'])) :\n",
    "            team_matches_data.loc[label, \"importance_team\"] = 25.0\n",
    "        else :\n",
    "            team_matches_data.loc[label, \"importance_team\"] = row['importance2']\n",
    "            \n",
    "        if(math.isnan(row['score1'])) :\n",
    "            team_matches_data.loc[label, \"goals_away\"] = 0.0\n",
    "            team_matches_data.loc[label, \"goals_away_str\"] = 0\n",
    "        elif row['score1'] >= 3:\n",
    "            team_matches_data.loc[label, \"goals_away_str\"] = 3\n",
    "        else :\n",
    "            team_matches_data.loc[label, \"goals_away_str\"] = int(row['score1'])\n",
    "            \n",
    "        if(math.isnan(row['score1'])) :\n",
    "            team_matches_data.loc[label, \"goals_team\"] = 0.0\n",
    "            team_matches_data.loc[label, \"goals_team_str\"] = 0\n",
    "        elif row['score2'] >= 3:\n",
    "            team_matches_data.loc[label, \"goals_team_str\"] = 3\n",
    "        else :\n",
    "            team_matches_data.loc[label, \"goals_team_str\"] = int(row['score2'])"
   ]
  },
  {
   "cell_type": "markdown",
   "metadata": {},
   "source": [
    "# Creating data visualizations"
   ]
  },
  {
   "cell_type": "code",
   "execution_count": 359,
   "metadata": {},
   "outputs": [
    {
     "data": {
      "image/png": "[encoded data removed]",
      "text/plain": [
       "<Figure size 432x288 with 1 Axes>"
      ]
     },
     "metadata": {
      "needs_background": "light"
     },
     "output_type": "display_data"
    },
    {
     "data": {
      "text/plain": [
       "<Figure size 432x288 with 0 Axes>"
      ]
     },
     "metadata": {},
     "output_type": "display_data"
    }
   ],
   "source": [
    "team_matches_data.loc[:, \"datetimeobj\"] = team_matches_data.loc[:, \"date\"].apply(lambda x : datetime.datetime.strptime(x, \"%Y-%m-%d\"))\n",
    "\n",
    "plt.plot_date(x=team_matches_data.loc[:, 'datetimeobj'], y=team_matches_data.loc[:,'goals_team_str'], xdate = True, ydate = False, color = 'blue')\n",
    "plt.plot_date(x=team_matches_data.loc[:, 'datetimeobj'], y=team_matches_data.loc[:,'goals_adv'], xdate = True, ydate = False, color = 'red')\n",
    "plt.show()\n",
    "plt.clf()"
   ]
  },
  {
   "cell_type": "code",
   "execution_count": 360,
   "metadata": {},
   "outputs": [
    {
     "data": {
      "image/png": "[encoded data removed]",
      "text/plain": [
       "<Figure size 432x288 with 1 Axes>"
      ]
     },
     "metadata": {
      "needs_background": "light"
     },
     "output_type": "display_data"
    },
    {
     "data": {
      "text/plain": [
       "<Figure size 432x288 with 0 Axes>"
      ]
     },
     "metadata": {},
     "output_type": "display_data"
    },
    {
     "data": {
      "image/png": "[encoded data removed]",
      "text/plain": [
       "<Figure size 432x288 with 1 Axes>"
      ]
     },
     "metadata": {
      "needs_background": "light"
     },
     "output_type": "display_data"
    },
    {
     "data": {
      "text/plain": [
       "<Figure size 432x288 with 0 Axes>"
      ]
     },
     "metadata": {},
     "output_type": "display_data"
    }
   ],
   "source": [
    "plt.hist(team_matches_data['goals_team_str'], bins = range(10), alpha=0.5, label='Goals home team')\n",
    "plt.hist(team_matches_data['goals_adv'], bins = range(10), alpha=0.5, label='Goals Adv.')\n",
    "plt.legend(loc='upper right')\n",
    "plt.xticks(range(10))\n",
    "plt.show()\n",
    "plt.clf()\n",
    "\n",
    "team_done_matches = team_matches_data[team_matches_data['datetimeobj'] < datetime.datetime.now() - datetime.timedelta(days=1)]\n",
    "team_predict = team_done_matches[['goals_team_str','prob_team', 'importance_team', 'spi_dif', 'place']]\n",
    "team_predict = pd.get_dummies(team_predict, drop_first = True)\n",
    "\n",
    "\n",
    "\n",
    "team_predict.boxplot('goals_team_str', 'place_home', rot=60)\n",
    "plt.xticks([1, 2], ['away', 'home'])\n",
    "plt.show()\n",
    "plt.clf()"
   ]
  },
  {
   "cell_type": "markdown",
   "metadata": {},
   "source": [
    "# Training kNeighbors to predict goal numbers"
   ]
  },
  {
   "cell_type": "code",
   "execution_count": 361,
   "metadata": {},
   "outputs": [
    {
     "name": "stdout",
     "output_type": "stream",
     "text": [
      "{'n_neighbors': 33}\n",
      "0.40350877192982454\n",
      "Predicted scores = \n",
      "[1. 1. 1. 0. 1. 1. 1. 1. 1. 1. 1. 0. 1. 1. 1. 1. 1. 1. 1. 1. 1. 1. 1.]\n"
     ]
    },
    {
     "data": {
      "image/png": "[encoded data removed]",
      "text/plain": [
       "<Figure size 432x288 with 1 Axes>"
      ]
     },
     "metadata": {
      "needs_background": "light"
     },
     "output_type": "display_data"
    },
    {
     "name": "stdout",
     "output_type": "stream",
     "text": [
      "\n",
      "Precision of model = \n",
      "0.391304347826087\n",
      "\n",
      "Confusion Matrix: \n",
      "[[0 0 2 0]\n",
      " [7 9 1 4]\n",
      " [0 0 0 0]\n",
      " [0 0 0 0]]\n",
      "\n",
      "Classification: \n",
      "             precision    recall  f1-score   support\n",
      "\n",
      "        0.0       0.00      0.00      0.00         2\n",
      "        1.0       1.00      0.43      0.60        21\n",
      "        2.0       0.00      0.00      0.00         0\n",
      "        3.0       0.00      0.00      0.00         0\n",
      "\n",
      "avg / total       0.91      0.39      0.55        23\n",
      "\n",
      "Model predicted 1 goal(s) against Fluminense -- Real result = 0 [0=0.364, 1=0.424, 2=0.152, 3+=0.061]\n",
      "\n",
      "Result predicted correctly! 1 goal(s) against Coritiba -- [0=0.212, 1=0.394, 2=0.182, 3+=0.212]\n",
      "\n",
      "Result predicted correctly! 1 goal(s) against Cruzeiro -- [0=0.394, 1=0.424, 2=0.152, 3+=0.03]\n",
      "\n",
      "Model predicted 0 goal(s) against Corinthians -- Real result = 2 [0=0.394, 1=0.364, 2=0.152, 3+=0.091]\n",
      "\n",
      "Result predicted correctly! 1 goal(s) against Botafogo -- [0=0.333, 1=0.485, 2=0.121, 3+=0.061]\n",
      "\n",
      "Model predicted 1 goal(s) against Atlético Paranaense -- Real result = 3+ [0=0.273, 1=0.364, 2=0.182, 3+=0.182]\n",
      "\n",
      "Model predicted 1 goal(s) against Palmeiras -- Real result = 0 [0=0.182, 1=0.364, 2=0.212, 3+=0.242]\n",
      "\n",
      "Result predicted correctly! 1 goal(s) against Ponte Preta -- [0=0.212, 1=0.394, 2=0.182, 3+=0.212]\n",
      "\n",
      "Result predicted correctly! 1 goal(s) against Vítoria -- [0=0.242, 1=0.394, 2=0.152, 3+=0.212]\n",
      "\n",
      "Model predicted 1 goal(s) against Sport Recife -- Real result = 3+ [0=0.242, 1=0.424, 2=0.152, 3+=0.182]\n",
      "\n",
      "Result predicted correctly! 1 goal(s) against Atlético Goianiense -- [0=0.333, 1=0.515, 2=0.091, 3+=0.061]\n",
      "\n",
      "Model predicted 0 goal(s) against São Paulo -- Real result = 2 [0=0.394, 1=0.364, 2=0.152, 3+=0.091]\n",
      "\n",
      "Model predicted 1 goal(s) against Atletico Mineiro -- Real result = 3+ [0=0.212, 1=0.394, 2=0.182, 3+=0.212]\n",
      "\n",
      "Model predicted 1 goal(s) against Vasco da Gama -- Real result = 0 [0=0.333, 1=0.455, 2=0.152, 3+=0.061]\n",
      "\n",
      "Model predicted 1 goal(s) against Chapecoense AF -- Real result = 0 [0=0.364, 1=0.424, 2=0.152, 3+=0.061]\n",
      "\n",
      "Model predicted 1 goal(s) against Bahía -- Real result = 2 [0=0.333, 1=0.515, 2=0.121, 3+=0.03]\n",
      "\n",
      "Result predicted correctly! 1 goal(s) against Grêmio -- [0=0.242, 1=0.485, 2=0.182, 3+=0.091]\n",
      "\n",
      "Result predicted correctly! 1 goal(s) against Flamengo -- [0=0.364, 1=0.485, 2=0.121, 3+=0.03]\n",
      "\n",
      "Model predicted 1 goal(s) against Avaí -- Real result = 0 [0=0.212, 1=0.455, 2=0.121, 3+=0.212]\n",
      "\n",
      "Model predicted 1 goal(s) against Fluminense -- Real result = 0 [0=0.333, 1=0.515, 2=0.121, 3+=0.03]\n",
      "\n",
      "Model predicted 1 goal(s) against Coritiba -- Real result = 0 [0=0.333, 1=0.485, 2=0.121, 3+=0.061]\n",
      "\n",
      "Model predicted 1 goal(s) against Cruzeiro -- Real result = 3+ [0=0.242, 1=0.333, 2=0.212, 3+=0.212]\n",
      "\n",
      "Result predicted correctly! 1 goal(s) against Corinthians -- [0=0.364, 1=0.455, 2=0.152, 3+=0.03]\n",
      "\n"
     ]
    },
    {
     "name": "stderr",
     "output_type": "stream",
     "text": [
      "C:\\Program Files\\Anaconda3\\lib\\site-packages\\sklearn\\metrics\\classification.py:1137: UndefinedMetricWarning: Recall and F-score are ill-defined and being set to 0.0 in labels with no true samples.\n",
      "  'recall', 'true', average, warn_for)\n"
     ]
    },
    {
     "data": {
      "text/plain": [
       "<Figure size 432x288 with 0 Axes>"
      ]
     },
     "metadata": {},
     "output_type": "display_data"
    }
   ],
   "source": [
    "X = team_predict.drop('goals_team_str', axis=1).values\n",
    "y = team_predict['goals_team_str'].values\n",
    "\n",
    "X = scale(X)\n",
    "\n",
    "#Discovering best parameter for k_neighbors\n",
    "param_grid={'n_neighbors': np.arange(1,50)}\n",
    "knn = KNeighborsClassifier()\n",
    "knn_cv = GridSearchCV(knn, param_grid, cv = 5)\n",
    "\n",
    "knn_cv.fit(X, y)\n",
    "\n",
    "print(knn_cv.best_params_)\n",
    "print(knn_cv.best_score_)\n",
    "\n",
    "X_train, X_test, y_train, y_test = train_test_split(X, y, test_size = 0.2, random_state=42)\n",
    "\n",
    "knn = KNeighborsClassifier(n_neighbors=knn_cv.best_params_['n_neighbors'])\n",
    "knn.fit(X_train,y_train)\n",
    "print(\"Predicted scores = \") \n",
    "print(knn.predict(X_test))\n",
    "plt.hist(knn.predict(X_test), bins = range(10), alpha=1, label='Number of goals')\n",
    "plt.xticks(range(10))\n",
    "plt.show()\n",
    "plt.clf()\n",
    "print(\"\\nPrecision of model = \") \n",
    "print(knn.score(X_test, y_test))\n",
    "print(\"\\nConfusion Matrix: \")\n",
    "print(confusion_matrix(knn.predict(X_test), y_test))\n",
    "print(\"\\nClassification: \")\n",
    "print(classification_report(knn.predict(X_test), y_test))\n",
    "\n",
    "KNN_score = knn.score(X_test, y_test)\n",
    "\n",
    "y_pred = knn.predict(X_test)\n",
    "# Compute predicted probabilities: y_pred_prob\n",
    "y_pred_prob = knn.predict_proba(X_test)\n",
    "\n",
    "adv_teams = team_done_matches['adv_team'].values\n",
    "\n",
    "for i in range(y_pred_prob.shape[0]) :\n",
    "    if y_pred[i] != y_test[i]:\n",
    "        print(\"Model predicted \" + (str(int(y_pred[i])) if y_pred[i]<3 else \"3+\")  + \" goal(s) against \" + adv_teams[i] + \" -- Real result = \" + (str(int(y_test[i])) if y_test[i]<3 else \"3+\") + \" [0=\" + str(round(y_pred_prob[i][0], 3)) + \", 1=\" + str(round(y_pred_prob[i][1], 3)) + \", 2=\" + str(round(y_pred_prob[i][2], 3)) + \", 3+=\" + str(round(y_pred_prob[i][3], 3)) + \"]\" + \"\\n\") \n",
    "    else :\n",
    "        print(\"Result predicted correctly! \" + (str(int(y_pred[i])) if y_pred[i]<3 else \"3+\") + \" goal(s) against \" + adv_teams[i] + \" -- \"+ \"[0=\" + str(round(y_pred_prob[i][0], 3)) + \", 1=\" + str(round(y_pred_prob[i][1], 3)) + \", 2=\" + str(round(y_pred_prob[i][2], 3)) + \", 3+=\" + str(round(y_pred_prob[i][3], 3)) + \"]\" + \"\\n\") "
   ]
  },
  {
   "cell_type": "code",
   "execution_count": 362,
   "metadata": {},
   "outputs": [
    {
     "data": {
      "image/png": "[encoded data removed]",
      "text/plain": [
       "<Figure size 432x288 with 2 Axes>"
      ]
     },
     "metadata": {
      "needs_background": "light"
     },
     "output_type": "display_data"
    }
   ],
   "source": [
    "ax = sns.heatmap(team_predict.corr(), square=True, cmap='RdYlGn')\n",
    "plt.show()"
   ]
  },
  {
   "cell_type": "markdown",
   "metadata": {},
   "source": [
    "# Trying linear regression to predict goals"
   ]
  },
  {
   "cell_type": "markdown",
   "metadata": {},
   "source": [
    "With one variable (prob_team first and spi_dif after)"
   ]
  },
  {
   "cell_type": "code",
   "execution_count": 363,
   "metadata": {},
   "outputs": [
    {
     "name": "stdout",
     "output_type": "stream",
     "text": [
      "0.12419313108362762\n"
     ]
    },
    {
     "data": {
      "image/png": "[encoded data removed]",
      "text/plain": [
       "<Figure size 432x288 with 1 Axes>"
      ]
     },
     "metadata": {
      "needs_background": "light"
     },
     "output_type": "display_data"
    },
    {
     "name": "stdout",
     "output_type": "stream",
     "text": [
      "R^2: 0.07366092662796708\n",
      "Root Mean Squared Error: 1.0095286484618757\n",
      "[-0.16358113  0.20525939 -0.04687696  0.19046762  0.21258427]\n"
     ]
    },
    {
     "data": {
      "text/plain": [
       "<Figure size 432x288 with 0 Axes>"
      ]
     },
     "metadata": {},
     "output_type": "display_data"
    }
   ],
   "source": [
    "reg = LinearRegression()\n",
    "\n",
    "X = team_predict['prob_team'].values.reshape(-1,1)\n",
    "y = team_predict['goals_team_str'].values.reshape(-1,1)\n",
    "\n",
    "X = scale(X)\n",
    "\n",
    "prediction_space = np.linspace(min(X), max(X)).reshape(-1,1)\n",
    "reg.fit(X, y)\n",
    "result = reg.predict(prediction_space)\n",
    "print(reg.score(X,y))\n",
    "\n",
    "LinRegProb_score = reg.score(X,y)\n",
    "\n",
    "# Plot regression line\n",
    "plt.scatter(X,y)\n",
    "plt.plot(prediction_space, result, color='black', linewidth=3)\n",
    "plt.xlabel(\"Win prob for team\")\n",
    "plt.ylabel(\"Number of goals scored\")\n",
    "plt.show()\n",
    "plt.clf()\n",
    "\n",
    "X_train, X_test, y_train, y_test = train_test_split(X, y, test_size = 0.2, random_state=42)\n",
    "reg.fit(X_train, y_train)\n",
    "y_pred = reg.predict(X_test)\n",
    "print(\"R^2: {}\".format(reg.score(X_test, y_test)))\n",
    "rmse = np.sqrt(mean_squared_error(y_test, y_pred))\n",
    "print(\"Root Mean Squared Error: {}\".format(rmse))\n",
    "\n",
    "cv_scores = cross_val_score(reg, X, y, cv=5)\n",
    "print(cv_scores)"
   ]
  },
  {
   "cell_type": "code",
   "execution_count": 364,
   "metadata": {},
   "outputs": [
    {
     "name": "stdout",
     "output_type": "stream",
     "text": [
      "0.026978962975829024\n"
     ]
    },
    {
     "data": {
      "image/png": "[encoded data removed]",
      "text/plain": [
       "<Figure size 432x288 with 1 Axes>"
      ]
     },
     "metadata": {
      "needs_background": "light"
     },
     "output_type": "display_data"
    },
    {
     "name": "stdout",
     "output_type": "stream",
     "text": [
      "R^2: -0.05986961098735466\n",
      "Root Mean Squared Error: 1.0798411575364766\n",
      "[-0.1624182   0.00165525  0.04512961  0.01157197  0.06525954]\n"
     ]
    },
    {
     "data": {
      "text/plain": [
       "<Figure size 432x288 with 0 Axes>"
      ]
     },
     "metadata": {},
     "output_type": "display_data"
    }
   ],
   "source": [
    "reg2 = LinearRegression()\n",
    "\n",
    "X = team_predict['spi_dif'].values.reshape(-1,1)\n",
    "y = team_predict['goals_team_str'].values.reshape(-1,1)\n",
    "\n",
    "X = scale(X)\n",
    "\n",
    "prediction_space = np.linspace(min(X), max(X)).reshape(-1,1)\n",
    "reg2.fit(X, y)\n",
    "result = reg2.predict(prediction_space)\n",
    "print(reg2.score(X,y))\n",
    "\n",
    "LinRegDif_score = reg2.score(X,y)\n",
    "\n",
    "# Plot regression line\n",
    "plt.scatter(X,y)\n",
    "plt.plot(prediction_space, result, color='black', linewidth=3)\n",
    "plt.xlabel(\"Differnce in Soccer Power Index between teams\")\n",
    "plt.ylabel(\"Number of goals scored\")\n",
    "plt.show()\n",
    "plt.clf()\n",
    "\n",
    "X_train, X_test, y_train, y_test = train_test_split(X, y, test_size = 0.2, random_state=42)\n",
    "reg2.fit(X_train, y_train)\n",
    "y_pred = reg2.predict(X_test)\n",
    "print(\"R^2: {}\".format(reg2.score(X_test, y_test)))\n",
    "rmse = np.sqrt(mean_squared_error(y_test, y_pred))\n",
    "print(\"Root Mean Squared Error: {}\".format(rmse))\n",
    "\n",
    "cv_scores = cross_val_score(reg, X, y, cv=5)\n",
    "print(cv_scores)"
   ]
  },
  {
   "cell_type": "markdown",
   "metadata": {},
   "source": [
    "Trying with all variables"
   ]
  },
  {
   "cell_type": "code",
   "execution_count": 365,
   "metadata": {
    "scrolled": true
   },
   "outputs": [
    {
     "name": "stdout",
     "output_type": "stream",
     "text": [
      "\n",
      "Predictions\n",
      "\n",
      "[0.32675662 1.51975133 0.62168356 0.56620767 1.08368598 1.33154945\n",
      " 1.79560948 1.6582501  1.23014438 1.36983058 1.04834608 0.63717668\n",
      " 1.57439486 0.88924679 1.24907299 0.91923355 1.2917965  0.98398282\n",
      " 1.43979676 0.82652665 1.01146358 1.81579284 0.69797403]\n",
      "\n",
      "Score\n",
      "\n",
      "0.031644169682671475\n",
      "\n",
      "Coeficients\n",
      "\n",
      "[ 0.0448163  -0.07522524  0.21496231  0.28689699]\n",
      "1.2183181867785104\n"
     ]
    },
    {
     "data": {
      "image/png": "[encoded data removed]",
      "text/plain": [
       "<Figure size 432x288 with 1 Axes>"
      ]
     },
     "metadata": {
      "needs_background": "light"
     },
     "output_type": "display_data"
    },
    {
     "data": {
      "text/plain": [
       "<Figure size 432x288 with 0 Axes>"
      ]
     },
     "metadata": {},
     "output_type": "display_data"
    }
   ],
   "source": [
    "reg_all = LinearRegression()\n",
    "\n",
    "X = team_predict.drop('goals_team_str', axis=1).values\n",
    "y = team_predict['goals_team_str'].values\n",
    "\n",
    "X = scale(X)\n",
    "\n",
    "X_train, X_test, y_train, y_test = train_test_split(X, y, test_size = 0.2, random_state=42)\n",
    "reg_all.fit(X_train, y_train)\n",
    "y_pred = reg_all.predict(X_test)\n",
    "\n",
    "print(\"\\nPredictions\\n\")\n",
    "print(y_pred)\n",
    "print(\"\\nScore\\n\")\n",
    "print(reg_all.score(X_test, y_test))\n",
    "print(\"\\nCoeficients\\n\")\n",
    "print(reg_all.coef_)\n",
    "print(reg_all.intercept_)\n",
    "\n",
    "plt.plot(team_predict.drop('goals_team_str', axis = 1).columns, reg_all.coef_)\n",
    "plt.show()\n",
    "plt.clf()\n",
    "\n",
    "LinReg_score = reg_all.score(X_test, y_test)"
   ]
  },
  {
   "cell_type": "markdown",
   "metadata": {},
   "source": [
    "# Logistic regression"
   ]
  },
  {
   "cell_type": "code",
   "execution_count": 366,
   "metadata": {},
   "outputs": [
    {
     "name": "stdout",
     "output_type": "stream",
     "text": [
      "Melhor score com parametro = 0.39473684210526316\n",
      "{'C': 0.05179474679231213, 'penalty': 'l1'}\n",
      "\n",
      "Predictions\n",
      "\n",
      "[1. 1. 1. 1. 1. 1. 1. 1. 1. 1. 1. 1. 1. 1. 1. 1. 1. 1. 1. 1. 1. 1. 1.]\n",
      "\n",
      "Precision of model = \n",
      "0.391304347826087\n",
      "\n",
      "Confusion Matrix: \n",
      "[[0 0 0 0]\n",
      " [7 9 3 4]\n",
      " [0 0 0 0]\n",
      " [0 0 0 0]]\n",
      "\n",
      "Classification: \n",
      "             precision    recall  f1-score   support\n",
      "\n",
      "        0.0       0.00      0.00      0.00         0\n",
      "        1.0       1.00      0.39      0.56        23\n",
      "        2.0       0.00      0.00      0.00         0\n",
      "        3.0       0.00      0.00      0.00         0\n",
      "\n",
      "avg / total       1.00      0.39      0.56        23\n",
      "\n",
      "Model predicted 1 goal(s) against Fluminense -- Real result = 0 [0=0.273, 1=0.287, 2=0.223, 3+=0.217]\n",
      "\n",
      "Result predicted correctly! 1 goal(s) against Coritiba -- [0=0.273, 1=0.287, 2=0.223, 3+=0.217]\n",
      "\n",
      "Result predicted correctly! 1 goal(s) against Cruzeiro -- [0=0.273, 1=0.287, 2=0.223, 3+=0.217]\n",
      "\n",
      "Model predicted 1 goal(s) against Corinthians -- Real result = 2 [0=0.273, 1=0.287, 2=0.223, 3+=0.217]\n",
      "\n",
      "Result predicted correctly! 1 goal(s) against Botafogo -- [0=0.273, 1=0.287, 2=0.223, 3+=0.217]\n",
      "\n",
      "Model predicted 1 goal(s) against Atlético Paranaense -- Real result = 3+ [0=0.273, 1=0.287, 2=0.223, 3+=0.217]\n",
      "\n",
      "Model predicted 1 goal(s) against Palmeiras -- Real result = 0 [0=0.273, 1=0.287, 2=0.223, 3+=0.217]\n",
      "\n",
      "Result predicted correctly! 1 goal(s) against Ponte Preta -- [0=0.273, 1=0.287, 2=0.223, 3+=0.217]\n",
      "\n",
      "Result predicted correctly! 1 goal(s) against Vítoria -- [0=0.273, 1=0.287, 2=0.223, 3+=0.217]\n",
      "\n",
      "Model predicted 1 goal(s) against Sport Recife -- Real result = 3+ [0=0.273, 1=0.287, 2=0.223, 3+=0.217]\n",
      "\n",
      "Result predicted correctly! 1 goal(s) against Atlético Goianiense -- [0=0.273, 1=0.287, 2=0.223, 3+=0.217]\n",
      "\n",
      "Model predicted 1 goal(s) against São Paulo -- Real result = 2 [0=0.273, 1=0.287, 2=0.223, 3+=0.217]\n",
      "\n",
      "Model predicted 1 goal(s) against Atletico Mineiro -- Real result = 3+ [0=0.273, 1=0.287, 2=0.223, 3+=0.217]\n",
      "\n",
      "Model predicted 1 goal(s) against Vasco da Gama -- Real result = 0 [0=0.273, 1=0.287, 2=0.223, 3+=0.217]\n",
      "\n",
      "Model predicted 1 goal(s) against Chapecoense AF -- Real result = 0 [0=0.273, 1=0.287, 2=0.223, 3+=0.217]\n",
      "\n",
      "Model predicted 1 goal(s) against Bahía -- Real result = 2 [0=0.273, 1=0.287, 2=0.223, 3+=0.217]\n",
      "\n",
      "Result predicted correctly! 1 goal(s) against Grêmio -- [0=0.273, 1=0.287, 2=0.223, 3+=0.217]\n",
      "\n",
      "Result predicted correctly! 1 goal(s) against Flamengo -- [0=0.273, 1=0.287, 2=0.223, 3+=0.217]\n",
      "\n",
      "Model predicted 1 goal(s) against Avaí -- Real result = 0 [0=0.273, 1=0.287, 2=0.223, 3+=0.217]\n",
      "\n",
      "Model predicted 1 goal(s) against Fluminense -- Real result = 0 [0=0.273, 1=0.287, 2=0.223, 3+=0.217]\n",
      "\n",
      "Model predicted 1 goal(s) against Coritiba -- Real result = 0 [0=0.273, 1=0.287, 2=0.223, 3+=0.217]\n",
      "\n",
      "Model predicted 1 goal(s) against Cruzeiro -- Real result = 3+ [0=0.273, 1=0.287, 2=0.223, 3+=0.217]\n",
      "\n",
      "Result predicted correctly! 1 goal(s) against Corinthians -- [0=0.273, 1=0.287, 2=0.223, 3+=0.217]\n",
      "\n"
     ]
    },
    {
     "name": "stderr",
     "output_type": "stream",
     "text": [
      "C:\\Program Files\\Anaconda3\\lib\\site-packages\\sklearn\\metrics\\classification.py:1137: UndefinedMetricWarning: Recall and F-score are ill-defined and being set to 0.0 in labels with no true samples.\n",
      "  'recall', 'true', average, warn_for)\n"
     ]
    }
   ],
   "source": [
    "X = team_predict.drop('goals_team_str', axis=1).values\n",
    "y = team_predict['goals_team_str'].values\n",
    "\n",
    "X = scale(X)\n",
    "\n",
    "#Choosing best parameter for model\n",
    "c_space = np.logspace(-5, 8, 15)\n",
    "param_grid = {'C': c_space, 'penalty': ['l1', 'l2']}\n",
    "reg_log = LogisticRegression()\n",
    "reg_log_cv = GridSearchCV(reg_log, param_grid, cv=5)\n",
    "reg_log_cv.fit(X, y)\n",
    "\n",
    "print(\"Melhor score com parametro = \" + str(reg_log_cv.best_score_))\n",
    "print(reg_log_cv.best_params_)\n",
    "\n",
    "reg_log = LogisticRegression(C = reg_log_cv.best_params_['C'], penalty = reg_log_cv.best_params_['penalty'])\n",
    "\n",
    "X_train, X_test, y_train, y_test = train_test_split(X, y, test_size = 0.2, random_state=42)\n",
    "reg_log.fit(X_train, y_train)\n",
    "y_pred = reg_log.predict(X_test)\n",
    "\n",
    "print(\"\\nPredictions\\n\")\n",
    "print(y_pred)\n",
    "print(\"\\nPrecision of model = \") \n",
    "print(reg_log.score(X_test, y_test))\n",
    "print(\"\\nConfusion Matrix: \")\n",
    "print(confusion_matrix(reg_log.predict(X_test), y_test))\n",
    "print(\"\\nClassification: \")\n",
    "print(classification_report(reg_log.predict(X_test), y_test))\n",
    "\n",
    "LogReg_score = reg_log.score(X_test, y_test)\n",
    "\n",
    "y_pred = reg_log.predict(X_test)\n",
    "# Compute predicted probabilities: y_pred_prob\n",
    "y_pred_prob = reg_log.predict_proba(X_test)\n",
    "\n",
    "adv_teams = team_done_matches['adv_team'].values\n",
    "\n",
    "for i in range(y_pred_prob.shape[0]) :\n",
    "    if y_pred[i] != y_test[i]:\n",
    "        print(\"Model predicted \" + (str(int(y_pred[i])) if y_pred[i]<3 else \"3+\")  + \" goal(s) against \" + adv_teams[i] + \" -- Real result = \" + (str(int(y_test[i])) if y_test[i]<3 else \"3+\") + \" [0=\" + str(round(y_pred_prob[i][0], 3)) + \", 1=\" + str(round(y_pred_prob[i][1], 3)) + \", 2=\" + str(round(y_pred_prob[i][2], 3)) + \", 3+=\" + str(round(y_pred_prob[i][3], 3)) + \"]\" + \"\\n\") \n",
    "    else :\n",
    "        print(\"Result predicted correctly! \" + (str(int(y_pred[i])) if y_pred[i]<3 else \"3+\") + \" goal(s) against \" + adv_teams[i] + \" -- \"+ \"[0=\" + str(round(y_pred_prob[i][0], 3)) + \", 1=\" + str(round(y_pred_prob[i][1], 3)) + \", 2=\" + str(round(y_pred_prob[i][2], 3)) + \", 3+=\" + str(round(y_pred_prob[i][3], 3)) + \"]\" + \"\\n\") "
   ]
  },
  {
   "cell_type": "markdown",
   "metadata": {},
   "source": [
    "# Decision tree model"
   ]
  },
  {
   "cell_type": "code",
   "execution_count": 367,
   "metadata": {},
   "outputs": [
    {
     "name": "stdout",
     "output_type": "stream",
     "text": [
      "Tuned Decision Tree Parameters: {'criterion': 'entropy', 'max_depth': 3, 'max_features': 2, 'min_samples_leaf': 1}\n",
      "Best score is 0.40350877192982454\n",
      "\n",
      "Predictions\n",
      "\n",
      "[0. 1. 0. 0. 1. 1. 1. 1. 1. 1. 0. 0. 1. 0. 3. 0. 1. 0. 1. 0. 0. 3. 0.]\n",
      "\n",
      "Precision of model = \n",
      "0.43478260869565216\n",
      "\n",
      "Confusion Matrix: \n",
      "[[4 4 3 0]\n",
      " [2 5 0 3]\n",
      " [0 0 0 0]\n",
      " [1 0 0 1]]\n",
      "\n",
      "Classification: \n",
      "             precision    recall  f1-score   support\n",
      "\n",
      "        0.0       0.57      0.36      0.44        11\n",
      "        1.0       0.56      0.50      0.53        10\n",
      "        2.0       0.00      0.00      0.00         0\n",
      "        3.0       0.25      0.50      0.33         2\n",
      "\n",
      "avg / total       0.54      0.43      0.47        23\n",
      "\n",
      "Result predicted correctly! 0 goal(s) against Fluminense -- [0=0.8, 1=0.0, 2=0.2, 3+=0.0]\n",
      "\n",
      "Result predicted correctly! 1 goal(s) against Coritiba -- [0=0.286, 1=0.321, 2=0.214, 3+=0.179]\n",
      "\n",
      "Model predicted 0 goal(s) against Cruzeiro -- Real result = 1 [0=0.423, 1=0.423, 2=0.115, 3+=0.038]\n",
      "\n",
      "Model predicted 0 goal(s) against Corinthians -- Real result = 2 [0=0.8, 1=0.0, 2=0.2, 3+=0.0]\n",
      "\n",
      "Result predicted correctly! 1 goal(s) against Botafogo -- [0=0.286, 1=0.321, 2=0.214, 3+=0.179]\n",
      "\n",
      "Model predicted 1 goal(s) against Atlético Paranaense -- Real result = 3+ [0=0.286, 1=0.321, 2=0.214, 3+=0.179]\n",
      "\n",
      "Model predicted 1 goal(s) against Palmeiras -- Real result = 0 [0=0.0, 1=0.6, 2=0.15, 3+=0.25]\n",
      "\n",
      "Result predicted correctly! 1 goal(s) against Ponte Preta -- [0=0.0, 1=0.6, 2=0.15, 3+=0.25]\n",
      "\n",
      "Result predicted correctly! 1 goal(s) against Vítoria -- [0=0.286, 1=0.321, 2=0.214, 3+=0.179]\n",
      "\n",
      "Model predicted 1 goal(s) against Sport Recife -- Real result = 3+ [0=0.286, 1=0.321, 2=0.214, 3+=0.179]\n",
      "\n",
      "Model predicted 0 goal(s) against Atlético Goianiense -- Real result = 1 [0=0.423, 1=0.423, 2=0.115, 3+=0.038]\n",
      "\n",
      "Model predicted 0 goal(s) against São Paulo -- Real result = 2 [0=0.8, 1=0.0, 2=0.2, 3+=0.0]\n",
      "\n",
      "Model predicted 1 goal(s) against Atletico Mineiro -- Real result = 3+ [0=0.0, 1=0.6, 2=0.15, 3+=0.25]\n",
      "\n",
      "Result predicted correctly! 0 goal(s) against Vasco da Gama -- [0=0.423, 1=0.423, 2=0.115, 3+=0.038]\n",
      "\n",
      "Model predicted 3+ goal(s) against Chapecoense AF -- Real result = 0 [0=0.0, 1=0.0, 2=0.0, 3+=1.0]\n",
      "\n",
      "Model predicted 0 goal(s) against Bahía -- Real result = 2 [0=0.423, 1=0.423, 2=0.115, 3+=0.038]\n",
      "\n",
      "Result predicted correctly! 1 goal(s) against Grêmio -- [0=0.0, 1=1.0, 2=0.0, 3+=0.0]\n",
      "\n",
      "Model predicted 0 goal(s) against Flamengo -- Real result = 1 [0=0.423, 1=0.423, 2=0.115, 3+=0.038]\n",
      "\n",
      "Model predicted 1 goal(s) against Avaí -- Real result = 0 [0=0.286, 1=0.321, 2=0.214, 3+=0.179]\n",
      "\n",
      "Result predicted correctly! 0 goal(s) against Fluminense -- [0=0.423, 1=0.423, 2=0.115, 3+=0.038]\n",
      "\n",
      "Result predicted correctly! 0 goal(s) against Coritiba -- [0=0.423, 1=0.423, 2=0.115, 3+=0.038]\n",
      "\n",
      "Result predicted correctly! 3+ goal(s) against Cruzeiro -- [0=0.0, 1=0.0, 2=0.0, 3+=1.0]\n",
      "\n",
      "Model predicted 0 goal(s) against Corinthians -- Real result = 1 [0=0.423, 1=0.423, 2=0.115, 3+=0.038]\n",
      "\n"
     ]
    },
    {
     "name": "stderr",
     "output_type": "stream",
     "text": [
      "C:\\Program Files\\Anaconda3\\lib\\site-packages\\sklearn\\metrics\\classification.py:1137: UndefinedMetricWarning: Recall and F-score are ill-defined and being set to 0.0 in labels with no true samples.\n",
      "  'recall', 'true', average, warn_for)\n"
     ]
    }
   ],
   "source": [
    "X = team_predict.drop('goals_team_str', axis=1).values\n",
    "y = team_predict['goals_team_str'].values\n",
    "\n",
    "X = scale(X)\n",
    "\n",
    "#Finding best parameters for Decision tree\n",
    "# Setup the parameters and distributions to sample from: param_dist\n",
    "param_dist = {\"max_depth\": [3, None],\n",
    "              \"max_features\": randint(1, 5),\n",
    "              \"min_samples_leaf\": randint(1, 9),\n",
    "              \"criterion\": [\"gini\", \"entropy\"]}\n",
    "# Instantiate a Decision Tree classifier: tree\n",
    "tree = DecisionTreeClassifier()\n",
    "# Instantiate the RandomizedSearchCV object: tree_cv\n",
    "tree_cv = RandomizedSearchCV(tree, param_dist, cv=5)\n",
    "# Fit it to the data\n",
    "tree_cv.fit(X,y)\n",
    "\n",
    "# Print the tuned parameters and score\n",
    "print(\"Tuned Decision Tree Parameters: {}\".format(tree_cv.best_params_))\n",
    "print(\"Best score is {}\".format(tree_cv.best_score_))\n",
    "\n",
    "tree = DecisionTreeClassifier(criterion = tree_cv.best_params_['criterion'], max_depth = tree_cv.best_params_['max_depth'], max_features = tree_cv.best_params_['max_features'], min_samples_leaf = tree_cv.best_params_['min_samples_leaf'])\n",
    "\n",
    "X_train, X_test, y_train, y_test = train_test_split(X, y, test_size = 0.2, random_state=42)\n",
    "tree.fit(X_train, y_train)\n",
    "y_pred = tree.predict(X_test)\n",
    "\n",
    "print(\"\\nPredictions\\n\")\n",
    "print(y_pred)\n",
    "print(\"\\nPrecision of model = \") \n",
    "print(tree.score(X_test, y_test))\n",
    "print(\"\\nConfusion Matrix: \")\n",
    "print(confusion_matrix(tree.predict(X_test), y_test))\n",
    "print(\"\\nClassification: \")\n",
    "print(classification_report(tree.predict(X_test), y_test))\n",
    "\n",
    "Tree_score = tree.score(X_test, y_test)\n",
    "\n",
    "# Compute predicted probabilities: y_pred_prob\n",
    "y_pred_prob = tree.predict_proba(X_test)\n",
    "\n",
    "adv_teams = team_done_matches['adv_team'].values\n",
    "\n",
    "for i in range(y_pred_prob.shape[0]) :\n",
    "    if y_pred[i] != y_test[i]:\n",
    "        print(\"Model predicted \" + (str(int(y_pred[i])) if y_pred[i]<3 else \"3+\")  + \" goal(s) against \" + adv_teams[i] + \" -- Real result = \" + (str(int(y_test[i])) if y_test[i]<3 else \"3+\") + \" [0=\" + str(round(y_pred_prob[i][0], 3)) + \", 1=\" + str(round(y_pred_prob[i][1], 3)) + \", 2=\" + str(round(y_pred_prob[i][2], 3)) + \", 3+=\" + str(round(y_pred_prob[i][3], 3)) + \"]\" + \"\\n\") \n",
    "    else :\n",
    "        print(\"Result predicted correctly! \" + (str(int(y_pred[i])) if y_pred[i]<3 else \"3+\") + \" goal(s) against \" + adv_teams[i] + \" -- \"+ \"[0=\" + str(round(y_pred_prob[i][0], 3)) + \", 1=\" + str(round(y_pred_prob[i][1], 3)) + \", 2=\" + str(round(y_pred_prob[i][2], 3)) + \", 3+=\" + str(round(y_pred_prob[i][3], 3)) + \"]\" + \"\\n\") "
   ]
  },
  {
   "cell_type": "markdown",
   "metadata": {},
   "source": [
    "# Ridge model"
   ]
  },
  {
   "cell_type": "code",
   "execution_count": 368,
   "metadata": {},
   "outputs": [
    {
     "name": "stdout",
     "output_type": "stream",
     "text": [
      "Tuned Decision Tree Parameters: {'alpha': 1.0}\n",
      "Best score is 0.002606017031404352\n",
      "\n",
      "Predictions\n",
      "\n",
      "[0.66226024 1.42565294 0.84420682 0.76006255 1.13692448 1.31788156\n",
      " 1.56011208 1.50650332 1.23578667 1.32892049 1.11144206 0.85154668\n",
      " 1.48167164 1.03737433 1.24164904 1.03726667 1.22671327 1.05265795\n",
      " 1.39061116 0.97365562 1.07319725 1.64238921 0.89987435]\n",
      "\n",
      "Precision of model = \n",
      "0.06377380667195609\n",
      "\n",
      "R^2: 0.06377380667195609\n",
      "Root Mean Squared Error: 1.0149018637472587\n"
     ]
    }
   ],
   "source": [
    "X = team_predict.drop('goals_team_str', axis=1).values\n",
    "y = team_predict['goals_team_str'].values\n",
    "\n",
    "X = scale(X)\n",
    "\n",
    "# Setup the parameters and distributions to sample from: param_dist\n",
    "linear_space = np.linspace(0, 1)\n",
    "\n",
    "param_dist = {\"alpha\": linear_space}\n",
    "\n",
    "ridge_reg = Ridge()\n",
    "\n",
    "ridge_reg_cv = GridSearchCV(ridge_reg, param_dist, cv=5)\n",
    "\n",
    "ridge_reg_cv.fit(X,y)\n",
    "\n",
    "# Print the tuned parameters and score\n",
    "print(\"Tuned Decision Tree Parameters: {}\".format(ridge_reg_cv.best_params_))\n",
    "print(\"Best score is {}\".format(ridge_reg_cv.best_score_))\n",
    "\n",
    "ridge_reg = Ridge(alpha = ridge_reg_cv.best_params_['alpha'], normalize = True)\n",
    "\n",
    "X_train, X_test, y_train, y_test = train_test_split(X, y, test_size = 0.2, random_state=42)\n",
    "ridge_reg.fit(X_train, y_train)\n",
    "y_pred = ridge_reg.predict(X_test)\n",
    "\n",
    "print(\"\\nPredictions\\n\")\n",
    "print(y_pred)\n",
    "print(\"\\nPrecision of model = \") \n",
    "print(ridge_reg.score(X_test, y_test))\n",
    "\n",
    "print(\"\\nR^2: {}\".format(ridge_reg.score(X_test, y_test)))\n",
    "rmse = np.sqrt(mean_squared_error(y_test, y_pred))\n",
    "print(\"Root Mean Squared Error: {}\".format(rmse))\n",
    "\n",
    "Ridge_score = ridge_reg.score(X_test, y_test)"
   ]
  },
  {
   "cell_type": "markdown",
   "metadata": {},
   "source": [
    "# Lasso model"
   ]
  },
  {
   "cell_type": "code",
   "execution_count": 374,
   "metadata": {
    "scrolled": true
   },
   "outputs": [
    {
     "name": "stderr",
     "output_type": "stream",
     "text": [
      "C:\\Program Files\\Anaconda3\\lib\\site-packages\\sklearn\\model_selection\\_validation.py:458: UserWarning: With alpha=0, this algorithm does not converge well. You are advised to use the LinearRegression estimator\n",
      "  estimator.fit(X_train, y_train, **fit_params)\n",
      "C:\\Program Files\\Anaconda3\\lib\\site-packages\\sklearn\\linear_model\\coordinate_descent.py:477: UserWarning: Coordinate descent with no regularization may lead to unexpected results and is discouraged.\n",
      "  positive)\n",
      "C:\\Program Files\\Anaconda3\\lib\\site-packages\\sklearn\\linear_model\\coordinate_descent.py:491: ConvergenceWarning: Objective did not converge. You might want to increase the number of iterations. Fitting data with very small alpha may cause precision problems.\n",
      "  ConvergenceWarning)\n",
      "C:\\Program Files\\Anaconda3\\lib\\site-packages\\sklearn\\model_selection\\_validation.py:458: UserWarning: With alpha=0, this algorithm does not converge well. You are advised to use the LinearRegression estimator\n",
      "  estimator.fit(X_train, y_train, **fit_params)\n",
      "C:\\Program Files\\Anaconda3\\lib\\site-packages\\sklearn\\linear_model\\coordinate_descent.py:477: UserWarning: Coordinate descent with no regularization may lead to unexpected results and is discouraged.\n",
      "  positive)\n",
      "C:\\Program Files\\Anaconda3\\lib\\site-packages\\sklearn\\linear_model\\coordinate_descent.py:491: ConvergenceWarning: Objective did not converge. You might want to increase the number of iterations. Fitting data with very small alpha may cause precision problems.\n",
      "  ConvergenceWarning)\n",
      "C:\\Program Files\\Anaconda3\\lib\\site-packages\\sklearn\\model_selection\\_validation.py:458: UserWarning: With alpha=0, this algorithm does not converge well. You are advised to use the LinearRegression estimator\n",
      "  estimator.fit(X_train, y_train, **fit_params)\n",
      "C:\\Program Files\\Anaconda3\\lib\\site-packages\\sklearn\\linear_model\\coordinate_descent.py:477: UserWarning: Coordinate descent with no regularization may lead to unexpected results and is discouraged.\n",
      "  positive)\n",
      "C:\\Program Files\\Anaconda3\\lib\\site-packages\\sklearn\\linear_model\\coordinate_descent.py:491: ConvergenceWarning: Objective did not converge. You might want to increase the number of iterations. Fitting data with very small alpha may cause precision problems.\n",
      "  ConvergenceWarning)\n",
      "C:\\Program Files\\Anaconda3\\lib\\site-packages\\sklearn\\model_selection\\_validation.py:458: UserWarning: With alpha=0, this algorithm does not converge well. You are advised to use the LinearRegression estimator\n",
      "  estimator.fit(X_train, y_train, **fit_params)\n",
      "C:\\Program Files\\Anaconda3\\lib\\site-packages\\sklearn\\linear_model\\coordinate_descent.py:477: UserWarning: Coordinate descent with no regularization may lead to unexpected results and is discouraged.\n",
      "  positive)\n",
      "C:\\Program Files\\Anaconda3\\lib\\site-packages\\sklearn\\linear_model\\coordinate_descent.py:491: ConvergenceWarning: Objective did not converge. You might want to increase the number of iterations. Fitting data with very small alpha may cause precision problems.\n",
      "  ConvergenceWarning)\n",
      "C:\\Program Files\\Anaconda3\\lib\\site-packages\\sklearn\\model_selection\\_validation.py:458: UserWarning: With alpha=0, this algorithm does not converge well. You are advised to use the LinearRegression estimator\n",
      "  estimator.fit(X_train, y_train, **fit_params)\n",
      "C:\\Program Files\\Anaconda3\\lib\\site-packages\\sklearn\\linear_model\\coordinate_descent.py:477: UserWarning: Coordinate descent with no regularization may lead to unexpected results and is discouraged.\n",
      "  positive)\n",
      "C:\\Program Files\\Anaconda3\\lib\\site-packages\\sklearn\\linear_model\\coordinate_descent.py:491: ConvergenceWarning: Objective did not converge. You might want to increase the number of iterations. Fitting data with very small alpha may cause precision problems.\n",
      "  ConvergenceWarning)\n"
     ]
    },
    {
     "name": "stdout",
     "output_type": "stream",
     "text": [
      "Tuned Decision Tree Parameters: {'alpha': 0.1020408163265306}\n",
      "Best score is 0.04460650180747582\n",
      "\n",
      "Predictions\n",
      "\n",
      "[1.24175824 1.24175824 1.24175824 1.24175824 1.24175824 1.24175824\n",
      " 1.24175824 1.24175824 1.24175824 1.24175824 1.24175824 1.24175824\n",
      " 1.24175824 1.24175824 1.24175824 1.24175824 1.24175824 1.24175824\n",
      " 1.24175824 1.24175824 1.24175824 1.24175824 1.24175824]\n",
      "\n",
      "Precision of model = \n",
      "-0.004183800037430352\n",
      "\n",
      "R^2: -0.004183800037430352\n",
      "Root Mean Squared Error: 1.051090865171263\n"
     ]
    }
   ],
   "source": [
    "X = team_predict.drop('goals_team_str', axis=1).values\n",
    "y = team_predict['goals_team_str'].values\n",
    "\n",
    "X = scale(X)\n",
    "\n",
    "# Setup the parameters and distributions to sample from: param_dist\n",
    "linear_space = np.linspace(0, 1)\n",
    "\n",
    "param_dist = {\"alpha\": linear_space}\n",
    "\n",
    "lasso_reg = Lasso()\n",
    "\n",
    "lasso_reg_cv = GridSearchCV(lasso_reg, param_dist, cv=5)\n",
    "\n",
    "lasso_reg_cv.fit(X,y)\n",
    "\n",
    "# Print the tuned parameters and score\n",
    "print(\"Tuned Decision Tree Parameters: {}\".format(lasso_reg_cv.best_params_))\n",
    "print(\"Best score is {}\".format(lasso_reg_cv.best_score_))\n",
    "\n",
    "lasso_reg = Lasso(normalize = True)\n",
    "\n",
    "X_train, X_test, y_train, y_test = train_test_split(X, y, test_size = 0.2, random_state=42)\n",
    "lasso_reg.fit(X_train, y_train)\n",
    "y_pred = lasso_reg.predict(X_test)\n",
    "\n",
    "print(\"\\nPredictions\\n\")\n",
    "print(y_pred)\n",
    "print(\"\\nPrecision of model = \") \n",
    "print(lasso_reg.score(X_test, y_test))\n",
    "\n",
    "print(\"\\nR^2: {}\".format(lasso_reg.score(X_test, y_test)))\n",
    "rmse = np.sqrt(mean_squared_error(y_test, y_pred))\n",
    "print(\"Root Mean Squared Error: {}\".format(rmse))\n",
    "\n",
    "Lasso_score = lasso_reg.score(X_test, y_test)"
   ]
  },
  {
   "cell_type": "markdown",
   "metadata": {},
   "source": [
    "# Suport vector machine model"
   ]
  },
  {
   "cell_type": "code",
   "execution_count": 370,
   "metadata": {},
   "outputs": [
    {
     "name": "stdout",
     "output_type": "stream",
     "text": [
      "Melhor score com parametro = 0.39473684210526316\n",
      "{'C': 1e-05}\n",
      "\n",
      "Predictions\n",
      "\n",
      "[0. 1. 1. 1. 1. 1. 1. 1. 1. 1. 1. 1. 1. 1. 1. 1. 1. 1. 1. 1. 1. 3. 1.]\n",
      "\n",
      "Precision of model = \n",
      "0.4782608695652174\n",
      "\n",
      "Confusion Matrix: \n",
      "[[1 0 0 0]\n",
      " [6 9 3 3]\n",
      " [0 0 0 0]\n",
      " [0 0 0 1]]\n",
      "\n",
      "Classification: \n",
      "             precision    recall  f1-score   support\n",
      "\n",
      "        0.0       0.14      1.00      0.25         1\n",
      "        1.0       1.00      0.43      0.60        21\n",
      "        2.0       0.00      0.00      0.00         0\n",
      "        3.0       0.25      1.00      0.40         1\n",
      "\n",
      "avg / total       0.93      0.48      0.58        23\n",
      "\n"
     ]
    },
    {
     "name": "stderr",
     "output_type": "stream",
     "text": [
      "C:\\Program Files\\Anaconda3\\lib\\site-packages\\sklearn\\metrics\\classification.py:1137: UndefinedMetricWarning: Recall and F-score are ill-defined and being set to 0.0 in labels with no true samples.\n",
      "  'recall', 'true', average, warn_for)\n"
     ]
    }
   ],
   "source": [
    "X = team_predict.drop('goals_team_str', axis=1).values\n",
    "y = team_predict['goals_team_str'].values\n",
    "\n",
    "X = scale(X)\n",
    "\n",
    "#Choosing best parameter for model\n",
    "c_space = np.logspace(-5, 8, 15)\n",
    "param_grid = {'C': c_space}\n",
    "reg_svc = SVC()\n",
    "reg_svc_cv = GridSearchCV(reg_svc, param_grid, cv=5)\n",
    "reg_svc_cv.fit(X, y)\n",
    "\n",
    "print(\"Melhor score com parametro = \" + str(reg_svc_cv.best_score_))\n",
    "print(reg_svc_cv.best_params_)\n",
    "\n",
    "svc_log = LogisticRegression(C = reg_svc_cv.best_params_['C'])\n",
    "\n",
    "X_train, X_test, y_train, y_test = train_test_split(X, y, test_size = 0.2, random_state=42)\n",
    "reg_svc.fit(X_train, y_train)\n",
    "y_pred = reg_svc.predict(X_test)\n",
    "\n",
    "print(\"\\nPredictions\\n\")\n",
    "print(y_pred)\n",
    "print(\"\\nPrecision of model = \") \n",
    "print(reg_svc.score(X_test, y_test))\n",
    "print(\"\\nConfusion Matrix: \")\n",
    "print(confusion_matrix(reg_svc.predict(X_test), y_test))\n",
    "print(\"\\nClassification: \")\n",
    "print(classification_report(reg_svc.predict(X_test), y_test))\n",
    "\n",
    "SVM_score = reg_svc.score(X_test, y_test)"
   ]
  },
  {
   "cell_type": "code",
   "execution_count": 371,
   "metadata": {},
   "outputs": [
    {
     "name": "stdout",
     "output_type": "stream",
     "text": [
      "Lasso_score: -0.004183800037430352\n",
      "LinRegDif_score: 0.026978962975829024\n",
      "LinReg_score: 0.031644169682671475\n",
      "Ridge_score: 0.06377380667195609\n",
      "LinRegProb_score: 0.12419313108362762\n",
      "LogReg_score: 0.391304347826087\n",
      "KNN_score: 0.391304347826087\n",
      "Tree_score: 0.43478260869565216\n",
      "SVM_score: 0.4782608695652174\n"
     ]
    }
   ],
   "source": [
    "array_scores = {'SVM_score': SVM_score, 'Ridge_score': Ridge_score, 'Lasso_score': Lasso_score, 'LogReg_score': LogReg_score, 'Tree_score': Tree_score, 'LinRegDif_score': LinRegDif_score, 'LinRegProb_score': LinRegProb_score, 'LinReg_score': LinReg_score, 'KNN_score': KNN_score}\n",
    "ordered_scores = {k: v for k, v in sorted(array_scores.items(), key=lambda item: item[1])}\n",
    "for index, value in ordered_scores.items():\n",
    "    print(index + \": \" + str(value))"
   ]
  },
  {
   "cell_type": "code",
   "execution_count": null,
   "metadata": {},
   "outputs": [],
   "source": []
  }
 ],
 "metadata": {
  "kernelspec": {
   "display_name": "Python 3",
   "language": "python",
   "name": "python3"
  },
  "language_info": {
   "codemirror_mode": {
    "name": "ipython",
    "version": 3
   },
   "file_extension": ".py",
   "mimetype": "text/x-python",
   "name": "python",
   "nbconvert_exporter": "python",
   "pygments_lexer": "ipython3",
   "version": "3.7.0"
  }
 },
 "nbformat": 4,
 "nbformat_minor": 2
}
