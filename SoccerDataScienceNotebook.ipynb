{
 "cells": [
  {
   "cell_type": "code",
   "execution_count": 516,
   "metadata": {},
   "outputs": [],
   "source": [
    "import pandas as pd\n",
    "import numpy as np\n",
    "import matplotlib.pyplot as plt\n",
    "import datetime\n",
    "from sklearn.neighbors import KNeighborsClassifier\n",
    "from sklearn.model_selection import train_test_split \n",
    "from sklearn.linear_model import LinearRegression\n",
    "from sklearn.metrics import mean_squared_error\n",
    "from sklearn.model_selection import cross_val_score\n",
    "from sklearn.linear_model import Lasso\n",
    "from sklearn.metrics import classification_report, confusion_matrix\n",
    "from sklearn.linear_model import LogisticRegression\n",
    "from sklearn.metrics import roc_curve\n",
    "from sklearn.model_selection import GridSearchCV\n",
    "from sklearn.tree import DecisionTreeClassifier\n",
    "from sklearn.model_selection import RandomizedSearchCV\n",
    "import math\n",
    "import seaborn as sns\n",
    "from scipy.stats import randint"
   ]
  },
  {
   "cell_type": "code",
   "execution_count": 517,
   "metadata": {},
   "outputs": [],
   "source": [
    "teamname = \"Arsenal\"\n",
    "\n",
    "matches = pd.read_csv(\"spi_matches.csv\")\n",
    "if(teamname == \"all\") :\n",
    "    team_matches = matches\n",
    "else :\n",
    "    team_matches = matches[np.logical_or(matches['team1'] == teamname, matches['team2'] == teamname)]\n",
    "team_matches_data = team_matches.loc[:, ['date', 'team1', 'team2', 'score1', 'score2', 'prob1', 'prob2', 'importance1', 'importance2', 'spi1', 'spi2']]"
   ]
  },
  {
   "cell_type": "markdown",
   "metadata": {},
   "source": [
    "# Cleaning dataset and creating columns for team data "
   ]
  },
  {
   "cell_type": "code",
   "execution_count": 530,
   "metadata": {},
   "outputs": [
    {
     "name": "stdout",
     "output_type": "stream",
     "text": [
      "2016-08-14 : Arsenal 3x4 Liverpool\n",
      "2016-08-20 : Leicester City 0x0 Arsenal\n",
      "2016-08-27 : Watford 1x3 Arsenal\n",
      "2016-09-10 : Arsenal 2x1 Southampton\n",
      "2016-09-13 : Paris Saint-Germain 1x1 Arsenal\n",
      "2016-09-17 : Hull City 1x4 Arsenal\n",
      "2016-09-24 : Arsenal 3x0 Chelsea\n",
      "2016-09-28 : Arsenal 2x0 Basel\n",
      "2016-10-02 : Burnley 0x1 Arsenal\n",
      "2016-10-15 : Arsenal 3x2 Swansea City\n",
      "2016-10-19 : Arsenal 6x0 Ludogorets\n",
      "2016-10-22 : Arsenal 0x0 Middlesbrough\n",
      "2016-10-29 : Sunderland 1x4 Arsenal\n",
      "2016-11-01 : Ludogorets 2x3 Arsenal\n",
      "2016-11-06 : Arsenal 1x1 Tottenham Hotspur\n",
      "2016-11-19 : Manchester United 1x1 Arsenal\n",
      "2016-11-23 : Arsenal 2x2 Paris Saint-Germain\n",
      "2016-11-27 : Arsenal 3x1 AFC Bournemouth\n",
      "2016-12-03 : West Ham United 1x5 Arsenal\n",
      "2016-12-06 : Basel 1x4 Arsenal\n",
      "2016-12-10 : Arsenal 3x1 Stoke City\n",
      "2016-12-13 : Everton 2x1 Arsenal\n",
      "2016-12-18 : Manchester City 2x1 Arsenal\n",
      "2016-12-26 : Arsenal 1x0 West Bromwich Albion\n",
      "2017-01-01 : Arsenal 2x0 Crystal Palace\n",
      "2017-01-03 : AFC Bournemouth 3x3 Arsenal\n",
      "2017-01-14 : Swansea City 0x4 Arsenal\n",
      "2017-01-22 : Arsenal 2x1 Burnley\n",
      "2017-01-31 : Arsenal 1x2 Watford\n",
      "2017-02-04 : Chelsea 3x1 Arsenal\n",
      "2017-02-11 : Arsenal 2x0 Hull City\n",
      "2017-02-15 : Bayern Munich 5x1 Arsenal\n",
      "2017-03-04 : Liverpool 3x1 Arsenal\n",
      "2017-03-07 : Arsenal 1x5 Bayern Munich\n",
      "2017-03-18 : West Bromwich Albion 3x1 Arsenal\n",
      "2017-04-02 : Arsenal 2x2 Manchester City\n",
      "2017-04-05 : Arsenal 3x0 West Ham United\n",
      "2017-04-10 : Crystal Palace 3x0 Arsenal\n",
      "2017-04-17 : Middlesbrough 1x2 Arsenal\n",
      "2017-04-26 : Arsenal 1x0 Leicester City\n",
      "2017-04-30 : Tottenham Hotspur 2x0 Arsenal\n",
      "2017-05-07 : Arsenal 2x0 Manchester United\n",
      "2017-05-10 : Southampton 0x2 Arsenal\n",
      "2017-05-13 : Stoke City 1x4 Arsenal\n",
      "2017-05-16 : Arsenal 2x0 Sunderland\n",
      "2017-05-21 : Arsenal 3x1 Everton\n",
      "2017-08-11 : Arsenal 4x3 Leicester City\n",
      "2017-08-19 : Stoke City 1x0 Arsenal\n",
      "2017-08-27 : Liverpool 4x0 Arsenal\n",
      "2017-09-09 : Arsenal 3x0 AFC Bournemouth\n",
      "2017-09-14 : Arsenal 3x1 FC Cologne\n",
      "2017-09-17 : Chelsea 0x0 Arsenal\n",
      "2017-09-25 : Arsenal 2x0 West Bromwich Albion\n",
      "2017-09-28 : BATE Borisov 2x4 Arsenal\n",
      "2017-10-01 : Arsenal 2x0 Brighton and Hove Albion\n",
      "2017-10-14 : Watford 2x1 Arsenal\n",
      "2017-10-19 : Red Star Belgrade 0x1 Arsenal\n",
      "2017-10-22 : Everton 2x5 Arsenal\n",
      "2017-10-28 : Arsenal 2x1 Swansea City\n",
      "2017-11-02 : Arsenal 0x0 Red Star Belgrade\n",
      "2017-11-05 : Manchester City 3x1 Arsenal\n",
      "2017-11-18 : Arsenal 2x0 Tottenham Hotspur\n",
      "2017-11-23 : FC Cologne 1x0 Arsenal\n",
      "2017-11-26 : Burnley 0x1 Arsenal\n",
      "2017-11-29 : Arsenal 5x0 Huddersfield Town\n",
      "2017-12-02 : Arsenal 1x3 Manchester United\n",
      "2017-12-07 : Arsenal 6x0 BATE Borisov\n",
      "2017-12-10 : Southampton 1x1 Arsenal\n",
      "2017-12-13 : West Ham United 0x0 Arsenal\n",
      "2017-12-16 : Arsenal 1x0 Newcastle\n",
      "2017-12-22 : Arsenal 3x3 Liverpool\n",
      "2017-12-28 : Crystal Palace 2x3 Arsenal\n",
      "2017-12-31 : West Bromwich Albion 1x1 Arsenal\n",
      "2018-01-03 : Arsenal 2x2 Chelsea\n",
      "2018-01-14 : AFC Bournemouth 2x1 Arsenal\n",
      "2018-01-20 : Arsenal 4x1 Crystal Palace\n",
      "2018-01-30 : Swansea City 3x1 Arsenal\n",
      "2018-02-03 : Arsenal 5x1 Everton\n",
      "2018-02-10 : Tottenham Hotspur 1x0 Arsenal\n",
      "2018-02-15 : Östersunds FK 0x3 Arsenal\n",
      "2018-02-22 : Arsenal 1x2 Östersunds FK\n",
      "2018-03-01 : Arsenal 0x3 Manchester City\n",
      "2018-03-04 : Brighton and Hove Albion 2x1 Arsenal\n",
      "2018-03-08 : AC Milan 0x2 Arsenal\n",
      "2018-03-11 : Arsenal 3x0 Watford\n",
      "2018-03-15 : Arsenal 3x1 AC Milan\n",
      "2018-04-01 : Arsenal 3x0 Stoke City\n",
      "2018-04-05 : Arsenal 4x1 CSKA Moscow\n",
      "2018-04-08 : Arsenal 3x2 Southampton\n",
      "2018-04-12 : CSKA Moscow 2x2 Arsenal\n",
      "2018-04-15 : Newcastle 2x1 Arsenal\n",
      "2018-04-22 : Arsenal 4x1 West Ham United\n",
      "2018-04-26 : Arsenal 1x1 Atletico Madrid\n",
      "2018-04-29 : Manchester United 2x1 Arsenal\n",
      "2018-05-03 : Atletico Madrid 1x0 Arsenal\n",
      "2018-05-06 : Arsenal 5x0 Burnley\n",
      "2018-05-09 : Leicester City 3x1 Arsenal\n",
      "2018-05-13 : Huddersfield Town 0x1 Arsenal\n",
      "2018-08-12 : Arsenal 0x2 Manchester City\n",
      "2018-08-18 : Chelsea 3x2 Arsenal\n",
      "2018-08-25 : Arsenal 3x1 West Ham United\n",
      "2018-09-02 : Cardiff City 2x3 Arsenal\n",
      "2018-09-15 : Newcastle 1x2 Arsenal\n",
      "2018-09-20 : Arsenal 4x2 Vorskla\n",
      "2018-09-23 : Arsenal 2x0 Everton\n",
      "2018-09-29 : Arsenal 2x0 Watford\n",
      "2018-10-04 : FK Qarabag 0x3 Arsenal\n",
      "2018-10-07 : Fulham 1x5 Arsenal\n",
      "2018-10-22 : Arsenal 3x1 Leicester City\n",
      "2018-10-25 : Sporting CP 0x1 Arsenal\n",
      "2018-10-28 : Crystal Palace 2x2 Arsenal\n",
      "2018-11-03 : Arsenal 1x1 Liverpool\n",
      "2018-11-08 : Arsenal 0x0 Sporting CP\n",
      "2018-11-11 : Arsenal 1x1 Wolverhampton\n",
      "2018-11-25 : AFC Bournemouth 1x2 Arsenal\n",
      "2018-11-29 : Vorskla 0x3 Arsenal\n",
      "2018-12-02 : Arsenal 4x2 Tottenham Hotspur\n",
      "2018-12-05 : Manchester United 2x2 Arsenal\n",
      "2018-12-08 : Arsenal 1x0 Huddersfield Town\n",
      "2018-12-13 : Arsenal 1x0 FK Qarabag\n",
      "2018-12-16 : Southampton 3x2 Arsenal\n",
      "2018-12-22 : Arsenal 3x1 Burnley\n",
      "2018-12-26 : Brighton and Hove Albion 1x1 Arsenal\n",
      "2018-12-29 : Liverpool 5x1 Arsenal\n",
      "2019-01-01 : Arsenal 4x1 Fulham\n",
      "2019-01-12 : West Ham United 1x0 Arsenal\n",
      "2019-01-19 : Arsenal 2x0 Chelsea\n",
      "2019-01-29 : Arsenal 2x1 Cardiff City\n",
      "2019-02-03 : Manchester City 3x1 Arsenal\n",
      "2019-02-09 : Huddersfield Town 1x2 Arsenal\n",
      "2019-02-14 : BATE Borisov 1x0 Arsenal\n",
      "2019-02-21 : Arsenal 3x0 BATE Borisov\n",
      "2019-02-24 : Arsenal 2x0 Southampton\n",
      "2019-02-27 : Arsenal 5x1 AFC Bournemouth\n",
      "2019-03-02 : Tottenham Hotspur 1x1 Arsenal\n",
      "2019-03-07 : Stade Rennes 3x1 Arsenal\n",
      "2019-03-10 : Arsenal 2x0 Manchester United\n",
      "2019-03-14 : Arsenal 3x0 Stade Rennes\n",
      "2019-04-01 : Arsenal 2x0 Newcastle\n",
      "2019-04-07 : Everton 1x0 Arsenal\n",
      "2019-04-11 : Arsenal 2x0 Napoli\n",
      "2019-04-15 : Watford 0x1 Arsenal\n",
      "2019-04-18 : Napoli 0x1 Arsenal\n",
      "2019-04-21 : Arsenal 2x3 Crystal Palace\n",
      "2019-04-24 : Wolverhampton 3x1 Arsenal\n",
      "2019-04-28 : Leicester City 3x0 Arsenal\n",
      "2019-05-02 : Arsenal 3x1 Valencia\n",
      "2019-05-05 : Arsenal 1x1 Brighton and Hove Albion\n",
      "2019-05-09 : Valencia 2x4 Arsenal\n",
      "2019-05-12 : Burnley 1x3 Arsenal\n",
      "2019-05-29 : Chelsea 4x1 Arsenal\n",
      "2019-08-11 : Newcastle 0x1 Arsenal\n",
      "2019-08-17 : Arsenal 2x1 Burnley\n",
      "2019-08-24 : Liverpool 3x1 Arsenal\n",
      "2019-09-01 : Arsenal 2x2 Tottenham Hotspur\n",
      "2019-09-15 : Watford 2x2 Arsenal\n",
      "2019-09-19 : Eintracht Frankfurt 0x3 Arsenal\n",
      "2019-09-22 : Arsenal 3x2 Aston Villa\n",
      "2019-09-30 : Manchester United 1x1 Arsenal\n",
      "2019-10-03 : Arsenal 4x0 Standard Liege\n",
      "2019-10-06 : Arsenal 1x0 AFC Bournemouth\n",
      "2019-10-21 : Sheffield United 1x0 Arsenal\n",
      "2019-10-24 : Arsenal 3x2 Guimaraes\n",
      "2019-10-27 : Arsenal 2x2 Crystal Palace\n",
      "2019-11-02 : Arsenal 1x1 Wolverhampton\n",
      "2019-11-06 : Guimaraes 1x1 Arsenal\n",
      "2019-11-09 : Leicester City 2x0 Arsenal\n",
      "2019-11-23 : Arsenal 2x2 Southampton\n",
      "2019-11-28 : Arsenal 1x2 Eintracht Frankfurt\n",
      "2019-12-01 : Norwich City 2x2 Arsenal\n",
      "2019-12-05 : Arsenal 1x2 Brighton and Hove Albion\n",
      "2019-12-09 : West Ham United 1x3 Arsenal\n",
      "2019-12-12 : Standard Liege nxn Arsenal\n",
      "2019-12-15 : Arsenal nxn Manchester City\n",
      "2019-12-21 : Everton nxn Arsenal\n",
      "2019-12-26 : AFC Bournemouth nxn Arsenal\n",
      "2019-12-29 : Arsenal nxn Chelsea\n",
      "2020-01-01 : Arsenal nxn Manchester United\n",
      "2020-01-11 : Crystal Palace nxn Arsenal\n",
      "2020-01-18 : Arsenal nxn Sheffield United\n",
      "2020-01-21 : Chelsea nxn Arsenal\n",
      "2020-02-01 : Burnley nxn Arsenal\n",
      "2020-02-08 : Arsenal nxn Newcastle\n",
      "2020-02-22 : Arsenal nxn Everton\n",
      "2020-02-29 : Manchester City nxn Arsenal\n",
      "2020-03-07 : Arsenal nxn West Ham United\n",
      "2020-03-14 : Brighton and Hove Albion nxn Arsenal\n",
      "2020-03-21 : Southampton nxn Arsenal\n",
      "2020-04-04 : Arsenal nxn Norwich City\n",
      "2020-04-11 : Wolverhampton nxn Arsenal\n",
      "2020-04-18 : Arsenal nxn Leicester City\n",
      "2020-04-25 : Tottenham Hotspur nxn Arsenal\n",
      "2020-05-02 : Arsenal nxn Liverpool\n",
      "2020-05-09 : Aston Villa nxn Arsenal\n",
      "2020-05-17 : Arsenal nxn Watford\n"
     ]
    }
   ],
   "source": [
    "for label, row in team_matches_data.iterrows() :\n",
    "    print(str(row[\"date\"]) + \" : \" + str(row[\"team1\"]) + \" \" + str(row[\"score1\"])[0] + \"x\"  + str(row[\"score2\"])[0] + \" \" + str(row[\"team2\"]))\n",
    "    if(row['team1'] == teamname) :\n",
    "        team_matches_data.loc[label, \"goals_team\"] = row['score1']\n",
    "        team_matches_data.loc[label, \"goals_adv\"] = row['score2']\n",
    "        team_matches_data.loc[label, \"adv_team\"] = row['team2']\n",
    "        team_matches_data.loc[label, \"place\"] = \"home\"\n",
    "        team_matches_data.loc[label, \"prob_team\"] = row['prob1']\n",
    "        team_matches_data.loc[label, \"spi_team\"] = row['spi1']\n",
    "        team_matches_data.loc[label, \"spi_adv\"] = row['spi2']\n",
    "        team_matches_data.loc[label, \"spi_dif\"] = row['spi1'] - row['spi2']\n",
    "        if(math.isnan(row['importance1'])) :\n",
    "            team_matches_data.loc[label, \"importance_team\"] = 25.0\n",
    "        else : \n",
    "            team_matches_data.loc[label, \"importance_team\"] = row['importance1']\n",
    "        if(math.isnan(row['score1'])) :\n",
    "            team_matches_data.loc[label, \"goals_team\"] = 0.0\n",
    "            team_matches_data.loc[label, \"goals_adv\"] = 0.0\n",
    "    else :\n",
    "        team_matches_data.loc[label, \"goals_team\"] = row['score2']\n",
    "        team_matches_data.loc[label, \"goals_adv\"] = row['score1']\n",
    "        team_matches_data.loc[label, \"adv_team\"] = row['team1']\n",
    "        team_matches_data.loc[label, \"place\"] = \"away\"\n",
    "        team_matches_data.loc[label, \"prob_team\"] = row['prob2']\n",
    "        team_matches_data.loc[label, \"spi_team\"] = row['spi2']\n",
    "        team_matches_data.loc[label, \"spi_adv\"] = row['spi1']\n",
    "        team_matches_data.loc[label, \"spi_dif\"] = row['spi2'] - row['spi1']\n",
    "        if(math.isnan(row['importance2'])) :\n",
    "            team_matches_data.loc[label, \"importance_team\"] = 25.0\n",
    "        else :\n",
    "            team_matches_data.loc[label, \"importance_team\"] = row['importance2']\n",
    "        if(math.isnan(row['score1'])) :\n",
    "            team_matches_data.loc[label, \"goals_team\"] = 0.0\n",
    "            team_matches_data.loc[label, \"goals_adv\"] = 0.0"
   ]
  },
  {
   "cell_type": "markdown",
   "metadata": {},
   "source": [
    "# Creating data visualizations"
   ]
  },
  {
   "cell_type": "code",
   "execution_count": 531,
   "metadata": {},
   "outputs": [
    {
     "data": {
      "image/png": "[encoded data removed]",
      "text/plain": [
       "<Figure size 432x288 with 1 Axes>"
      ]
     },
     "metadata": {
      "needs_background": "light"
     },
     "output_type": "display_data"
    },
    {
     "data": {
      "text/plain": [
       "<Figure size 432x288 with 0 Axes>"
      ]
     },
     "metadata": {},
     "output_type": "display_data"
    }
   ],
   "source": [
    "team_matches_data.loc[:, \"datetimeobj\"] = team_matches_data.loc[:, \"date\"].apply(lambda x : datetime.datetime.strptime(x, \"%Y-%m-%d\"))\n",
    "\n",
    "plt.plot_date(x=team_matches_data.loc[:, 'datetimeobj'], y=team_matches_data.loc[:,'goals_team'], xdate = True, ydate = False, color = 'blue')\n",
    "plt.plot_date(x=team_matches_data.loc[:, 'datetimeobj'], y=team_matches_data.loc[:,'goals_adv'], xdate = True, ydate = False, color = 'red')\n",
    "plt.show()\n",
    "plt.clf()"
   ]
  },
  {
   "cell_type": "code",
   "execution_count": 532,
   "metadata": {},
   "outputs": [
    {
     "data": {
      "image/png": "[encoded data removed]",
      "text/plain": [
       "<Figure size 432x288 with 1 Axes>"
      ]
     },
     "metadata": {
      "needs_background": "light"
     },
     "output_type": "display_data"
    },
    {
     "data": {
      "text/plain": [
       "<Figure size 432x288 with 0 Axes>"
      ]
     },
     "metadata": {},
     "output_type": "display_data"
    }
   ],
   "source": [
    "plt.hist(team_matches_data['goals_team'], bins = range(10), alpha=0.5, label='Goals home team')\n",
    "plt.hist(team_matches_data['goals_adv'], bins = range(10), alpha=0.5, label='Goals Adv.')\n",
    "plt.legend(loc='upper right')\n",
    "plt.xticks(range(10))\n",
    "plt.show()\n",
    "plt.clf()"
   ]
  },
  {
   "cell_type": "markdown",
   "metadata": {},
   "source": [
    "# Training kNeighbors to predict goal numbers"
   ]
  },
  {
   "cell_type": "code",
   "execution_count": 540,
   "metadata": {},
   "outputs": [
    {
     "ename": "TypeError",
     "evalue": "get_dummies() got an unexpected keyword argument 'drop_First'",
     "output_type": "error",
     "traceback": [
      "\u001b[1;31m---------------------------------------------------------------------------\u001b[0m",
      "\u001b[1;31mTypeError\u001b[0m                                 Traceback (most recent call last)",
      "\u001b[1;32m<ipython-input-540-4286a0226f48>\u001b[0m in \u001b[0;36m<module>\u001b[1;34m()\u001b[0m\n\u001b[0;32m      2\u001b[0m \u001b[0mteam_predict\u001b[0m \u001b[1;33m=\u001b[0m \u001b[0mteam_done_matches\u001b[0m\u001b[1;33m[\u001b[0m\u001b[1;33m[\u001b[0m\u001b[1;34m'goals_team'\u001b[0m\u001b[1;33m,\u001b[0m\u001b[1;34m'prob_team'\u001b[0m\u001b[1;33m,\u001b[0m \u001b[1;34m'importance_team'\u001b[0m\u001b[1;33m,\u001b[0m \u001b[1;34m'spi_adv'\u001b[0m\u001b[1;33m,\u001b[0m \u001b[1;34m'place'\u001b[0m\u001b[1;33m,\u001b[0m \u001b[1;34m'spi_dif'\u001b[0m\u001b[1;33m]\u001b[0m\u001b[1;33m]\u001b[0m\u001b[1;33m\u001b[0m\u001b[0m\n\u001b[0;32m      3\u001b[0m \u001b[1;33m\u001b[0m\u001b[0m\n\u001b[1;32m----> 4\u001b[1;33m \u001b[0mteam_predict\u001b[0m \u001b[1;33m=\u001b[0m \u001b[0mpd\u001b[0m\u001b[1;33m.\u001b[0m\u001b[0mget_dummies\u001b[0m\u001b[1;33m(\u001b[0m\u001b[0mteam_predict\u001b[0m\u001b[1;33m,\u001b[0m \u001b[0mdrop_First\u001b[0m \u001b[1;33m=\u001b[0m \u001b[1;32mTrue\u001b[0m\u001b[1;33m)\u001b[0m\u001b[1;33m\u001b[0m\u001b[0m\n\u001b[0m\u001b[0;32m      5\u001b[0m \u001b[1;33m\u001b[0m\u001b[0m\n\u001b[0;32m      6\u001b[0m \u001b[0mX\u001b[0m \u001b[1;33m=\u001b[0m \u001b[0mteam_predict\u001b[0m\u001b[1;33m.\u001b[0m\u001b[0mdrop\u001b[0m\u001b[1;33m(\u001b[0m\u001b[1;34m'goals_team'\u001b[0m\u001b[1;33m,\u001b[0m \u001b[0maxis\u001b[0m\u001b[1;33m=\u001b[0m\u001b[1;36m1\u001b[0m\u001b[1;33m)\u001b[0m\u001b[1;33m.\u001b[0m\u001b[0mvalues\u001b[0m\u001b[1;33m\u001b[0m\u001b[0m\n",
      "\u001b[1;31mTypeError\u001b[0m: get_dummies() got an unexpected keyword argument 'drop_First'"
     ]
    }
   ],
   "source": [
    "team_done_matches = team_matches_data[team_matches_data['datetimeobj'] < datetime.datetime.now() - datetime.timedelta(days=1)]\n",
    "team_predict = team_done_matches[['goals_team','prob_team', 'importance_team', 'spi_adv', 'place', 'spi_dif']]\n",
    "\n",
    "team_predict = pd.get_dummies(team_predict, drop_First = True)\n",
    "\n",
    "X = team_predict.drop('goals_team', axis=1).values\n",
    "y = team_predict['goals_team'].values\n",
    "\n",
    "#Discovering best parameter for k_neighbors\n",
    "param_grid={'n_neighbors': np.arange(1,50)}\n",
    "knn = KNeighborsClassifier()\n",
    "knn_cv = GridSearchCV(knn, param_grid, cv = 5)\n",
    "\n",
    "knn_cv.fit(X, y)\n",
    "\n",
    "print(knn_cv.best_params_)\n",
    "print(knn_cv.best_score_)\n",
    "\n",
    "X_train, X_test, y_train, y_test = train_test_split(X, y, test_size = 0.2, random_state=42)\n",
    "\n",
    "knn = KNeighborsClassifier(n_neighbors=knn_cv.best_params_['n_neighbors'])\n",
    "knn.fit(X_train,y_train)\n",
    "print(\"Predicted scores = \") \n",
    "print(knn.predict(X_test))\n",
    "plt.hist(knn.predict(X_test), bins = range(10), alpha=1, label='Number of goals')\n",
    "plt.xticks(range(10))\n",
    "plt.show()\n",
    "plt.clf()\n",
    "print(\"\\nPrecision of model = \") \n",
    "print(knn.score(X_test, y_test))\n",
    "print(\"\\nConfusion Matrix: \")\n",
    "print(confusion_matrix(knn.predict(X_test), y_test))\n",
    "print(\"\\nClassification: \")\n",
    "print(classification_report(knn.predict(X_test), y_test))"
   ]
  },
  {
   "cell_type": "code",
   "execution_count": 534,
   "metadata": {},
   "outputs": [
    {
     "data": {
      "image/png": "[encoded data removed]",
      "text/plain": [
       "<Figure size 432x288 with 2 Axes>"
      ]
     },
     "metadata": {
      "needs_background": "light"
     },
     "output_type": "display_data"
    }
   ],
   "source": [
    "ax = sns.heatmap(team_predict.corr(), square=True, cmap='RdYlGn')\n",
    "plt.show()"
   ]
  },
  {
   "cell_type": "markdown",
   "metadata": {},
   "source": [
    "# Trying linear regression to predict goals"
   ]
  },
  {
   "cell_type": "markdown",
   "metadata": {},
   "source": [
    "With one variable (prob_team first and spi_dif after)"
   ]
  },
  {
   "cell_type": "code",
   "execution_count": 535,
   "metadata": {},
   "outputs": [
    {
     "name": "stdout",
     "output_type": "stream",
     "text": [
      "0.1476973916848221\n"
     ]
    },
    {
     "data": {
      "image/png": "[encoded data removed]",
      "text/plain": [
       "<Figure size 432x288 with 1 Axes>"
      ]
     },
     "metadata": {
      "needs_background": "light"
     },
     "output_type": "display_data"
    },
    {
     "name": "stdout",
     "output_type": "stream",
     "text": [
      "R^2: 0.33600488153076913\n",
      "Root Mean Squared Error: 0.9728290228146107\n",
      "[ 0.15340838  0.14882361  0.23740335  0.03589135 -0.10205584]\n"
     ]
    },
    {
     "data": {
      "text/plain": [
       "<Figure size 432x288 with 0 Axes>"
      ]
     },
     "metadata": {},
     "output_type": "display_data"
    }
   ],
   "source": [
    "reg = LinearRegression()\n",
    "\n",
    "X = team_predict['prob_team'].values.reshape(-1,1)\n",
    "y = team_predict['goals_team'].values.reshape(-1,1)\n",
    "\n",
    "prediction_space = np.linspace(min(X), max(X)).reshape(-1,1)\n",
    "reg.fit(X, y)\n",
    "result = reg.predict(prediction_space)\n",
    "print(reg.score(X,y))\n",
    "\n",
    "# Plot regression line\n",
    "plt.scatter(X,y)\n",
    "plt.plot(prediction_space, result, color='black', linewidth=3)\n",
    "plt.xlabel(\"Win prob for team\")\n",
    "plt.ylabel(\"Number of goals scored\")\n",
    "plt.show()\n",
    "plt.clf()\n",
    "\n",
    "X_train, X_test, y_train, y_test = train_test_split(X, y, test_size = 0.2, random_state=42)\n",
    "reg.fit(X_train, y_train)\n",
    "y_pred = reg.predict(X_test)\n",
    "print(\"R^2: {}\".format(reg.score(X_test, y_test)))\n",
    "rmse = np.sqrt(mean_squared_error(y_test, y_pred))\n",
    "print(\"Root Mean Squared Error: {}\".format(rmse))\n",
    "\n",
    "cv_scores = cross_val_score(reg, X, y, cv=5)\n",
    "print(cv_scores)"
   ]
  },
  {
   "cell_type": "code",
   "execution_count": 536,
   "metadata": {},
   "outputs": [
    {
     "name": "stdout",
     "output_type": "stream",
     "text": [
      "0.09701053181646824\n"
     ]
    },
    {
     "data": {
      "image/png": "[encoded data removed]",
      "text/plain": [
       "<Figure size 432x288 with 1 Axes>"
      ]
     },
     "metadata": {
      "needs_background": "light"
     },
     "output_type": "display_data"
    },
    {
     "name": "stdout",
     "output_type": "stream",
     "text": [
      "R^2: 0.19587425349210785\n",
      "Root Mean Squared Error: 1.0705724402003607\n",
      "[ 0.150661    0.09006867  0.10066665 -0.0284039  -0.04981854]\n"
     ]
    },
    {
     "data": {
      "text/plain": [
       "<Figure size 432x288 with 0 Axes>"
      ]
     },
     "metadata": {},
     "output_type": "display_data"
    }
   ],
   "source": [
    "reg2 = LinearRegression()\n",
    "\n",
    "X = team_predict['spi_dif'].values.reshape(-1,1)\n",
    "y = team_predict['goals_team'].values.reshape(-1,1)\n",
    "\n",
    "prediction_space = np.linspace(min(X), max(X)).reshape(-1,1)\n",
    "reg2.fit(X, y)\n",
    "result = reg2.predict(prediction_space)\n",
    "print(reg2.score(X,y))\n",
    "\n",
    "# Plot regression line\n",
    "plt.scatter(X,y)\n",
    "plt.plot(prediction_space, result, color='black', linewidth=3)\n",
    "plt.xlabel(\"Differnce in Soccer Power Index between teams\")\n",
    "plt.ylabel(\"Number of goals scored\")\n",
    "plt.show()\n",
    "plt.clf()\n",
    "\n",
    "X_train, X_test, y_train, y_test = train_test_split(X, y, test_size = 0.2, random_state=42)\n",
    "reg2.fit(X_train, y_train)\n",
    "y_pred = reg2.predict(X_test)\n",
    "print(\"R^2: {}\".format(reg2.score(X_test, y_test)))\n",
    "rmse = np.sqrt(mean_squared_error(y_test, y_pred))\n",
    "print(\"Root Mean Squared Error: {}\".format(rmse))\n",
    "\n",
    "cv_scores = cross_val_score(reg, X, y, cv=5)\n",
    "print(cv_scores)"
   ]
  },
  {
   "cell_type": "markdown",
   "metadata": {},
   "source": [
    "Trying with all variables"
   ]
  },
  {
   "cell_type": "code",
   "execution_count": 537,
   "metadata": {
    "scrolled": true
   },
   "outputs": [
    {
     "name": "stdout",
     "output_type": "stream",
     "text": [
      "\n",
      "Predictions\n",
      "\n",
      "[2.69888244 1.60776144 1.84475974 0.85215785 1.4309532  2.21824159\n",
      " 1.94769154 1.16748372 2.15752949 2.0672139  2.55890734 1.98320824\n",
      " 1.02382906 2.15545725 0.82529472 2.55256312 1.68237906 1.89749574\n",
      " 2.49525403 0.83178793 1.22394938 2.12917458 1.86594983 1.09491151\n",
      " 1.88752378 1.87319338 2.02845631 1.0266999  1.58247625 1.30053902\n",
      " 2.98184417 1.55973918 1.97764735 1.21690239 2.36381228]\n",
      "\n",
      "Score\n",
      "\n",
      "0.166462788218933\n",
      "\n",
      "Coeficients\n",
      "\n",
      "[-2.03397228e+00 -2.59667657e-04 -2.82061256e-02  2.60031664e-02\n",
      " -5.34542045e-01  5.34542045e-01]\n",
      "4.589438657606297\n"
     ]
    },
    {
     "data": {
      "image/png": "[encoded data removed]",
      "text/plain": [
       "<Figure size 432x288 with 1 Axes>"
      ]
     },
     "metadata": {
      "needs_background": "light"
     },
     "output_type": "display_data"
    },
    {
     "data": {
      "text/plain": [
       "<Figure size 432x288 with 0 Axes>"
      ]
     },
     "metadata": {},
     "output_type": "display_data"
    }
   ],
   "source": [
    "reg_all = LinearRegression()\n",
    "\n",
    "X = team_predict.drop('goals_team', axis = 1).values\n",
    "y = team_predict['goals_team'].values\n",
    "\n",
    "X_train, X_test, y_train, y_test = train_test_split(X, y, test_size = 0.2, random_state=42)\n",
    "reg_all.fit(X_train, y_train)\n",
    "y_pred = reg_all.predict(X_test)\n",
    "\n",
    "print(\"\\nPredictions\\n\")\n",
    "print(y_pred)\n",
    "print(\"\\nScore\\n\")\n",
    "print(reg_all.score(X_test, y_test))\n",
    "print(\"\\nCoeficients\\n\")\n",
    "print(reg_all.coef_)\n",
    "print(reg_all.intercept_)\n",
    "\n",
    "plt.plot(team_predict.drop('goals_team', axis = 1).columns, reg_all.coef_)\n",
    "plt.show()\n",
    "plt.clf()\n"
   ]
  },
  {
   "cell_type": "markdown",
   "metadata": {},
   "source": [
    "# Logistic regression"
   ]
  },
  {
   "cell_type": "code",
   "execution_count": 538,
   "metadata": {},
   "outputs": [
    {
     "name": "stderr",
     "output_type": "stream",
     "text": [
      "C:\\Program Files\\Anaconda3\\lib\\site-packages\\sklearn\\model_selection\\_split.py:605: Warning: The least populated class in y has only 2 members, which is too few. The minimum number of members in any class cannot be less than n_splits=5.\n",
      "  % (min_groups, self.n_splits)), Warning)\n"
     ]
    },
    {
     "name": "stdout",
     "output_type": "stream",
     "text": [
      "Melhor score com parametro = 0.3699421965317919\n",
      "{'C': 0.4393970560760795, 'penalty': 'l1'}\n",
      "\n",
      "Predictions\n",
      "\n",
      "[3. 1. 3. 1. 1. 2. 2. 1. 2. 2. 2. 1. 1. 3. 1. 3. 2. 1. 2. 1. 1. 2. 2. 1.\n",
      " 1. 2. 2. 1. 2. 1. 2. 1. 1. 1. 3.]\n",
      "\n",
      "Precision of model = \n",
      "0.5142857142857142\n",
      "\n",
      "Confusion Matrix: \n",
      "[[ 0  0  0  0  0  0]\n",
      " [ 2 10  2  0  2  1]\n",
      " [ 0  3  5  4  1  0]\n",
      " [ 0  1  1  3  0  0]\n",
      " [ 0  0  0  0  0  0]\n",
      " [ 0  0  0  0  0  0]]\n",
      "\n",
      "Classification: \n",
      "             precision    recall  f1-score   support\n",
      "\n",
      "        0.0       0.00      0.00      0.00         0\n",
      "        1.0       0.71      0.59      0.65        17\n",
      "        2.0       0.62      0.38      0.48        13\n",
      "        3.0       0.43      0.60      0.50         5\n",
      "        4.0       0.00      0.00      0.00         0\n",
      "        5.0       0.00      0.00      0.00         0\n",
      "\n",
      "avg / total       0.64      0.51      0.56        35\n",
      "\n",
      "Previsão: 3 gol(s) contra Liverpool -> Confidence: 0.23021671221031512\n",
      "Previsão: 1 gol(s) contra Leicester City -> Confidence: 0.32284960009465447\n",
      "Previsão: 3 gol(s) contra Watford -> Confidence: 0.2851102418218015\n",
      "Previsão: 1 gol(s) contra Southampton -> Confidence: 0.35480894677011776\n",
      "Previsão: 1 gol(s) contra Paris Saint-Germain -> Confidence: 0.3501604203360089\n",
      "Previsão: 2 gol(s) contra Hull City -> Confidence: 0.26988586510670504\n",
      "Previsão: 2 gol(s) contra Chelsea -> Confidence: 0.27323132513601356\n",
      "Previsão: 1 gol(s) contra Basel -> Confidence: 0.37417231932433925\n",
      "Previsão: 2 gol(s) contra Burnley -> Confidence: 0.27426871675663905\n",
      "Previsão: 2 gol(s) contra Swansea City -> Confidence: 0.2788491816266811\n",
      "Previsão: 2 gol(s) contra Ludogorets -> Confidence: 0.2496887940165176\n",
      "Previsão: 1 gol(s) contra Middlesbrough -> Confidence: 0.29688887303719513\n",
      "Previsão: 1 gol(s) contra Sunderland -> Confidence: 0.3691816488654269\n",
      "Previsão: 3 gol(s) contra Ludogorets -> Confidence: 0.2804380955658228\n",
      "Previsão: 1 gol(s) contra Tottenham Hotspur -> Confidence: 0.3536095340356071\n",
      "Previsão: 3 gol(s) contra Manchester United -> Confidence: 0.24571155331433425\n",
      "Previsão: 2 gol(s) contra Paris Saint-Germain -> Confidence: 0.29185616432606837\n",
      "Previsão: 1 gol(s) contra AFC Bournemouth -> Confidence: 0.31199575934561863\n",
      "Previsão: 2 gol(s) contra West Ham United -> Confidence: 0.25811656549303585\n",
      "Previsão: 1 gol(s) contra Basel -> Confidence: 0.3577765024868874\n",
      "Previsão: 1 gol(s) contra Stoke City -> Confidence: 0.32510079928060515\n",
      "Previsão: 2 gol(s) contra Everton -> Confidence: 0.27716746953280347\n",
      "Previsão: 2 gol(s) contra Manchester City -> Confidence: 0.28065880515083885\n",
      "Previsão: 1 gol(s) contra West Bromwich Albion -> Confidence: 0.373277456740769\n",
      "Previsão: 1 gol(s) contra Crystal Palace -> Confidence: 0.3236029024764644\n",
      "Previsão: 2 gol(s) contra AFC Bournemouth -> Confidence: 0.2905646309370936\n",
      "Previsão: 2 gol(s) contra Swansea City -> Confidence: 0.27714003413174165\n",
      "Previsão: 1 gol(s) contra Burnley -> Confidence: 0.33935408737619993\n",
      "Previsão: 2 gol(s) contra Watford -> Confidence: 0.28915340525203237\n",
      "Previsão: 1 gol(s) contra Chelsea -> Confidence: 0.36210549242387374\n",
      "Previsão: 2 gol(s) contra Hull City -> Confidence: 0.20855452167533806\n",
      "Previsão: 1 gol(s) contra Bayern Munich -> Confidence: 0.3341898058006805\n",
      "Previsão: 1 gol(s) contra Liverpool -> Confidence: 0.28766398104773144\n",
      "Previsão: 1 gol(s) contra Bayern Munich -> Confidence: 0.36743100250250227\n",
      "Previsão: 3 gol(s) contra West Bromwich Albion -> Confidence: 0.24002045711822376\n"
     ]
    },
    {
     "name": "stderr",
     "output_type": "stream",
     "text": [
      "C:\\Program Files\\Anaconda3\\lib\\site-packages\\sklearn\\metrics\\classification.py:1137: UndefinedMetricWarning: Recall and F-score are ill-defined and being set to 0.0 in labels with no true samples.\n",
      "  'recall', 'true', average, warn_for)\n"
     ]
    }
   ],
   "source": [
    "X = team_predict.drop('goals_team', axis = 1).values\n",
    "y = team_predict['goals_team'].values\n",
    "\n",
    "#Choosing best parameter for model\n",
    "c_space = np.logspace(-5, 8, 15)\n",
    "param_grid = {'C': c_space, 'penalty': ['l1', 'l2']}\n",
    "reg_log = LogisticRegression()\n",
    "reg_log_cv = GridSearchCV(reg_log, param_grid, cv=5)\n",
    "reg_log_cv.fit(X, y)\n",
    "\n",
    "print(\"Melhor score com parametro = \" + str(reg_log_cv.best_score_))\n",
    "print(reg_log_cv.best_params_)\n",
    "\n",
    "reg_log = LogisticRegression(C = reg_log_cv.best_params_['C'], penalty = reg_log_cv.best_params_['penalty'])\n",
    "\n",
    "X_train, X_test, y_train, y_test = train_test_split(X, y, test_size = 0.2, random_state=42)\n",
    "reg_log.fit(X_train, y_train)\n",
    "y_pred = reg_log.predict(X_test)\n",
    "\n",
    "print(\"\\nPredictions\\n\")\n",
    "print(y_pred)\n",
    "print(\"\\nPrecision of model = \") \n",
    "print(reg_log.score(X_test, y_test))\n",
    "print(\"\\nConfusion Matrix: \")\n",
    "print(confusion_matrix(reg_log.predict(X_test), y_test))\n",
    "print(\"\\nClassification: \")\n",
    "print(classification_report(reg_log.predict(X_test), y_test))\n",
    "\n",
    "# Compute predicted probabilities: y_pred_prob\n",
    "y_pred_prob = reg_log.predict_proba(X_test)[:,1]\n",
    "\n",
    "adv_teams = team_done_matches['adv_team'].values\n",
    "\n",
    "for i in range(y_pred_prob.shape[0]) :\n",
    "    print(\"Previsão: \" + str(int(y_pred[i])) + \" gol(s) contra \" + adv_teams[i] + \" -> Confidence: \" + str(y_pred_prob[i]))\n",
    "\n"
   ]
  },
  {
   "cell_type": "markdown",
   "metadata": {},
   "source": [
    "# Decision tree model"
   ]
  },
  {
   "cell_type": "code",
   "execution_count": 539,
   "metadata": {},
   "outputs": [
    {
     "name": "stdout",
     "output_type": "stream",
     "text": [
      "Tuned Decision Tree Parameters: {'criterion': 'entropy', 'max_depth': 3, 'max_features': 1, 'min_samples_leaf': 7}\n",
      "Best score is 0.3583815028901734\n",
      "\n",
      "Predictions\n",
      "\n",
      "[1. 2. 1. 1. 2. 2. 2. 2. 2. 2. 1. 1. 1. 1. 1. 1. 1. 1. 1. 1. 2. 2. 2. 1.\n",
      " 1. 2. 2. 1. 2. 2. 3. 1. 3. 2. 3.]\n",
      "\n",
      "Precision of model = \n",
      "0.5142857142857142\n",
      "\n",
      "Confusion Matrix: \n",
      "[[ 0  0  0  0  0  0]\n",
      " [ 2 10  2  0  2  1]\n",
      " [ 0  3  5  4  1  0]\n",
      " [ 0  1  1  3  0  0]\n",
      " [ 0  0  0  0  0  0]\n",
      " [ 0  0  0  0  0  0]]\n",
      "\n",
      "Classification: \n",
      "             precision    recall  f1-score   support\n",
      "\n",
      "        0.0       0.00      0.00      0.00         0\n",
      "        1.0       0.71      0.59      0.65        17\n",
      "        2.0       0.62      0.38      0.48        13\n",
      "        3.0       0.43      0.60      0.50         5\n",
      "        4.0       0.00      0.00      0.00         0\n",
      "        5.0       0.00      0.00      0.00         0\n",
      "\n",
      "avg / total       0.64      0.51      0.56        35\n",
      "\n"
     ]
    },
    {
     "name": "stderr",
     "output_type": "stream",
     "text": [
      "C:\\Program Files\\Anaconda3\\lib\\site-packages\\sklearn\\model_selection\\_split.py:605: Warning: The least populated class in y has only 2 members, which is too few. The minimum number of members in any class cannot be less than n_splits=5.\n",
      "  % (min_groups, self.n_splits)), Warning)\n",
      "C:\\Program Files\\Anaconda3\\lib\\site-packages\\sklearn\\metrics\\classification.py:1137: UndefinedMetricWarning: Recall and F-score are ill-defined and being set to 0.0 in labels with no true samples.\n",
      "  'recall', 'true', average, warn_for)\n"
     ]
    }
   ],
   "source": [
    "X = team_predict.drop('goals_team', axis = 1).values\n",
    "y = team_predict['goals_team'].values\n",
    "\n",
    "\n",
    "#Finding best parameters for Decision tree\n",
    "# Setup the parameters and distributions to sample from: param_dist\n",
    "param_dist = {\"max_depth\": [3, None],\n",
    "              \"max_features\": randint(1, 6),\n",
    "              \"min_samples_leaf\": randint(1, 9),\n",
    "              \"criterion\": [\"gini\", \"entropy\"]}\n",
    "# Instantiate a Decision Tree classifier: tree\n",
    "tree = DecisionTreeClassifier()\n",
    "# Instantiate the RandomizedSearchCV object: tree_cv\n",
    "tree_cv = RandomizedSearchCV(tree, param_dist, cv=5)\n",
    "# Fit it to the data\n",
    "tree_cv.fit(X,y)\n",
    "\n",
    "# Print the tuned parameters and score\n",
    "print(\"Tuned Decision Tree Parameters: {}\".format(tree_cv.best_params_))\n",
    "print(\"Best score is {}\".format(tree_cv.best_score_))\n",
    "\n",
    "tree = DecisionTreeClassifier(criterion = tree_cv.best_params_['criterion'], max_depth = tree_cv.best_params_['max_depth'], max_features = tree_cv.best_params_['max_features'], min_samples_leaf = tree_cv.best_params_['min_samples_leaf'])\n",
    "\n",
    "X_train, X_test, y_train, y_test = train_test_split(X, y, test_size = 0.2, random_state=42)\n",
    "tree.fit(X_train, y_train)\n",
    "y_pred = tree.predict(X_test)\n",
    "\n",
    "print(\"\\nPredictions\\n\")\n",
    "print(y_pred)\n",
    "print(\"\\nPrecision of model = \") \n",
    "print(reg_log.score(X_test, y_test))\n",
    "print(\"\\nConfusion Matrix: \")\n",
    "print(confusion_matrix(reg_log.predict(X_test), y_test))\n",
    "print(\"\\nClassification: \")\n",
    "print(classification_report(reg_log.predict(X_test), y_test))\n",
    "\n"
   ]
  },
  {
   "cell_type": "code",
   "execution_count": null,
   "metadata": {},
   "outputs": [],
   "source": []
  }
 ],
 "metadata": {
  "kernelspec": {
   "display_name": "Python 3",
   "language": "python",
   "name": "python3"
  },
  "language_info": {
   "codemirror_mode": {
    "name": "ipython",
    "version": 3
   },
   "file_extension": ".py",
   "mimetype": "text/x-python",
   "name": "python",
   "nbconvert_exporter": "python",
   "pygments_lexer": "ipython3",
   "version": "3.7.0"
  }
 },
 "nbformat": 4,
 "nbformat_minor": 2
}
