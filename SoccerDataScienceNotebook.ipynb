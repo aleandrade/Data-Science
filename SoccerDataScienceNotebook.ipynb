{
 "cells": [
  {
   "cell_type": "code",
   "execution_count": 589,
   "metadata": {},
   "outputs": [],
   "source": [
    "import pandas as pd\n",
    "import numpy as np\n",
    "import matplotlib.pyplot as plt\n",
    "import datetime\n",
    "from sklearn.neighbors import KNeighborsClassifier\n",
    "from sklearn.model_selection import train_test_split \n",
    "from sklearn.linear_model import LinearRegression\n",
    "from sklearn.metrics import mean_squared_error\n",
    "from sklearn.model_selection import cross_val_score\n",
    "from sklearn.linear_model import Lasso\n",
    "from sklearn.linear_model import Ridge\n",
    "from sklearn.metrics import classification_report, confusion_matrix\n",
    "from sklearn.linear_model import LogisticRegression\n",
    "from sklearn.metrics import roc_curve\n",
    "from sklearn.model_selection import GridSearchCV\n",
    "from sklearn.tree import DecisionTreeClassifier\n",
    "from sklearn.model_selection import RandomizedSearchCV\n",
    "from sklearn.preprocessing import Imputer\n",
    "from sklearn.preprocessing import scale\n",
    "from sklearn.svm import SVC\n",
    "from sklearn.pipeline import Pipeline\n",
    "from sklearn.decomposition import PCA\n",
    "from sklearn.preprocessing import StandardScaler\n",
    "from sklearn.pipeline import make_pipeline\n",
    "from scipy.stats import pearsonr\n",
    "import math\n",
    "import seaborn as sns\n",
    "from scipy.stats import randint"
   ]
  },
  {
   "cell_type": "code",
   "execution_count": 590,
   "metadata": {},
   "outputs": [],
   "source": [
    "teamname = \"Arsenal\"\n",
    "\n",
    "matches = pd.read_csv(\"spi_matches.csv\")\n",
    "if(teamname == \"all\") :\n",
    "    team_matches = matches\n",
    "else :\n",
    "    team_matches = matches[np.logical_or(matches['team1'] == teamname, matches['team2'] == teamname)]\n",
    "team_matches_data = team_matches.loc[:, ['date', 'team1', 'team2', 'score1', 'score2', 'prob1', 'prob2', 'importance1', 'importance2', 'spi1', 'spi2']]"
   ]
  },
  {
   "cell_type": "markdown",
   "metadata": {},
   "source": [
    "# Cleaning dataset and creating columns for team data "
   ]
  },
  {
   "cell_type": "code",
   "execution_count": 591,
   "metadata": {},
   "outputs": [
    {
     "name": "stdout",
     "output_type": "stream",
     "text": [
      "2016-08-14 : Arsenal 3x4 Liverpool\n",
      "2016-08-20 : Leicester City 0x0 Arsenal\n",
      "2016-08-27 : Watford 1x3 Arsenal\n",
      "2016-09-10 : Arsenal 2x1 Southampton\n",
      "2016-09-13 : Paris Saint-Germain 1x1 Arsenal\n",
      "2016-09-17 : Hull City 1x4 Arsenal\n",
      "2016-09-24 : Arsenal 3x0 Chelsea\n",
      "2016-09-28 : Arsenal 2x0 Basel\n",
      "2016-10-02 : Burnley 0x1 Arsenal\n",
      "2016-10-15 : Arsenal 3x2 Swansea City\n",
      "2016-10-19 : Arsenal 6x0 Ludogorets\n",
      "2016-10-22 : Arsenal 0x0 Middlesbrough\n",
      "2016-10-29 : Sunderland 1x4 Arsenal\n",
      "2016-11-01 : Ludogorets 2x3 Arsenal\n",
      "2016-11-06 : Arsenal 1x1 Tottenham Hotspur\n",
      "2016-11-19 : Manchester United 1x1 Arsenal\n",
      "2016-11-23 : Arsenal 2x2 Paris Saint-Germain\n",
      "2016-11-27 : Arsenal 3x1 AFC Bournemouth\n",
      "2016-12-03 : West Ham United 1x5 Arsenal\n",
      "2016-12-06 : Basel 1x4 Arsenal\n",
      "2016-12-10 : Arsenal 3x1 Stoke City\n",
      "2016-12-13 : Everton 2x1 Arsenal\n",
      "2016-12-18 : Manchester City 2x1 Arsenal\n",
      "2016-12-26 : Arsenal 1x0 West Bromwich Albion\n",
      "2017-01-01 : Arsenal 2x0 Crystal Palace\n",
      "2017-01-03 : AFC Bournemouth 3x3 Arsenal\n",
      "2017-01-14 : Swansea City 0x4 Arsenal\n",
      "2017-01-22 : Arsenal 2x1 Burnley\n",
      "2017-01-31 : Arsenal 1x2 Watford\n",
      "2017-02-04 : Chelsea 3x1 Arsenal\n",
      "2017-02-11 : Arsenal 2x0 Hull City\n",
      "2017-02-15 : Bayern Munich 5x1 Arsenal\n",
      "2017-03-04 : Liverpool 3x1 Arsenal\n",
      "2017-03-07 : Arsenal 1x5 Bayern Munich\n",
      "2017-03-18 : West Bromwich Albion 3x1 Arsenal\n",
      "2017-04-02 : Arsenal 2x2 Manchester City\n",
      "2017-04-05 : Arsenal 3x0 West Ham United\n",
      "2017-04-10 : Crystal Palace 3x0 Arsenal\n",
      "2017-04-17 : Middlesbrough 1x2 Arsenal\n",
      "2017-04-26 : Arsenal 1x0 Leicester City\n",
      "2017-04-30 : Tottenham Hotspur 2x0 Arsenal\n",
      "2017-05-07 : Arsenal 2x0 Manchester United\n",
      "2017-05-10 : Southampton 0x2 Arsenal\n",
      "2017-05-13 : Stoke City 1x4 Arsenal\n",
      "2017-05-16 : Arsenal 2x0 Sunderland\n",
      "2017-05-21 : Arsenal 3x1 Everton\n",
      "2017-08-11 : Arsenal 4x3 Leicester City\n",
      "2017-08-19 : Stoke City 1x0 Arsenal\n",
      "2017-08-27 : Liverpool 4x0 Arsenal\n",
      "2017-09-09 : Arsenal 3x0 AFC Bournemouth\n",
      "2017-09-14 : Arsenal 3x1 FC Cologne\n",
      "2017-09-17 : Chelsea 0x0 Arsenal\n",
      "2017-09-25 : Arsenal 2x0 West Bromwich Albion\n",
      "2017-09-28 : BATE Borisov 2x4 Arsenal\n",
      "2017-10-01 : Arsenal 2x0 Brighton and Hove Albion\n",
      "2017-10-14 : Watford 2x1 Arsenal\n",
      "2017-10-19 : Red Star Belgrade 0x1 Arsenal\n",
      "2017-10-22 : Everton 2x5 Arsenal\n",
      "2017-10-28 : Arsenal 2x1 Swansea City\n",
      "2017-11-02 : Arsenal 0x0 Red Star Belgrade\n",
      "2017-11-05 : Manchester City 3x1 Arsenal\n",
      "2017-11-18 : Arsenal 2x0 Tottenham Hotspur\n",
      "2017-11-23 : FC Cologne 1x0 Arsenal\n",
      "2017-11-26 : Burnley 0x1 Arsenal\n",
      "2017-11-29 : Arsenal 5x0 Huddersfield Town\n",
      "2017-12-02 : Arsenal 1x3 Manchester United\n",
      "2017-12-07 : Arsenal 6x0 BATE Borisov\n",
      "2017-12-10 : Southampton 1x1 Arsenal\n",
      "2017-12-13 : West Ham United 0x0 Arsenal\n",
      "2017-12-16 : Arsenal 1x0 Newcastle\n",
      "2017-12-22 : Arsenal 3x3 Liverpool\n",
      "2017-12-28 : Crystal Palace 2x3 Arsenal\n",
      "2017-12-31 : West Bromwich Albion 1x1 Arsenal\n",
      "2018-01-03 : Arsenal 2x2 Chelsea\n",
      "2018-01-14 : AFC Bournemouth 2x1 Arsenal\n",
      "2018-01-20 : Arsenal 4x1 Crystal Palace\n",
      "2018-01-30 : Swansea City 3x1 Arsenal\n",
      "2018-02-03 : Arsenal 5x1 Everton\n",
      "2018-02-10 : Tottenham Hotspur 1x0 Arsenal\n",
      "2018-02-15 : Östersunds FK 0x3 Arsenal\n",
      "2018-02-22 : Arsenal 1x2 Östersunds FK\n",
      "2018-03-01 : Arsenal 0x3 Manchester City\n",
      "2018-03-04 : Brighton and Hove Albion 2x1 Arsenal\n",
      "2018-03-08 : AC Milan 0x2 Arsenal\n",
      "2018-03-11 : Arsenal 3x0 Watford\n",
      "2018-03-15 : Arsenal 3x1 AC Milan\n",
      "2018-04-01 : Arsenal 3x0 Stoke City\n",
      "2018-04-05 : Arsenal 4x1 CSKA Moscow\n",
      "2018-04-08 : Arsenal 3x2 Southampton\n",
      "2018-04-12 : CSKA Moscow 2x2 Arsenal\n",
      "2018-04-15 : Newcastle 2x1 Arsenal\n",
      "2018-04-22 : Arsenal 4x1 West Ham United\n",
      "2018-04-26 : Arsenal 1x1 Atletico Madrid\n",
      "2018-04-29 : Manchester United 2x1 Arsenal\n",
      "2018-05-03 : Atletico Madrid 1x0 Arsenal\n",
      "2018-05-06 : Arsenal 5x0 Burnley\n",
      "2018-05-09 : Leicester City 3x1 Arsenal\n",
      "2018-05-13 : Huddersfield Town 0x1 Arsenal\n",
      "2018-08-12 : Arsenal 0x2 Manchester City\n",
      "2018-08-18 : Chelsea 3x2 Arsenal\n",
      "2018-08-25 : Arsenal 3x1 West Ham United\n",
      "2018-09-02 : Cardiff City 2x3 Arsenal\n",
      "2018-09-15 : Newcastle 1x2 Arsenal\n",
      "2018-09-20 : Arsenal 4x2 Vorskla\n",
      "2018-09-23 : Arsenal 2x0 Everton\n",
      "2018-09-29 : Arsenal 2x0 Watford\n",
      "2018-10-04 : FK Qarabag 0x3 Arsenal\n",
      "2018-10-07 : Fulham 1x5 Arsenal\n",
      "2018-10-22 : Arsenal 3x1 Leicester City\n",
      "2018-10-25 : Sporting CP 0x1 Arsenal\n",
      "2018-10-28 : Crystal Palace 2x2 Arsenal\n",
      "2018-11-03 : Arsenal 1x1 Liverpool\n",
      "2018-11-08 : Arsenal 0x0 Sporting CP\n",
      "2018-11-11 : Arsenal 1x1 Wolverhampton\n",
      "2018-11-25 : AFC Bournemouth 1x2 Arsenal\n",
      "2018-11-29 : Vorskla 0x3 Arsenal\n",
      "2018-12-02 : Arsenal 4x2 Tottenham Hotspur\n",
      "2018-12-05 : Manchester United 2x2 Arsenal\n",
      "2018-12-08 : Arsenal 1x0 Huddersfield Town\n",
      "2018-12-13 : Arsenal 1x0 FK Qarabag\n",
      "2018-12-16 : Southampton 3x2 Arsenal\n",
      "2018-12-22 : Arsenal 3x1 Burnley\n",
      "2018-12-26 : Brighton and Hove Albion 1x1 Arsenal\n",
      "2018-12-29 : Liverpool 5x1 Arsenal\n",
      "2019-01-01 : Arsenal 4x1 Fulham\n",
      "2019-01-12 : West Ham United 1x0 Arsenal\n",
      "2019-01-19 : Arsenal 2x0 Chelsea\n",
      "2019-01-29 : Arsenal 2x1 Cardiff City\n",
      "2019-02-03 : Manchester City 3x1 Arsenal\n",
      "2019-02-09 : Huddersfield Town 1x2 Arsenal\n",
      "2019-02-14 : BATE Borisov 1x0 Arsenal\n",
      "2019-02-21 : Arsenal 3x0 BATE Borisov\n",
      "2019-02-24 : Arsenal 2x0 Southampton\n",
      "2019-02-27 : Arsenal 5x1 AFC Bournemouth\n",
      "2019-03-02 : Tottenham Hotspur 1x1 Arsenal\n",
      "2019-03-07 : Stade Rennes 3x1 Arsenal\n",
      "2019-03-10 : Arsenal 2x0 Manchester United\n",
      "2019-03-14 : Arsenal 3x0 Stade Rennes\n",
      "2019-04-01 : Arsenal 2x0 Newcastle\n",
      "2019-04-07 : Everton 1x0 Arsenal\n",
      "2019-04-11 : Arsenal 2x0 Napoli\n",
      "2019-04-15 : Watford 0x1 Arsenal\n",
      "2019-04-18 : Napoli 0x1 Arsenal\n",
      "2019-04-21 : Arsenal 2x3 Crystal Palace\n",
      "2019-04-24 : Wolverhampton 3x1 Arsenal\n",
      "2019-04-28 : Leicester City 3x0 Arsenal\n",
      "2019-05-02 : Arsenal 3x1 Valencia\n",
      "2019-05-05 : Arsenal 1x1 Brighton and Hove Albion\n",
      "2019-05-09 : Valencia 2x4 Arsenal\n",
      "2019-05-12 : Burnley 1x3 Arsenal\n",
      "2019-05-29 : Chelsea 4x1 Arsenal\n",
      "2019-08-11 : Newcastle 0x1 Arsenal\n",
      "2019-08-17 : Arsenal 2x1 Burnley\n",
      "2019-08-24 : Liverpool 3x1 Arsenal\n",
      "2019-09-01 : Arsenal 2x2 Tottenham Hotspur\n",
      "2019-09-15 : Watford 2x2 Arsenal\n",
      "2019-09-19 : Eintracht Frankfurt 0x3 Arsenal\n",
      "2019-09-22 : Arsenal 3x2 Aston Villa\n",
      "2019-09-30 : Manchester United 1x1 Arsenal\n",
      "2019-10-03 : Arsenal 4x0 Standard Liege\n",
      "2019-10-06 : Arsenal 1x0 AFC Bournemouth\n",
      "2019-10-21 : Sheffield United 1x0 Arsenal\n",
      "2019-10-24 : Arsenal 3x2 Guimaraes\n",
      "2019-10-27 : Arsenal 2x2 Crystal Palace\n",
      "2019-11-02 : Arsenal 1x1 Wolverhampton\n",
      "2019-11-06 : Guimaraes 1x1 Arsenal\n",
      "2019-11-09 : Leicester City 2x0 Arsenal\n",
      "2019-11-23 : Arsenal 2x2 Southampton\n",
      "2019-11-28 : Arsenal 1x2 Eintracht Frankfurt\n",
      "2019-12-01 : Norwich City 2x2 Arsenal\n",
      "2019-12-05 : Arsenal 1x2 Brighton and Hove Albion\n",
      "2019-12-09 : West Ham United 1x3 Arsenal\n",
      "2019-12-12 : Standard Liege nxn Arsenal\n",
      "2019-12-15 : Arsenal nxn Manchester City\n",
      "2019-12-21 : Everton nxn Arsenal\n",
      "2019-12-26 : AFC Bournemouth nxn Arsenal\n",
      "2019-12-29 : Arsenal nxn Chelsea\n",
      "2020-01-01 : Arsenal nxn Manchester United\n",
      "2020-01-11 : Crystal Palace nxn Arsenal\n",
      "2020-01-18 : Arsenal nxn Sheffield United\n",
      "2020-01-21 : Chelsea nxn Arsenal\n",
      "2020-02-01 : Burnley nxn Arsenal\n",
      "2020-02-08 : Arsenal nxn Newcastle\n",
      "2020-02-22 : Arsenal nxn Everton\n",
      "2020-02-29 : Manchester City nxn Arsenal\n",
      "2020-03-07 : Arsenal nxn West Ham United\n",
      "2020-03-14 : Brighton and Hove Albion nxn Arsenal\n",
      "2020-03-21 : Southampton nxn Arsenal\n",
      "2020-04-04 : Arsenal nxn Norwich City\n",
      "2020-04-11 : Wolverhampton nxn Arsenal\n",
      "2020-04-18 : Arsenal nxn Leicester City\n",
      "2020-04-25 : Tottenham Hotspur nxn Arsenal\n",
      "2020-05-02 : Arsenal nxn Liverpool\n",
      "2020-05-09 : Aston Villa nxn Arsenal\n",
      "2020-05-17 : Arsenal nxn Watford\n"
     ]
    }
   ],
   "source": [
    "for label, row in team_matches_data.iterrows() :\n",
    "    print(str(row[\"date\"]) + \" : \" + str(row[\"team1\"]) + \" \" + str(row[\"score1\"])[0] + \"x\"  + str(row[\"score2\"])[0] + \" \" + str(row[\"team2\"]))\n",
    "    if(row['team1'] == teamname) :\n",
    "        team_matches_data.loc[label, \"goals_team\"] = row['score1']\n",
    "        team_matches_data.loc[label, \"goals_adv\"] = row['score2']\n",
    "        team_matches_data.loc[label, \"adv_team\"] = row['team2']\n",
    "        team_matches_data.loc[label, \"place\"] = \"home\"\n",
    "        team_matches_data.loc[label, \"prob_team\"] = row['prob1']\n",
    "        team_matches_data.loc[label, \"spi_team\"] = row['spi1']\n",
    "        team_matches_data.loc[label, \"spi_adv\"] = row['spi2']\n",
    "        team_matches_data.loc[label, \"spi_dif\"] = row['spi1'] - row['spi2']\n",
    "        if(math.isnan(row['importance1'])) :\n",
    "            team_matches_data.loc[label, \"importance_team\"] = 50.0\n",
    "        else : \n",
    "            team_matches_data.loc[label, \"importance_team\"] = row['importance1']\n",
    "        \n",
    "        if(math.isnan(row['score1'])) :\n",
    "            team_matches_data.loc[label, \"goals_team\"] = 0.0\n",
    "            team_matches_data.loc[label, \"goals_team_str\"] = 0\n",
    "        elif row['score1'] >= 3:\n",
    "            team_matches_data.loc[label, \"goals_team_str\"] = 3\n",
    "        else :\n",
    "            team_matches_data.loc[label, \"goals_team_str\"] = int(row['score1'])\n",
    "            \n",
    "        if(math.isnan(row['score2'])) :\n",
    "            team_matches_data.loc[label, \"goals_away\"] = 0.0\n",
    "            team_matches_data.loc[label, \"goals_away_str\"] = 0\n",
    "        elif row['score2'] >= 3:\n",
    "            team_matches_data.loc[label, \"goals_away_str\"] = 3\n",
    "        else :\n",
    "            team_matches_data.loc[label, \"goals_away_str\"] = int(row['score2'])\n",
    "            \n",
    "    else :\n",
    "        team_matches_data.loc[label, \"goals_team\"] = row['score2']\n",
    "        team_matches_data.loc[label, \"goals_adv\"] = row['score1']\n",
    "        team_matches_data.loc[label, \"adv_team\"] = row['team1']\n",
    "        team_matches_data.loc[label, \"place\"] = \"away\"\n",
    "        team_matches_data.loc[label, \"prob_team\"] = row['prob2']\n",
    "        team_matches_data.loc[label, \"spi_team\"] = row['spi2']\n",
    "        team_matches_data.loc[label, \"spi_adv\"] = row['spi1']\n",
    "        team_matches_data.loc[label, \"spi_dif\"] = row['spi2'] - row['spi1']\n",
    "        if(math.isnan(row['importance2'])) :\n",
    "            team_matches_data.loc[label, \"importance_team\"] = 50.0\n",
    "        else :\n",
    "            team_matches_data.loc[label, \"importance_team\"] = row['importance2']\n",
    "            \n",
    "        if(math.isnan(row['score1'])) :\n",
    "            team_matches_data.loc[label, \"goals_away\"] = 0.0\n",
    "            team_matches_data.loc[label, \"goals_away_str\"] = 0\n",
    "        elif row['score1'] >= 3:\n",
    "            team_matches_data.loc[label, \"goals_away_str\"] = 3\n",
    "        else :\n",
    "            team_matches_data.loc[label, \"goals_away_str\"] = int(row['score1'])\n",
    "            \n",
    "        if(math.isnan(row['score1'])) :\n",
    "            team_matches_data.loc[label, \"goals_team\"] = 0.0\n",
    "            team_matches_data.loc[label, \"goals_team_str\"] = 0\n",
    "        elif row['score2'] >= 3:\n",
    "            team_matches_data.loc[label, \"goals_team_str\"] = 3\n",
    "        else :\n",
    "            team_matches_data.loc[label, \"goals_team_str\"] = int(row['score2'])"
   ]
  },
  {
   "cell_type": "markdown",
   "metadata": {},
   "source": [
    "# Creating data visualizations"
   ]
  },
  {
   "cell_type": "code",
   "execution_count": 592,
   "metadata": {},
   "outputs": [
    {
     "data": {
      "image/png": "[encoded data removed]",
      "text/plain": [
       "<Figure size 432x288 with 1 Axes>"
      ]
     },
     "metadata": {
      "needs_background": "light"
     },
     "output_type": "display_data"
    },
    {
     "data": {
      "text/plain": [
       "<Figure size 432x288 with 0 Axes>"
      ]
     },
     "metadata": {},
     "output_type": "display_data"
    }
   ],
   "source": [
    "team_matches_data.loc[:, \"datetimeobj\"] = team_matches_data.loc[:, \"date\"].apply(lambda x : datetime.datetime.strptime(x, \"%Y-%m-%d\"))\n",
    "\n",
    "plt.plot_date(x=team_matches_data.loc[:, 'datetimeobj'], y=team_matches_data.loc[:,'goals_team'], xdate = True, ydate = False, color = 'blue')\n",
    "plt.plot_date(x=team_matches_data.loc[:, 'datetimeobj'], y=team_matches_data.loc[:,'goals_adv'], xdate = True, ydate = False, color = 'red')\n",
    "plt.show()\n",
    "plt.clf()"
   ]
  },
  {
   "cell_type": "code",
   "execution_count": 593,
   "metadata": {},
   "outputs": [
    {
     "data": {
      "image/png": "[encoded data removed]",
      "text/plain": [
       "<Figure size 432x288 with 1 Axes>"
      ]
     },
     "metadata": {
      "needs_background": "light"
     },
     "output_type": "display_data"
    },
    {
     "data": {
      "text/plain": [
       "<Figure size 432x288 with 0 Axes>"
      ]
     },
     "metadata": {},
     "output_type": "display_data"
    }
   ],
   "source": [
    "xs=team_matches_data['spi_dif']\n",
    "ys=team_matches_data['importance_team']\n",
    "color=team_matches_data['goals_team']\n",
    "plt.scatter(xs, ys, c=color)\n",
    "plt.show()\n",
    "plt.clf()"
   ]
  },
  {
   "cell_type": "code",
   "execution_count": 594,
   "metadata": {},
   "outputs": [
    {
     "data": {
      "image/png": "[encoded data removed]",
      "text/plain": [
       "<Figure size 432x288 with 1 Axes>"
      ]
     },
     "metadata": {
      "needs_background": "light"
     },
     "output_type": "display_data"
    },
    {
     "data": {
      "text/plain": [
       "<Figure size 432x288 with 0 Axes>"
      ]
     },
     "metadata": {},
     "output_type": "display_data"
    },
    {
     "data": {
      "image/png": "[encoded data removed]",
      "text/plain": [
       "<Figure size 432x288 with 1 Axes>"
      ]
     },
     "metadata": {
      "needs_background": "light"
     },
     "output_type": "display_data"
    },
    {
     "data": {
      "text/plain": [
       "<Figure size 432x288 with 0 Axes>"
      ]
     },
     "metadata": {},
     "output_type": "display_data"
    }
   ],
   "source": [
    "plt.hist(team_matches_data['goals_team'], bins = range(10), alpha=0.5, label='Goals home team')\n",
    "plt.hist(team_matches_data['goals_adv'], bins = range(10), alpha=0.5, label='Goals Adv.')\n",
    "plt.legend(loc='upper right')\n",
    "plt.xticks(range(10))\n",
    "plt.show()\n",
    "plt.clf()\n",
    "\n",
    "team_done_matches = team_matches_data[team_matches_data['datetimeobj'] < datetime.datetime.now() - datetime.timedelta(days=1)]\n",
    "team_predict = team_done_matches[['goals_team_str','prob_team', 'importance_team', 'spi_dif', 'place']]\n",
    "team_predict = pd.get_dummies(team_predict, drop_first = True)\n",
    "\n",
    "team_done_matches.boxplot('goals_team', 'place', rot=60)\n",
    "plt.title(\"Team goals when playing home/away\")\n",
    "plt.xticks([1, 2], ['away', 'home'])\n",
    "plt.show()\n",
    "plt.clf()"
   ]
  },
  {
   "cell_type": "markdown",
   "metadata": {},
   "source": [
    "# Studying data correlations"
   ]
  },
  {
   "cell_type": "code",
   "execution_count": 595,
   "metadata": {},
   "outputs": [
    {
     "data": {
      "image/png": "[encoded data removed]",
      "text/plain": [
       "<Figure size 432x288 with 1 Axes>"
      ]
     },
     "metadata": {
      "needs_background": "light"
     },
     "output_type": "display_data"
    },
    {
     "data": {
      "text/plain": [
       "<Figure size 432x288 with 0 Axes>"
      ]
     },
     "metadata": {},
     "output_type": "display_data"
    }
   ],
   "source": [
    "# Create scaler: scaler\n",
    "scaler = StandardScaler()\n",
    "\n",
    "# Create a PCA instance: pca\n",
    "pca = PCA()\n",
    "\n",
    "# Create pipeline: pipeline\n",
    "pipeline = make_pipeline(scaler, pca)\n",
    "\n",
    "# Fit the pipeline to 'samples'\n",
    "pipeline.fit(team_predict.drop('goals_team_str', axis=1).values)\n",
    "\n",
    "# Plot the explained variances\n",
    "features = range(pca.n_components_)\n",
    "plt.bar(features, pca.explained_variance_)\n",
    "plt.xlabel('PCA feature')\n",
    "plt.ylabel('variance')\n",
    "plt.xticks(features)\n",
    "plt.show()\n",
    "plt.clf()"
   ]
  },
  {
   "cell_type": "code",
   "execution_count": 596,
   "metadata": {},
   "outputs": [
    {
     "data": {
      "image/png": "[encoded data removed]",
      "text/plain": [
       "<Figure size 432x288 with 2 Axes>"
      ]
     },
     "metadata": {
      "needs_background": "light"
     },
     "output_type": "display_data"
    },
    {
     "data": {
      "image/png": "[encoded data removed]",
      "text/plain": [
       "<Figure size 432x288 with 1 Axes>"
      ]
     },
     "metadata": {
      "needs_background": "light"
     },
     "output_type": "display_data"
    },
    {
     "name": "stdout",
     "output_type": "stream",
     "text": [
      "0.8553256525722285\n"
     ]
    },
    {
     "data": {
      "text/plain": [
       "<Figure size 432x288 with 0 Axes>"
      ]
     },
     "metadata": {},
     "output_type": "display_data"
    }
   ],
   "source": [
    "ax = sns.heatmap(team_predict.corr(), square=True, cmap='RdYlGn')\n",
    "plt.show()\n",
    "plt.clf()\n",
    "\n",
    "plt.scatter(team_predict['spi_dif'], team_predict['prob_team'], c=team_predict['place_home'])\n",
    "plt.show()\n",
    "plt.clf()\n",
    "\n",
    "# Calculate the Pearson correlation\n",
    "correlation, pvalue = pearsonr(team_predict['spi_dif'], team_predict['prob_team'])\n",
    "\n",
    "# Display the correlation\n",
    "print(correlation)"
   ]
  },
  {
   "cell_type": "markdown",
   "metadata": {},
   "source": [
    "# Training kNeighbors to predict goal numbers"
   ]
  },
  {
   "cell_type": "code",
   "execution_count": 597,
   "metadata": {},
   "outputs": [
    {
     "name": "stdout",
     "output_type": "stream",
     "text": [
      "{'n_neighbors': 46}\n",
      "0.42528735632183906\n",
      "Predicted scores = \n",
      "[1. 1. 1. 3. 2. 3. 1. 1. 1. 3. 3. 1. 3. 1. 1. 3. 3. 1. 3. 3. 3. 1. 1. 1.\n",
      " 1. 1. 1. 3. 3. 1. 3. 1. 3. 3. 1.]\n"
     ]
    },
    {
     "data": {
      "image/png": "[encoded data removed]",
      "text/plain": [
       "<Figure size 432x288 with 1 Axes>"
      ]
     },
     "metadata": {
      "needs_background": "light"
     },
     "output_type": "display_data"
    },
    {
     "name": "stdout",
     "output_type": "stream",
     "text": [
      "\n",
      "Precision of model = \n",
      "0.45714285714285713\n",
      "\n",
      "Confusion Matrix: \n",
      "[[0 0 0 0]\n",
      " [3 9 5 2]\n",
      " [0 0 1 0]\n",
      " [1 2 6 6]]\n",
      "\n",
      "Classification: \n",
      "             precision    recall  f1-score   support\n",
      "\n",
      "        0.0       0.00      0.00      0.00         0\n",
      "        1.0       0.82      0.47      0.60        19\n",
      "        2.0       0.08      1.00      0.15         1\n",
      "        3.0       0.75      0.40      0.52        15\n",
      "\n",
      "avg / total       0.77      0.46      0.55        35\n",
      "\n",
      "Model predicted 1 goal(s) against Liverpool away -- Real result = 2 [0=0.239, 1=0.37, 2=0.152, 3+=0.239]\n",
      "\n",
      "Result predicted correctly! 1 goal(s) against Leicester City home -- [0=0.217, 1=0.326, 2=0.196, 3+=0.261]\n",
      "\n",
      "Model predicted 1 goal(s) against Watford home -- Real result = 3+ [0=0.217, 1=0.326, 2=0.152, 3+=0.304]\n",
      "\n",
      "Model predicted 3+ goal(s) against Southampton away -- Real result = 2 [0=0.043, 1=0.174, 2=0.283, 3+=0.5]\n",
      "\n",
      "Result predicted correctly! 2 goal(s) against Paris Saint-Germain home -- [0=0.109, 1=0.283, 2=0.304, 3+=0.304]\n",
      "\n",
      "Model predicted 3+ goal(s) against Hull City away -- Real result = 2 [0=0.022, 1=0.217, 2=0.283, 3+=0.478]\n",
      "\n",
      "Model predicted 1 goal(s) against Chelsea home -- Real result = 2 [0=0.261, 1=0.304, 2=0.217, 3+=0.217]\n",
      "\n",
      "Result predicted correctly! 1 goal(s) against Basel home -- [0=0.261, 1=0.37, 2=0.196, 3+=0.174]\n",
      "\n",
      "Model predicted 1 goal(s) against Burnley away -- Real result = 2 [0=0.109, 1=0.348, 2=0.239, 3+=0.304]\n",
      "\n",
      "Model predicted 3+ goal(s) against Swansea City home -- Real result = 1 [0=0.109, 1=0.261, 2=0.283, 3+=0.348]\n",
      "\n",
      "Model predicted 3+ goal(s) against Ludogorets away -- Real result = 0 [0=0.022, 1=0.196, 2=0.304, 3+=0.478]\n",
      "\n",
      "Result predicted correctly! 1 goal(s) against Middlesbrough home -- [0=0.261, 1=0.326, 2=0.217, 3+=0.196]\n",
      "\n",
      "Result predicted correctly! 3+ goal(s) against Sunderland away -- [0=0.022, 1=0.152, 2=0.326, 3+=0.5]\n",
      "\n",
      "Model predicted 1 goal(s) against Ludogorets away -- Real result = 0 [0=0.239, 1=0.37, 2=0.217, 3+=0.174]\n",
      "\n",
      "Result predicted correctly! 1 goal(s) against Tottenham Hotspur home -- [0=0.283, 1=0.326, 2=0.239, 3+=0.152]\n",
      "\n",
      "Result predicted correctly! 3+ goal(s) against Manchester United home -- [0=0.043, 1=0.174, 2=0.283, 3+=0.5]\n",
      "\n",
      "Model predicted 3+ goal(s) against Paris Saint-Germain away -- Real result = 1 [0=0.043, 1=0.174, 2=0.304, 3+=0.478]\n",
      "\n",
      "Result predicted correctly! 1 goal(s) against AFC Bournemouth home -- [0=0.217, 1=0.326, 2=0.152, 3+=0.304]\n",
      "\n",
      "Model predicted 3+ goal(s) against West Ham United away -- Real result = 2 [0=0.043, 1=0.196, 2=0.283, 3+=0.478]\n",
      "\n",
      "Model predicted 3+ goal(s) against Basel home -- Real result = 2 [0=0.109, 1=0.283, 2=0.283, 3+=0.326]\n",
      "\n",
      "Result predicted correctly! 3+ goal(s) against Stoke City away -- [0=0.022, 1=0.261, 2=0.283, 3+=0.435]\n",
      "\n",
      "Model predicted 1 goal(s) against Everton away -- Real result = 0 [0=0.261, 1=0.348, 2=0.239, 3+=0.152]\n",
      "\n",
      "Result predicted correctly! 1 goal(s) against Manchester City home -- [0=0.261, 1=0.326, 2=0.239, 3+=0.174]\n",
      "\n",
      "Result predicted correctly! 1 goal(s) against West Bromwich Albion away -- [0=0.239, 1=0.391, 2=0.217, 3+=0.152]\n",
      "\n",
      "Result predicted correctly! 1 goal(s) against Crystal Palace home -- [0=0.217, 1=0.348, 2=0.152, 3+=0.283]\n",
      "\n",
      "Model predicted 1 goal(s) against AFC Bournemouth away -- Real result = 2 [0=0.109, 1=0.326, 2=0.239, 3+=0.326]\n",
      "\n",
      "Result predicted correctly! 1 goal(s) against Swansea City away -- [0=0.239, 1=0.326, 2=0.196, 3+=0.239]\n",
      "\n",
      "Result predicted correctly! 3+ goal(s) against Burnley home -- [0=0.196, 1=0.261, 2=0.196, 3+=0.348]\n",
      "\n",
      "Model predicted 3+ goal(s) against Watford away -- Real result = 2 [0=0.065, 1=0.239, 2=0.283, 3+=0.413]\n",
      "\n",
      "Model predicted 1 goal(s) against Chelsea home -- Real result = 0 [0=0.217, 1=0.391, 2=0.217, 3+=0.174]\n",
      "\n",
      "Model predicted 3+ goal(s) against Hull City away -- Real result = 2 [0=0.043, 1=0.239, 2=0.261, 3+=0.457]\n",
      "\n",
      "Model predicted 1 goal(s) against Bayern Munich home -- Real result = 3+ [0=0.196, 1=0.326, 2=0.152, 3+=0.326]\n",
      "\n",
      "Result predicted correctly! 3+ goal(s) against Liverpool home -- [0=0.217, 1=0.239, 2=0.174, 3+=0.37]\n",
      "\n",
      "Result predicted correctly! 3+ goal(s) against Bayern Munich away -- [0=0.065, 1=0.217, 2=0.217, 3+=0.5]\n",
      "\n",
      "Model predicted 1 goal(s) against West Bromwich Albion away -- Real result = 2 [0=0.239, 1=0.37, 2=0.196, 3+=0.196]\n",
      "\n"
     ]
    },
    {
     "name": "stderr",
     "output_type": "stream",
     "text": [
      "C:\\Program Files\\Anaconda3\\lib\\site-packages\\sklearn\\metrics\\classification.py:1137: UndefinedMetricWarning: Recall and F-score are ill-defined and being set to 0.0 in labels with no true samples.\n",
      "  'recall', 'true', average, warn_for)\n"
     ]
    },
    {
     "data": {
      "text/plain": [
       "<Figure size 432x288 with 0 Axes>"
      ]
     },
     "metadata": {},
     "output_type": "display_data"
    }
   ],
   "source": [
    "X = team_predict.drop('goals_team_str', axis=1).values\n",
    "y = team_predict['goals_team_str'].values\n",
    "\n",
    "scaler = StandardScaler()\n",
    "scaler.fit(X)\n",
    "X=scaler.transform(X)\n",
    "\n",
    "#Discovering best parameter for k_neighbors\n",
    "param_grid={'n_neighbors': np.arange(1,50)}\n",
    "knn = KNeighborsClassifier()\n",
    "knn_cv = GridSearchCV(knn, param_grid, cv = 5)\n",
    "\n",
    "knn_cv.fit(X, y)\n",
    "\n",
    "print(knn_cv.best_params_)\n",
    "print(knn_cv.best_score_)\n",
    "\n",
    "X_train, X_test, y_train, y_test = train_test_split(X, y, test_size = 0.2, random_state=42)\n",
    "\n",
    "knn = KNeighborsClassifier(n_neighbors=knn_cv.best_params_['n_neighbors'])\n",
    "knn.fit(X_train,y_train)\n",
    "print(\"Predicted scores = \") \n",
    "print(knn.predict(X_test))\n",
    "plt.hist(knn.predict(X_test), bins = range(10), alpha=1, label='Number of goals')\n",
    "plt.xticks(range(10))\n",
    "plt.show()\n",
    "plt.clf()\n",
    "print(\"\\nPrecision of model = \") \n",
    "print(knn.score(X_test, y_test))\n",
    "print(\"\\nConfusion Matrix: \")\n",
    "print(confusion_matrix(knn.predict(X_test), y_test))\n",
    "print(\"\\nClassification: \")\n",
    "print(classification_report(knn.predict(X_test), y_test))\n",
    "\n",
    "KNN_score = knn.score(X_test, y_test)\n",
    "\n",
    "y_pred = knn.predict(X_test)\n",
    "# Compute predicted probabilities: y_pred_prob\n",
    "y_pred_prob = knn.predict_proba(X_test)\n",
    "\n",
    "adv_teams = team_done_matches['adv_team'].values\n",
    "\n",
    "for i in range(y_pred_prob.shape[0]) :\n",
    "    if y_pred[i] != y_test[i]:\n",
    "        print(\"Model predicted \" + (str(int(y_pred[i])) if y_pred[i]<3 else \"3+\")  + \" goal(s) against \" + adv_teams[i] + \" \"  + home[i] + \" -- Real result = \" + (str(int(y_test[i])) if y_test[i]<3 else \"3+\") + \" [0=\" + str(round(y_pred_prob[i][0], 3)) + \", 1=\" + str(round(y_pred_prob[i][1], 3)) + \", 2=\" + str(round(y_pred_prob[i][2], 3)) + \", 3+=\" + str(round(y_pred_prob[i][3], 3)) + \"]\" + \"\\n\") \n",
    "    else :\n",
    "        print(\"Result predicted correctly! \" + (str(int(y_pred[i])) if y_pred[i]<3 else \"3+\") + \" goal(s) against \" + adv_teams[i] + \" \"  + home[i] + \" -- \"+ \"[0=\" + str(round(y_pred_prob[i][0], 3)) + \", 1=\" + str(round(y_pred_prob[i][1], 3)) + \", 2=\" + str(round(y_pred_prob[i][2], 3)) + \", 3+=\" + str(round(y_pred_prob[i][3], 3)) + \"]\" + \"\\n\") "
   ]
  },
  {
   "cell_type": "code",
   "execution_count": 598,
   "metadata": {},
   "outputs": [
    {
     "data": {
      "image/png": "[encoded data removed]",
      "text/plain": [
       "<Figure size 432x288 with 2 Axes>"
      ]
     },
     "metadata": {
      "needs_background": "light"
     },
     "output_type": "display_data"
    },
    {
     "data": {
      "image/png": "[encoded data removed]",
      "text/plain": [
       "<Figure size 432x288 with 1 Axes>"
      ]
     },
     "metadata": {
      "needs_background": "light"
     },
     "output_type": "display_data"
    },
    {
     "name": "stdout",
     "output_type": "stream",
     "text": [
      "0.8553256525722285\n"
     ]
    },
    {
     "data": {
      "text/plain": [
       "<Figure size 432x288 with 0 Axes>"
      ]
     },
     "metadata": {},
     "output_type": "display_data"
    }
   ],
   "source": [
    "ax = sns.heatmap(team_predict.corr(), square=True, cmap='RdYlGn')\n",
    "plt.show()\n",
    "plt.clf()\n",
    "\n",
    "plt.scatter(team_predict['spi_dif'], team_predict['prob_team'], c=team_predict['place_home'])\n",
    "plt.show()\n",
    "plt.clf()\n",
    "\n",
    "# Calculate the Pearson correlation\n",
    "correlation, pvalue = pearsonr(team_predict['spi_dif'], team_predict['prob_team'])\n",
    "\n",
    "# Display the correlation\n",
    "print(correlation)"
   ]
  },
  {
   "cell_type": "markdown",
   "metadata": {},
   "source": [
    "# Trying linear regression to predict goals"
   ]
  },
  {
   "cell_type": "markdown",
   "metadata": {},
   "source": [
    "With one variable (prob_team first and spi_dif after)"
   ]
  },
  {
   "cell_type": "code",
   "execution_count": 599,
   "metadata": {},
   "outputs": [
    {
     "name": "stdout",
     "output_type": "stream",
     "text": [
      "0.15156486173097572\n"
     ]
    },
    {
     "data": {
      "image/png": "[encoded data removed]",
      "text/plain": [
       "<Figure size 432x288 with 1 Axes>"
      ]
     },
     "metadata": {
      "needs_background": "light"
     },
     "output_type": "display_data"
    },
    {
     "name": "stdout",
     "output_type": "stream",
     "text": [
      "R^2: 0.3622811627839988\n",
      "Root Mean Squared Error: 0.7581080620223195\n",
      "[0.16210023 0.10352604 0.22084464 0.07936397 0.03276713]\n"
     ]
    },
    {
     "data": {
      "text/plain": [
       "<Figure size 432x288 with 0 Axes>"
      ]
     },
     "metadata": {},
     "output_type": "display_data"
    }
   ],
   "source": [
    "reg = LinearRegression()\n",
    "\n",
    "X = team_predict['prob_team'].values.reshape(-1,1)\n",
    "y = team_predict['goals_team_str'].values.reshape(-1,1)\n",
    "\n",
    "scaler = StandardScaler()\n",
    "scaler.fit(X)\n",
    "X=scaler.transform(X)\n",
    "\n",
    "prediction_space = np.linspace(min(X), max(X)).reshape(-1,1)\n",
    "reg.fit(X, y)\n",
    "result = reg.predict(prediction_space)\n",
    "print(reg.score(X,y))\n",
    "\n",
    "LinRegProb_score = reg.score(X,y)\n",
    "\n",
    "# Plot regression line\n",
    "plt.scatter(X,y)\n",
    "plt.plot(prediction_space, result, color='black', linewidth=3)\n",
    "plt.xlabel(\"Win prob for team\")\n",
    "plt.ylabel(\"Number of goals scored\")\n",
    "plt.show()\n",
    "plt.clf()\n",
    "\n",
    "X_train, X_test, y_train, y_test = train_test_split(X, y, test_size = 0.2, random_state=42)\n",
    "reg.fit(X_train, y_train)\n",
    "y_pred = reg.predict(X_test)\n",
    "print(\"R^2: {}\".format(reg.score(X_test, y_test)))\n",
    "rmse = np.sqrt(mean_squared_error(y_test, y_pred))\n",
    "print(\"Root Mean Squared Error: {}\".format(rmse))\n",
    "\n",
    "cv_scores = cross_val_score(reg, X, y, cv=5)\n",
    "print(cv_scores)"
   ]
  },
  {
   "cell_type": "code",
   "execution_count": 600,
   "metadata": {},
   "outputs": [
    {
     "name": "stdout",
     "output_type": "stream",
     "text": [
      "0.08454670825123689\n"
     ]
    },
    {
     "data": {
      "image/png": "[encoded data removed]",
      "text/plain": [
       "<Figure size 432x288 with 1 Axes>"
      ]
     },
     "metadata": {
      "needs_background": "light"
     },
     "output_type": "display_data"
    },
    {
     "name": "stdout",
     "output_type": "stream",
     "text": [
      "R^2: 0.21839037144391882\n",
      "Root Mean Squared Error: 0.8392888291375215\n",
      "[ 0.12186657 -0.00477944  0.09356833  0.02727086  0.04370935]\n"
     ]
    },
    {
     "data": {
      "text/plain": [
       "<Figure size 432x288 with 0 Axes>"
      ]
     },
     "metadata": {},
     "output_type": "display_data"
    }
   ],
   "source": [
    "reg2 = LinearRegression()\n",
    "\n",
    "X = team_predict['spi_dif'].values.reshape(-1,1)\n",
    "y = team_predict['goals_team_str'].values.reshape(-1,1)\n",
    "\n",
    "scaler = StandardScaler()\n",
    "scaler.fit(X)\n",
    "X=scaler.transform(X)\n",
    "\n",
    "prediction_space = np.linspace(min(X), max(X)).reshape(-1,1)\n",
    "reg2.fit(X, y)\n",
    "result = reg2.predict(prediction_space)\n",
    "print(reg2.score(X,y))\n",
    "\n",
    "LinRegDif_score = reg2.score(X,y)\n",
    "\n",
    "# Plot regression line\n",
    "plt.scatter(X,y)\n",
    "plt.plot(prediction_space, result, color='black', linewidth=3)\n",
    "plt.xlabel(\"Differnce in Soccer Power Index between teams\")\n",
    "plt.ylabel(\"Number of goals scored\")\n",
    "plt.show()\n",
    "plt.clf()\n",
    "\n",
    "X_train, X_test, y_train, y_test = train_test_split(X, y, test_size = 0.2, random_state=42)\n",
    "reg2.fit(X_train, y_train)\n",
    "y_pred = reg2.predict(X_test)\n",
    "print(\"R^2: {}\".format(reg2.score(X_test, y_test)))\n",
    "rmse = np.sqrt(mean_squared_error(y_test, y_pred))\n",
    "print(\"Root Mean Squared Error: {}\".format(rmse))\n",
    "\n",
    "cv_scores = cross_val_score(reg, X, y, cv=5)\n",
    "print(cv_scores)"
   ]
  },
  {
   "cell_type": "markdown",
   "metadata": {},
   "source": [
    "Trying with all variables"
   ]
  },
  {
   "cell_type": "code",
   "execution_count": 601,
   "metadata": {
    "scrolled": true
   },
   "outputs": [
    {
     "name": "stdout",
     "output_type": "stream",
     "text": [
      "\n",
      "Predictions\n",
      "\n",
      "[1.38600759 1.33175692 1.53725339 2.23667967 1.82236722 2.05378413\n",
      " 1.35840122 1.23507037 1.68701041 1.79457139 2.06957027 0.89747665\n",
      " 1.96240249 1.01514455 0.94296903 2.30609587 2.02241878 1.59538909\n",
      " 2.29072927 1.69800589 2.0711519  1.03825677 0.89527897 1.12989539\n",
      " 1.54538108 1.6815763  1.44591801 1.26982131 1.69465586 1.07884144\n",
      " 2.54800978 1.52957476 1.79891331 2.61344403 1.17917494]\n",
      "\n",
      "Score\n",
      "\n",
      "0.24168002416498557\n",
      "\n",
      "Coeficients\n",
      "\n",
      "[-0.13241387  0.02051925  0.38246871  0.38574571]\n",
      "1.7400172302627983\n"
     ]
    },
    {
     "data": {
      "image/png": "[encoded data removed]",
      "text/plain": [
       "<Figure size 432x288 with 1 Axes>"
      ]
     },
     "metadata": {
      "needs_background": "light"
     },
     "output_type": "display_data"
    },
    {
     "data": {
      "text/plain": [
       "<Figure size 432x288 with 0 Axes>"
      ]
     },
     "metadata": {},
     "output_type": "display_data"
    }
   ],
   "source": [
    "reg_all = LinearRegression()\n",
    "\n",
    "X = team_predict.drop('goals_team_str', axis=1).values\n",
    "y = team_predict['goals_team_str'].values\n",
    "\n",
    "scaler = StandardScaler()\n",
    "scaler.fit(X)\n",
    "X=scaler.transform(X)\n",
    "\n",
    "X_train, X_test, y_train, y_test = train_test_split(X, y, test_size = 0.2, random_state=42)\n",
    "reg_all.fit(X_train, y_train)\n",
    "y_pred = reg_all.predict(X_test)\n",
    "\n",
    "print(\"\\nPredictions\\n\")\n",
    "print(y_pred)\n",
    "print(\"\\nScore\\n\")\n",
    "print(reg_all.score(X_test, y_test))\n",
    "print(\"\\nCoeficients\\n\")\n",
    "print(reg_all.coef_)\n",
    "print(reg_all.intercept_)\n",
    "\n",
    "plt.plot(team_predict.drop('goals_team_str', axis = 1).columns, reg_all.coef_)\n",
    "plt.show()\n",
    "plt.clf()\n",
    "\n",
    "LinReg_score = reg_all.score(X_test, y_test)"
   ]
  },
  {
   "cell_type": "markdown",
   "metadata": {},
   "source": [
    "# Logistic regression"
   ]
  },
  {
   "cell_type": "code",
   "execution_count": 602,
   "metadata": {},
   "outputs": [
    {
     "name": "stdout",
     "output_type": "stream",
     "text": [
      "Melhor score com parametro = 0.4540229885057471\n",
      "{'C': 1e-05, 'penalty': 'l2'}\n",
      "\n",
      "Predictions\n",
      "\n",
      "[1. 1. 1. 3. 2. 3. 1. 1. 1. 1. 3. 1. 3. 1. 1. 3. 3. 1. 3. 1. 3. 1. 1. 1.\n",
      " 1. 1. 1. 3. 3. 1. 3. 3. 3. 3. 1.]\n",
      "\n",
      "Precision of model = \n",
      "0.5142857142857142\n",
      "\n",
      "Confusion Matrix: \n",
      "[[ 0  0  0  0]\n",
      " [ 3 10  6  1]\n",
      " [ 0  0  1  0]\n",
      " [ 1  1  5  7]]\n",
      "\n",
      "Classification: \n",
      "             precision    recall  f1-score   support\n",
      "\n",
      "        0.0       0.00      0.00      0.00         0\n",
      "        1.0       0.91      0.50      0.65        20\n",
      "        2.0       0.08      1.00      0.15         1\n",
      "        3.0       0.88      0.50      0.64        14\n",
      "\n",
      "avg / total       0.87      0.51      0.63        35\n",
      "\n",
      "Model predicted 1 goal(s) against Liverpool away -- Real result = 2 [0=0.25, 1=0.25, 2=0.25, 3+=0.25]\n",
      "\n",
      "Result predicted correctly! 1 goal(s) against Leicester City home -- [0=0.25, 1=0.25, 2=0.25, 3+=0.25]\n",
      "\n",
      "Model predicted 1 goal(s) against Watford home -- Real result = 3+ [0=0.25, 1=0.25, 2=0.25, 3+=0.25]\n",
      "\n",
      "Model predicted 3+ goal(s) against Southampton away -- Real result = 2 [0=0.25, 1=0.25, 2=0.25, 3+=0.25]\n",
      "\n",
      "Result predicted correctly! 2 goal(s) against Paris Saint-Germain home -- [0=0.25, 1=0.25, 2=0.25, 3+=0.25]\n",
      "\n",
      "Model predicted 3+ goal(s) against Hull City away -- Real result = 2 [0=0.25, 1=0.25, 2=0.25, 3+=0.25]\n",
      "\n",
      "Model predicted 1 goal(s) against Chelsea home -- Real result = 2 [0=0.25, 1=0.25, 2=0.25, 3+=0.25]\n",
      "\n",
      "Result predicted correctly! 1 goal(s) against Basel home -- [0=0.25, 1=0.25, 2=0.25, 3+=0.25]\n",
      "\n",
      "Model predicted 1 goal(s) against Burnley away -- Real result = 2 [0=0.25, 1=0.25, 2=0.25, 3+=0.25]\n",
      "\n",
      "Result predicted correctly! 1 goal(s) against Swansea City home -- [0=0.25, 1=0.25, 2=0.25, 3+=0.25]\n",
      "\n",
      "Model predicted 3+ goal(s) against Ludogorets away -- Real result = 0 [0=0.25, 1=0.25, 2=0.25, 3+=0.25]\n",
      "\n",
      "Result predicted correctly! 1 goal(s) against Middlesbrough home -- [0=0.25, 1=0.25, 2=0.25, 3+=0.25]\n",
      "\n",
      "Result predicted correctly! 3+ goal(s) against Sunderland away -- [0=0.25, 1=0.25, 2=0.25, 3+=0.25]\n",
      "\n",
      "Model predicted 1 goal(s) against Ludogorets away -- Real result = 0 [0=0.25, 1=0.25, 2=0.25, 3+=0.25]\n",
      "\n",
      "Result predicted correctly! 1 goal(s) against Tottenham Hotspur home -- [0=0.25, 1=0.25, 2=0.25, 3+=0.25]\n",
      "\n",
      "Result predicted correctly! 3+ goal(s) against Manchester United home -- [0=0.25, 1=0.25, 2=0.25, 3+=0.25]\n",
      "\n",
      "Model predicted 3+ goal(s) against Paris Saint-Germain away -- Real result = 1 [0=0.25, 1=0.25, 2=0.25, 3+=0.25]\n",
      "\n",
      "Result predicted correctly! 1 goal(s) against AFC Bournemouth home -- [0=0.25, 1=0.25, 2=0.25, 3+=0.25]\n",
      "\n",
      "Model predicted 3+ goal(s) against West Ham United away -- Real result = 2 [0=0.25, 1=0.25, 2=0.25, 3+=0.25]\n",
      "\n",
      "Model predicted 1 goal(s) against Basel home -- Real result = 2 [0=0.25, 1=0.25, 2=0.25, 3+=0.25]\n",
      "\n",
      "Result predicted correctly! 3+ goal(s) against Stoke City away -- [0=0.25, 1=0.25, 2=0.25, 3+=0.25]\n",
      "\n",
      "Model predicted 1 goal(s) against Everton away -- Real result = 0 [0=0.25, 1=0.25, 2=0.25, 3+=0.25]\n",
      "\n",
      "Result predicted correctly! 1 goal(s) against Manchester City home -- [0=0.25, 1=0.25, 2=0.25, 3+=0.25]\n",
      "\n",
      "Result predicted correctly! 1 goal(s) against West Bromwich Albion away -- [0=0.25, 1=0.25, 2=0.25, 3+=0.25]\n",
      "\n",
      "Result predicted correctly! 1 goal(s) against Crystal Palace home -- [0=0.25, 1=0.25, 2=0.25, 3+=0.25]\n",
      "\n",
      "Model predicted 1 goal(s) against AFC Bournemouth away -- Real result = 2 [0=0.25, 1=0.25, 2=0.25, 3+=0.25]\n",
      "\n",
      "Result predicted correctly! 1 goal(s) against Swansea City away -- [0=0.25, 1=0.25, 2=0.25, 3+=0.25]\n",
      "\n",
      "Result predicted correctly! 3+ goal(s) against Burnley home -- [0=0.25, 1=0.25, 2=0.25, 3+=0.25]\n",
      "\n",
      "Model predicted 3+ goal(s) against Watford away -- Real result = 2 [0=0.25, 1=0.25, 2=0.25, 3+=0.25]\n",
      "\n",
      "Model predicted 1 goal(s) against Chelsea home -- Real result = 0 [0=0.25, 1=0.25, 2=0.25, 3+=0.25]\n",
      "\n",
      "Model predicted 3+ goal(s) against Hull City away -- Real result = 2 [0=0.25, 1=0.25, 2=0.25, 3+=0.25]\n",
      "\n",
      "Result predicted correctly! 3+ goal(s) against Bayern Munich home -- [0=0.25, 1=0.25, 2=0.25, 3+=0.25]\n",
      "\n",
      "Result predicted correctly! 3+ goal(s) against Liverpool home -- [0=0.25, 1=0.25, 2=0.25, 3+=0.25]\n",
      "\n",
      "Result predicted correctly! 3+ goal(s) against Bayern Munich away -- [0=0.25, 1=0.25, 2=0.25, 3+=0.25]\n",
      "\n",
      "Model predicted 1 goal(s) against West Bromwich Albion away -- Real result = 2 [0=0.25, 1=0.25, 2=0.25, 3+=0.25]\n",
      "\n"
     ]
    },
    {
     "name": "stderr",
     "output_type": "stream",
     "text": [
      "C:\\Program Files\\Anaconda3\\lib\\site-packages\\sklearn\\metrics\\classification.py:1137: UndefinedMetricWarning: Recall and F-score are ill-defined and being set to 0.0 in labels with no true samples.\n",
      "  'recall', 'true', average, warn_for)\n"
     ]
    }
   ],
   "source": [
    "X = team_predict.drop('goals_team_str', axis=1).values\n",
    "y = team_predict['goals_team_str'].values\n",
    "\n",
    "scaler = StandardScaler()\n",
    "scaler.fit(X)\n",
    "X=scaler.transform(X)\n",
    "\n",
    "#Choosing best parameter for model\n",
    "c_space = np.logspace(-5, 8, 15)\n",
    "param_grid = {'C': c_space, 'penalty': ['l1', 'l2']}\n",
    "reg_log = LogisticRegression()\n",
    "reg_log_cv = GridSearchCV(reg_log, param_grid, cv=5)\n",
    "reg_log_cv.fit(X, y)\n",
    "\n",
    "print(\"Melhor score com parametro = \" + str(reg_log_cv.best_score_))\n",
    "print(reg_log_cv.best_params_)\n",
    "\n",
    "reg_log = LogisticRegression(C = reg_log_cv.best_params_['C'], penalty = reg_log_cv.best_params_['penalty'])\n",
    "\n",
    "X_train, X_test, y_train, y_test = train_test_split(X, y, test_size = 0.2, random_state=42)\n",
    "reg_log.fit(X_train, y_train)\n",
    "y_pred = reg_log.predict(X_test)\n",
    "\n",
    "print(\"\\nPredictions\\n\")\n",
    "print(y_pred)\n",
    "print(\"\\nPrecision of model = \") \n",
    "print(reg_log.score(X_test, y_test))\n",
    "print(\"\\nConfusion Matrix: \")\n",
    "print(confusion_matrix(reg_log.predict(X_test), y_test))\n",
    "print(\"\\nClassification: \")\n",
    "print(classification_report(reg_log.predict(X_test), y_test))\n",
    "\n",
    "LogReg_score = reg_log.score(X_test, y_test)\n",
    "\n",
    "y_pred = reg_log.predict(X_test)\n",
    "# Compute predicted probabilities: y_pred_prob\n",
    "y_pred_prob = reg_log.predict_proba(X_test)\n",
    "\n",
    "adv_teams = team_done_matches['adv_team'].values\n",
    "\n",
    "for i in range(y_pred_prob.shape[0]) :\n",
    "    if y_pred[i] != y_test[i]:\n",
    "        print(\"Model predicted \" + (str(int(y_pred[i])) if y_pred[i]<3 else \"3+\")  + \" goal(s) against \" + adv_teams[i] + \" \"  + home[i] + \" -- Real result = \" + (str(int(y_test[i])) if y_test[i]<3 else \"3+\") + \" [0=\" + str(round(y_pred_prob[i][0], 3)) + \", 1=\" + str(round(y_pred_prob[i][1], 3)) + \", 2=\" + str(round(y_pred_prob[i][2], 3)) + \", 3+=\" + str(round(y_pred_prob[i][3], 3)) + \"]\" + \"\\n\") \n",
    "    else :\n",
    "        print(\"Result predicted correctly! \" + (str(int(y_pred[i])) if y_pred[i]<3 else \"3+\") + \" goal(s) against \" + adv_teams[i] + \" \"  + home[i] + \" -- \"+ \"[0=\" + str(round(y_pred_prob[i][0], 3)) + \", 1=\" + str(round(y_pred_prob[i][1], 3)) + \", 2=\" + str(round(y_pred_prob[i][2], 3)) + \", 3+=\" + str(round(y_pred_prob[i][3], 3)) + \"]\" + \"\\n\") "
   ]
  },
  {
   "cell_type": "markdown",
   "metadata": {},
   "source": [
    "# Decision tree model"
   ]
  },
  {
   "cell_type": "code",
   "execution_count": 603,
   "metadata": {},
   "outputs": [
    {
     "name": "stdout",
     "output_type": "stream",
     "text": [
      "Tuned Decision Tree Parameters: {'criterion': 'gini', 'max_depth': 3, 'max_features': 3, 'min_samples_leaf': 8}\n",
      "Best score is 0.3850574712643678\n",
      "\n",
      "Predictions\n",
      "\n",
      "[2. 3. 3. 3. 3. 2. 3. 3. 3. 3. 2. 0. 3. 0. 0. 3. 2. 1. 3. 3. 2. 0. 0. 0.\n",
      " 1. 3. 2. 2. 3. 0. 3. 3. 3. 3. 3.]\n",
      "\n",
      "Precision of model = \n",
      "0.37142857142857144\n",
      "\n",
      "Confusion Matrix: \n",
      "[[ 3  4  0  0]\n",
      " [ 0  2  0  0]\n",
      " [ 1  2  2  2]\n",
      " [ 0  3 10  6]]\n",
      "\n",
      "Classification: \n",
      "             precision    recall  f1-score   support\n",
      "\n",
      "        0.0       0.75      0.43      0.55         7\n",
      "        1.0       0.18      1.00      0.31         2\n",
      "        2.0       0.17      0.29      0.21         7\n",
      "        3.0       0.75      0.32      0.44        19\n",
      "\n",
      "avg / total       0.60      0.37      0.41        35\n",
      "\n",
      "Result predicted correctly! 2 goal(s) against Liverpool home -- [0=0.143, 1=0.095, 2=0.571, 3+=0.19]\n",
      "\n",
      "Model predicted 3+ goal(s) against Leicester City away -- Real result = 1 [0=0.067, 1=0.3, 2=0.233, 3+=0.4]\n",
      "\n",
      "Result predicted correctly! 3+ goal(s) against Watford away -- [0=0.083, 1=0.267, 2=0.117, 3+=0.533]\n",
      "\n",
      "Model predicted 3+ goal(s) against Southampton home -- Real result = 2 [0=0.083, 1=0.267, 2=0.117, 3+=0.533]\n",
      "\n",
      "Model predicted 3+ goal(s) against Paris Saint-Germain away -- Real result = 2 [0=0.067, 1=0.3, 2=0.233, 3+=0.4]\n",
      "\n",
      "Result predicted correctly! 2 goal(s) against Hull City away -- [0=0.143, 1=0.095, 2=0.571, 3+=0.19]\n",
      "\n",
      "Model predicted 3+ goal(s) against Chelsea home -- Real result = 2 [0=0.067, 1=0.3, 2=0.233, 3+=0.4]\n",
      "\n",
      "Model predicted 3+ goal(s) against Basel home -- Real result = 1 [0=0.067, 1=0.3, 2=0.233, 3+=0.4]\n",
      "\n",
      "Model predicted 3+ goal(s) against Burnley away -- Real result = 2 [0=0.067, 1=0.3, 2=0.233, 3+=0.4]\n",
      "\n",
      "Model predicted 3+ goal(s) against Swansea City home -- Real result = 1 [0=0.067, 1=0.3, 2=0.233, 3+=0.4]\n",
      "\n",
      "Model predicted 2 goal(s) against Ludogorets home -- Real result = 0 [0=0.143, 1=0.095, 2=0.571, 3+=0.19]\n",
      "\n",
      "Model predicted 0 goal(s) against Middlesbrough home -- Real result = 1 [0=0.5, 1=0.3, 2=0.1, 3+=0.1]\n",
      "\n",
      "Result predicted correctly! 3+ goal(s) against Sunderland away -- [0=0.067, 1=0.3, 2=0.233, 3+=0.4]\n",
      "\n",
      "Result predicted correctly! 0 goal(s) against Ludogorets away -- [0=0.5, 1=0.3, 2=0.1, 3+=0.1]\n",
      "\n",
      "Model predicted 0 goal(s) against Tottenham Hotspur home -- Real result = 1 [0=0.5, 1=0.3, 2=0.1, 3+=0.1]\n",
      "\n",
      "Result predicted correctly! 3+ goal(s) against Manchester United away -- [0=0.083, 1=0.267, 2=0.117, 3+=0.533]\n",
      "\n",
      "Model predicted 2 goal(s) against Paris Saint-Germain home -- Real result = 1 [0=0.143, 1=0.095, 2=0.571, 3+=0.19]\n",
      "\n",
      "Result predicted correctly! 1 goal(s) against AFC Bournemouth home -- [0=0.375, 1=0.625, 2=0.0, 3+=0.0]\n",
      "\n",
      "Model predicted 3+ goal(s) against West Ham United away -- Real result = 2 [0=0.083, 1=0.267, 2=0.117, 3+=0.533]\n",
      "\n",
      "Model predicted 3+ goal(s) against Basel away -- Real result = 2 [0=0.067, 1=0.3, 2=0.233, 3+=0.4]\n",
      "\n",
      "Model predicted 2 goal(s) against Stoke City home -- Real result = 3+ [0=0.143, 1=0.095, 2=0.571, 3+=0.19]\n",
      "\n",
      "Result predicted correctly! 0 goal(s) against Everton away -- [0=0.5, 1=0.3, 2=0.1, 3+=0.1]\n",
      "\n",
      "Model predicted 0 goal(s) against Manchester City away -- Real result = 1 [0=0.5, 1=0.3, 2=0.1, 3+=0.1]\n",
      "\n",
      "Model predicted 0 goal(s) against West Bromwich Albion home -- Real result = 1 [0=0.5, 1=0.3, 2=0.1, 3+=0.1]\n",
      "\n",
      "Result predicted correctly! 1 goal(s) against Crystal Palace home -- [0=0.375, 1=0.625, 2=0.0, 3+=0.0]\n",
      "\n",
      "Model predicted 3+ goal(s) against AFC Bournemouth away -- Real result = 2 [0=0.067, 1=0.3, 2=0.233, 3+=0.4]\n",
      "\n",
      "Model predicted 2 goal(s) against Swansea City away -- Real result = 1 [0=0.143, 1=0.095, 2=0.571, 3+=0.19]\n",
      "\n",
      "Model predicted 2 goal(s) against Burnley home -- Real result = 3+ [0=0.143, 1=0.095, 2=0.571, 3+=0.19]\n",
      "\n",
      "Model predicted 3+ goal(s) against Watford home -- Real result = 2 [0=0.067, 1=0.3, 2=0.233, 3+=0.4]\n",
      "\n",
      "Result predicted correctly! 0 goal(s) against Chelsea away -- [0=0.5, 1=0.3, 2=0.1, 3+=0.1]\n",
      "\n",
      "Model predicted 3+ goal(s) against Hull City home -- Real result = 2 [0=0.083, 1=0.267, 2=0.117, 3+=0.533]\n",
      "\n",
      "Result predicted correctly! 3+ goal(s) against Bayern Munich away -- [0=0.083, 1=0.267, 2=0.117, 3+=0.533]\n",
      "\n",
      "Result predicted correctly! 3+ goal(s) against Liverpool away -- [0=0.083, 1=0.267, 2=0.117, 3+=0.533]\n",
      "\n",
      "Result predicted correctly! 3+ goal(s) against Bayern Munich home -- [0=0.083, 1=0.267, 2=0.117, 3+=0.533]\n",
      "\n",
      "Model predicted 3+ goal(s) against West Bromwich Albion away -- Real result = 2 [0=0.067, 1=0.3, 2=0.233, 3+=0.4]\n",
      "\n"
     ]
    }
   ],
   "source": [
    "X = team_predict.drop('goals_team_str', axis=1).values\n",
    "y = team_predict['goals_team_str'].values\n",
    "\n",
    "scaler = StandardScaler()\n",
    "scaler.fit(X)\n",
    "X=scaler.transform(X)\n",
    "\n",
    "#Finding best parameters for Decision tree\n",
    "# Setup the parameters and distributions to sample from: param_dist\n",
    "param_dist = {\"max_depth\": [3, None],\n",
    "              \"max_features\": randint(1, 5),\n",
    "              \"min_samples_leaf\": randint(1, 9),\n",
    "              \"criterion\": [\"gini\", \"entropy\"]}\n",
    "# Instantiate a Decision Tree classifier: tree\n",
    "tree = DecisionTreeClassifier()\n",
    "# Instantiate the RandomizedSearchCV object: tree_cv\n",
    "tree_cv = RandomizedSearchCV(tree, param_dist, cv=5)\n",
    "# Fit it to the data\n",
    "tree_cv.fit(X,y)\n",
    "\n",
    "# Print the tuned parameters and score\n",
    "print(\"Tuned Decision Tree Parameters: {}\".format(tree_cv.best_params_))\n",
    "print(\"Best score is {}\".format(tree_cv.best_score_))\n",
    "\n",
    "tree = DecisionTreeClassifier(criterion = tree_cv.best_params_['criterion'], max_depth = tree_cv.best_params_['max_depth'], max_features = tree_cv.best_params_['max_features'], min_samples_leaf = tree_cv.best_params_['min_samples_leaf'])\n",
    "\n",
    "X_train, X_test, y_train, y_test = train_test_split(X, y, test_size = 0.2, random_state=42)\n",
    "tree.fit(X_train, y_train)\n",
    "y_pred = tree.predict(X_test)\n",
    "\n",
    "print(\"\\nPredictions\\n\")\n",
    "print(y_pred)\n",
    "print(\"\\nPrecision of model = \") \n",
    "print(tree.score(X_test, y_test))\n",
    "print(\"\\nConfusion Matrix: \")\n",
    "print(confusion_matrix(tree.predict(X_test), y_test))\n",
    "print(\"\\nClassification: \")\n",
    "print(classification_report(tree.predict(X_test), y_test))\n",
    "\n",
    "Tree_score = tree.score(X_test, y_test)\n",
    "\n",
    "# Compute predicted probabilities: y_pred_prob\n",
    "y_pred_prob = tree.predict_proba(X_test)\n",
    "\n",
    "adv_teams = team_done_matches['adv_team'].values\n",
    "home = team_done_matches['place'].values\n",
    "\n",
    "for i in range(y_pred_prob.shape[0]) :\n",
    "    if y_pred[i] != y_test[i]:\n",
    "        print(\"Model predicted \" + (str(int(y_pred[i])) if y_pred[i]<3 else \"3+\")  + \" goal(s) against \" + adv_teams[i] + \" \"  + home[i] + \" -- Real result = \" + (str(int(y_test[i])) if y_test[i]<3 else \"3+\") + \" [0=\" + str(round(y_pred_prob[i][0], 3)) + \", 1=\" + str(round(y_pred_prob[i][1], 3)) + \", 2=\" + str(round(y_pred_prob[i][2], 3)) + \", 3+=\" + str(round(y_pred_prob[i][3], 3)) + \"]\" + \"\\n\") \n",
    "    else :\n",
    "        print(\"Result predicted correctly! \" + (str(int(y_pred[i])) if y_pred[i]<3 else \"3+\") + \" goal(s) against \" + adv_teams[i] + \" \"  + home[i] + \" -- \"+ \"[0=\" + str(round(y_pred_prob[i][0], 3)) + \", 1=\" + str(round(y_pred_prob[i][1], 3)) + \", 2=\" + str(round(y_pred_prob[i][2], 3)) + \", 3+=\" + str(round(y_pred_prob[i][3], 3)) + \"]\" + \"\\n\") "
   ]
  },
  {
   "cell_type": "markdown",
   "metadata": {},
   "source": [
    "# Ridge model"
   ]
  },
  {
   "cell_type": "code",
   "execution_count": 604,
   "metadata": {},
   "outputs": [
    {
     "name": "stdout",
     "output_type": "stream",
     "text": [
      "Tuned Decision Tree Parameters: {'alpha': 1.0}\n",
      "Best score is 0.10685623573492052\n",
      "\n",
      "Predictions\n",
      "\n",
      "[1.57373626 1.56041333 1.67163412 2.09178243 1.71776162 1.98826885\n",
      " 1.51462204 1.4413043  1.63424762 1.70248334 1.93431925 1.1852516\n",
      " 1.88926757 1.27858593 1.23065436 2.13097148 1.96682028 1.67383266\n",
      " 2.10566043 1.66722413 1.94329672 1.30076436 1.16447388 1.29827571\n",
      " 1.63252128 1.64469449 1.5554565  1.73232622 1.77693804 1.29093787\n",
      " 2.17613749 1.75938599 1.87728042 2.26623771 1.43049853]\n",
      "\n",
      "Real Results\n",
      "\n",
      "[2. 1. 3. 2. 2. 2. 2. 1. 2. 1. 0. 1. 3. 0. 1. 3. 1. 1. 2. 2. 3. 0. 1. 1.\n",
      " 1. 2. 1. 3. 2. 0. 2. 3. 3. 3. 2.]\n",
      "\n",
      "Precision of model = \n",
      "0.2662107011202409\n",
      "\n",
      "R^2: 0.2662107011202409\n",
      "Root Mean Squared Error: 0.8132090054227238\n"
     ]
    }
   ],
   "source": [
    "X = team_predict.drop('goals_team_str', axis=1).values\n",
    "y = team_predict['goals_team_str'].values\n",
    "\n",
    "scaler = StandardScaler()\n",
    "scaler.fit(X)\n",
    "X=scaler.transform(X)\n",
    "\n",
    "# Setup the parameters and distributions to sample from: param_dist\n",
    "linear_space = np.linspace(0, 1)\n",
    "\n",
    "param_dist = {\"alpha\": linear_space}\n",
    "\n",
    "ridge_reg = Ridge()\n",
    "\n",
    "ridge_reg_cv = GridSearchCV(ridge_reg, param_dist, cv=5)\n",
    "\n",
    "ridge_reg_cv.fit(X,y)\n",
    "\n",
    "# Print the tuned parameters and score\n",
    "print(\"Tuned Decision Tree Parameters: {}\".format(ridge_reg_cv.best_params_))\n",
    "print(\"Best score is {}\".format(ridge_reg_cv.best_score_))\n",
    "\n",
    "ridge_reg = Ridge(alpha = ridge_reg_cv.best_params_['alpha'], normalize = True)\n",
    "\n",
    "X_train, X_test, y_train, y_test = train_test_split(X, y, test_size = 0.2, random_state=42)\n",
    "ridge_reg.fit(X_train, y_train)\n",
    "y_pred = ridge_reg.predict(X_test)\n",
    "\n",
    "print(\"\\nPredictions\\n\")\n",
    "print(y_pred)\n",
    "print(\"\\nReal Results\\n\")\n",
    "print(y_test)\n",
    "print(\"\\nPrecision of model = \") \n",
    "print(ridge_reg.score(X_test, y_test))\n",
    "\n",
    "print(\"\\nR^2: {}\".format(ridge_reg.score(X_test, y_test)))\n",
    "rmse = np.sqrt(mean_squared_error(y_test, y_pred))\n",
    "print(\"Root Mean Squared Error: {}\".format(rmse))\n",
    "\n",
    "Ridge_score = ridge_reg.score(X_test, y_test)"
   ]
  },
  {
   "cell_type": "markdown",
   "metadata": {},
   "source": [
    "# Lasso model"
   ]
  },
  {
   "cell_type": "code",
   "execution_count": 605,
   "metadata": {
    "scrolled": true
   },
   "outputs": [
    {
     "name": "stderr",
     "output_type": "stream",
     "text": [
      "C:\\Program Files\\Anaconda3\\lib\\site-packages\\sklearn\\model_selection\\_validation.py:458: UserWarning: With alpha=0, this algorithm does not converge well. You are advised to use the LinearRegression estimator\n",
      "  estimator.fit(X_train, y_train, **fit_params)\n",
      "C:\\Program Files\\Anaconda3\\lib\\site-packages\\sklearn\\linear_model\\coordinate_descent.py:477: UserWarning: Coordinate descent with no regularization may lead to unexpected results and is discouraged.\n",
      "  positive)\n",
      "C:\\Program Files\\Anaconda3\\lib\\site-packages\\sklearn\\linear_model\\coordinate_descent.py:491: ConvergenceWarning: Objective did not converge. You might want to increase the number of iterations. Fitting data with very small alpha may cause precision problems.\n",
      "  ConvergenceWarning)\n",
      "C:\\Program Files\\Anaconda3\\lib\\site-packages\\sklearn\\model_selection\\_validation.py:458: UserWarning: With alpha=0, this algorithm does not converge well. You are advised to use the LinearRegression estimator\n",
      "  estimator.fit(X_train, y_train, **fit_params)\n",
      "C:\\Program Files\\Anaconda3\\lib\\site-packages\\sklearn\\linear_model\\coordinate_descent.py:477: UserWarning: Coordinate descent with no regularization may lead to unexpected results and is discouraged.\n",
      "  positive)\n",
      "C:\\Program Files\\Anaconda3\\lib\\site-packages\\sklearn\\linear_model\\coordinate_descent.py:491: ConvergenceWarning: Objective did not converge. You might want to increase the number of iterations. Fitting data with very small alpha may cause precision problems.\n",
      "  ConvergenceWarning)\n",
      "C:\\Program Files\\Anaconda3\\lib\\site-packages\\sklearn\\model_selection\\_validation.py:458: UserWarning: With alpha=0, this algorithm does not converge well. You are advised to use the LinearRegression estimator\n",
      "  estimator.fit(X_train, y_train, **fit_params)\n",
      "C:\\Program Files\\Anaconda3\\lib\\site-packages\\sklearn\\linear_model\\coordinate_descent.py:477: UserWarning: Coordinate descent with no regularization may lead to unexpected results and is discouraged.\n",
      "  positive)\n",
      "C:\\Program Files\\Anaconda3\\lib\\site-packages\\sklearn\\linear_model\\coordinate_descent.py:491: ConvergenceWarning: Objective did not converge. You might want to increase the number of iterations. Fitting data with very small alpha may cause precision problems.\n",
      "  ConvergenceWarning)\n",
      "C:\\Program Files\\Anaconda3\\lib\\site-packages\\sklearn\\model_selection\\_validation.py:458: UserWarning: With alpha=0, this algorithm does not converge well. You are advised to use the LinearRegression estimator\n",
      "  estimator.fit(X_train, y_train, **fit_params)\n",
      "C:\\Program Files\\Anaconda3\\lib\\site-packages\\sklearn\\linear_model\\coordinate_descent.py:477: UserWarning: Coordinate descent with no regularization may lead to unexpected results and is discouraged.\n",
      "  positive)\n",
      "C:\\Program Files\\Anaconda3\\lib\\site-packages\\sklearn\\linear_model\\coordinate_descent.py:491: ConvergenceWarning: Objective did not converge. You might want to increase the number of iterations. Fitting data with very small alpha may cause precision problems.\n",
      "  ConvergenceWarning)\n",
      "C:\\Program Files\\Anaconda3\\lib\\site-packages\\sklearn\\model_selection\\_validation.py:458: UserWarning: With alpha=0, this algorithm does not converge well. You are advised to use the LinearRegression estimator\n",
      "  estimator.fit(X_train, y_train, **fit_params)\n",
      "C:\\Program Files\\Anaconda3\\lib\\site-packages\\sklearn\\linear_model\\coordinate_descent.py:477: UserWarning: Coordinate descent with no regularization may lead to unexpected results and is discouraged.\n",
      "  positive)\n",
      "C:\\Program Files\\Anaconda3\\lib\\site-packages\\sklearn\\linear_model\\coordinate_descent.py:491: ConvergenceWarning: Objective did not converge. You might want to increase the number of iterations. Fitting data with very small alpha may cause precision problems.\n",
      "  ConvergenceWarning)\n"
     ]
    },
    {
     "name": "stdout",
     "output_type": "stream",
     "text": [
      "Tuned Decision Tree Parameters: {'alpha': 0.061224489795918366}\n",
      "Best score is 0.1180415146779689\n",
      "\n",
      "Predictions\n",
      "\n",
      "[1.76978417 1.76978417 1.76978417 1.76978417 1.76978417 1.76978417\n",
      " 1.76978417 1.76978417 1.76978417 1.76978417 1.76978417 1.76978417\n",
      " 1.76978417 1.76978417 1.76978417 1.76978417 1.76978417 1.76978417\n",
      " 1.76978417 1.76978417 1.76978417 1.76978417 1.76978417 1.76978417\n",
      " 1.76978417 1.76978417 1.76978417 1.76978417 1.76978417 1.76978417\n",
      " 1.76978417 1.76978417 1.76978417 1.76978417 1.76978417]\n",
      "\n",
      "Real results\n",
      "\n",
      "[2. 1. 3. 2. 2. 2. 2. 1. 2. 1. 0. 1. 3. 0. 1. 3. 1. 1. 2. 2. 3. 0. 1. 1.\n",
      " 1. 2. 1. 3. 2. 0. 2. 3. 3. 3. 2.]\n",
      "\n",
      "Precision of model = \n",
      "-0.00784238108418478\n",
      "\n",
      "R^2: -0.00784238108418478\n",
      "Root Mean Squared Error: 0.953043669349573\n"
     ]
    }
   ],
   "source": [
    "X = team_predict.drop('goals_team_str', axis=1).values\n",
    "y = team_predict['goals_team_str'].values\n",
    "\n",
    "scaler = StandardScaler()\n",
    "scaler.fit(X)\n",
    "X=scaler.transform(X)\n",
    "\n",
    "# Setup the parameters and distributions to sample from: param_dist\n",
    "linear_space = np.linspace(0, 1)\n",
    "\n",
    "param_dist = {\"alpha\": linear_space}\n",
    "\n",
    "lasso_reg = Lasso()\n",
    "\n",
    "lasso_reg_cv = GridSearchCV(lasso_reg, param_dist, cv=5)\n",
    "\n",
    "lasso_reg_cv.fit(X,y)\n",
    "\n",
    "# Print the tuned parameters and score\n",
    "print(\"Tuned Decision Tree Parameters: {}\".format(lasso_reg_cv.best_params_))\n",
    "print(\"Best score is {}\".format(lasso_reg_cv.best_score_))\n",
    "\n",
    "lasso_reg = Lasso(alpha = lasso_reg_cv.best_params_['alpha'], normalize = True)\n",
    "\n",
    "X_train, X_test, y_train, y_test = train_test_split(X, y, test_size = 0.2, random_state=42)\n",
    "lasso_reg.fit(X_train, y_train)\n",
    "y_pred = lasso_reg.predict(X_test)\n",
    "\n",
    "print(\"\\nPredictions\\n\")\n",
    "print(y_pred)\n",
    "print(\"\\nReal results\\n\")\n",
    "print(y_test)\n",
    "print(\"\\nPrecision of model = \") \n",
    "print(lasso_reg.score(X_test, y_test))\n",
    "\n",
    "print(\"\\nR^2: {}\".format(lasso_reg.score(X_test, y_test)))\n",
    "rmse = np.sqrt(mean_squared_error(y_test, y_pred))\n",
    "print(\"Root Mean Squared Error: {}\".format(rmse))\n",
    "\n",
    "Lasso_score = lasso_reg.score(X_test, y_test)"
   ]
  },
  {
   "cell_type": "markdown",
   "metadata": {},
   "source": [
    "# Suport vector machine model"
   ]
  },
  {
   "cell_type": "code",
   "execution_count": 606,
   "metadata": {},
   "outputs": [
    {
     "name": "stdout",
     "output_type": "stream",
     "text": [
      "Melhor score com parametro = 0.3735632183908046\n",
      "{'C': 0.4393970560760795}\n",
      "\n",
      "Predictions\n",
      "\n",
      "[1. 1. 1. 3. 3. 3. 1. 1. 3. 3. 3. 1. 3. 1. 1. 3. 3. 1. 3. 3. 3. 1. 1. 1.\n",
      " 1. 1. 1. 1. 3. 1. 3. 1. 3. 3. 1.]\n",
      "\n",
      "Precision of model = \n",
      "0.4\n",
      "\n",
      "Confusion Matrix: \n",
      "[[0 0 0 0]\n",
      " [3 9 4 3]\n",
      " [0 0 0 0]\n",
      " [1 2 8 5]]\n",
      "\n",
      "Classification: \n",
      "             precision    recall  f1-score   support\n",
      "\n",
      "        0.0       0.00      0.00      0.00         0\n",
      "        1.0       0.82      0.47      0.60        19\n",
      "        2.0       0.00      0.00      0.00         0\n",
      "        3.0       0.62      0.31      0.42        16\n",
      "\n",
      "avg / total       0.73      0.40      0.52        35\n",
      "\n",
      "Model predicted 1 goal(s) against Liverpool home -- Real result = 2 [0=0.158, 1=0.418, 2=0.169, 3+=0.255]\n",
      "\n",
      "Result predicted correctly! 1 goal(s) against Leicester City away -- [0=0.181, 1=0.4, 2=0.171, 3+=0.248]\n",
      "\n",
      "Model predicted 1 goal(s) against Watford away -- Real result = 3+ [0=0.147, 1=0.382, 2=0.177, 3+=0.293]\n",
      "\n",
      "Model predicted 3+ goal(s) against Southampton home -- Real result = 2 [0=0.118, 1=0.213, 2=0.241, 3+=0.428]\n",
      "\n",
      "Model predicted 3+ goal(s) against Paris Saint-Germain away -- Real result = 2 [0=0.122, 1=0.232, 2=0.229, 3+=0.417]\n",
      "\n",
      "Model predicted 3+ goal(s) against Hull City away -- Real result = 2 [0=0.122, 1=0.252, 2=0.222, 3+=0.404]\n",
      "\n",
      "Model predicted 1 goal(s) against Chelsea home -- Real result = 2 [0=0.169, 1=0.427, 2=0.165, 3+=0.239]\n",
      "\n",
      "Result predicted correctly! 1 goal(s) against Basel home -- [0=0.194, 1=0.43, 2=0.161, 3+=0.216]\n",
      "\n",
      "Model predicted 3+ goal(s) against Burnley away -- Real result = 2 [0=0.159, 1=0.302, 2=0.187, 3+=0.352]\n",
      "\n",
      "Model predicted 3+ goal(s) against Swansea City home -- Real result = 1 [0=0.133, 1=0.245, 2=0.213, 3+=0.41]\n",
      "\n",
      "Model predicted 3+ goal(s) against Ludogorets home -- Real result = 0 [0=0.119, 1=0.222, 2=0.238, 3+=0.421]\n",
      "\n",
      "Result predicted correctly! 1 goal(s) against Middlesbrough home -- [0=0.219, 1=0.411, 2=0.163, 3+=0.207]\n",
      "\n",
      "Result predicted correctly! 3+ goal(s) against Sunderland away -- [0=0.115, 1=0.204, 2=0.245, 3+=0.436]\n",
      "\n",
      "Model predicted 1 goal(s) against Ludogorets away -- Real result = 0 [0=0.231, 1=0.412, 2=0.16, 3+=0.198]\n",
      "\n",
      "Result predicted correctly! 1 goal(s) against Tottenham Hotspur home -- [0=0.218, 1=0.415, 2=0.162, 3+=0.205]\n",
      "\n",
      "Result predicted correctly! 3+ goal(s) against Manchester United away -- [0=0.118, 1=0.215, 2=0.236, 3+=0.431]\n",
      "\n",
      "Model predicted 3+ goal(s) against Paris Saint-Germain home -- Real result = 1 [0=0.116, 1=0.204, 2=0.247, 3+=0.433]\n",
      "\n",
      "Result predicted correctly! 1 goal(s) against AFC Bournemouth home -- [0=0.148, 1=0.375, 2=0.178, 3+=0.3]\n",
      "\n",
      "Model predicted 3+ goal(s) against West Ham United away -- Real result = 2 [0=0.122, 1=0.248, 2=0.229, 3+=0.401]\n",
      "\n",
      "Model predicted 3+ goal(s) against Basel away -- Real result = 2 [0=0.158, 1=0.301, 2=0.187, 3+=0.354]\n",
      "\n",
      "Result predicted correctly! 3+ goal(s) against Stoke City home -- [0=0.119, 1=0.241, 2=0.225, 3+=0.415]\n",
      "\n",
      "Model predicted 1 goal(s) against Everton away -- Real result = 0 [0=0.223, 1=0.412, 2=0.161, 3+=0.204]\n",
      "\n",
      "Result predicted correctly! 1 goal(s) against Manchester City away -- [0=0.213, 1=0.409, 2=0.165, 3+=0.213]\n",
      "\n",
      "Result predicted correctly! 1 goal(s) against West Bromwich Albion home -- [0=0.226, 1=0.415, 2=0.159, 3+=0.2]\n",
      "\n",
      "Result predicted correctly! 1 goal(s) against Crystal Palace home -- [0=0.145, 1=0.404, 2=0.177, 3+=0.274]\n",
      "\n",
      "Model predicted 1 goal(s) against AFC Bournemouth away -- Real result = 2 [0=0.164, 1=0.428, 2=0.164, 3+=0.245]\n",
      "\n",
      "Result predicted correctly! 1 goal(s) against Swansea City away -- [0=0.16, 1=0.42, 2=0.166, 3+=0.253]\n",
      "\n",
      "Model predicted 1 goal(s) against Burnley home -- Real result = 3+ [0=0.156, 1=0.357, 2=0.188, 3+=0.299]\n",
      "\n",
      "Model predicted 3+ goal(s) against Watford home -- Real result = 2 [0=0.142, 1=0.281, 2=0.2, 3+=0.377]\n",
      "\n",
      "Model predicted 1 goal(s) against Chelsea away -- Real result = 0 [0=0.224, 1=0.413, 2=0.161, 3+=0.202]\n",
      "\n",
      "Model predicted 3+ goal(s) against Hull City home -- Real result = 2 [0=0.128, 1=0.31, 2=0.207, 3+=0.356]\n",
      "\n",
      "Model predicted 1 goal(s) against Bayern Munich away -- Real result = 3+ [0=0.147, 1=0.347, 2=0.19, 3+=0.317]\n",
      "\n",
      "Result predicted correctly! 3+ goal(s) against Liverpool away -- [0=0.143, 1=0.302, 2=0.202, 3+=0.352]\n",
      "\n",
      "Result predicted correctly! 3+ goal(s) against Bayern Munich home -- [0=0.124, 1=0.259, 2=0.209, 3+=0.408]\n",
      "\n",
      "Model predicted 1 goal(s) against West Bromwich Albion away -- Real result = 2 [0=0.2, 1=0.43, 2=0.16, 3+=0.209]\n",
      "\n"
     ]
    },
    {
     "name": "stderr",
     "output_type": "stream",
     "text": [
      "C:\\Program Files\\Anaconda3\\lib\\site-packages\\sklearn\\metrics\\classification.py:1137: UndefinedMetricWarning: Recall and F-score are ill-defined and being set to 0.0 in labels with no true samples.\n",
      "  'recall', 'true', average, warn_for)\n"
     ]
    }
   ],
   "source": [
    "X = team_predict.drop('goals_team_str', axis=1).values\n",
    "y = team_predict['goals_team_str'].values\n",
    "\n",
    "scaler = StandardScaler()\n",
    "scaler.fit(X)\n",
    "X=scaler.transform(X)\n",
    "\n",
    "#Choosing best parameter for model\n",
    "c_space = np.logspace(-5, 8, 15)\n",
    "param_grid = {'C': c_space}\n",
    "reg_svc = SVC()\n",
    "reg_svc_cv = GridSearchCV(reg_svc, param_grid, cv=5)\n",
    "reg_svc_cv.fit(X, y)\n",
    "\n",
    "print(\"Melhor score com parametro = \" + str(reg_svc_cv.best_score_))\n",
    "print(reg_svc_cv.best_params_)\n",
    "\n",
    "reg_svc = SVC(C = reg_svc_cv.best_params_['C'], probability = True)\n",
    "\n",
    "X_train, X_test, y_train, y_test = train_test_split(X, y, test_size = 0.2, random_state=42)\n",
    "reg_svc.fit(X_train, y_train)\n",
    "y_pred = reg_svc.predict(X_test)\n",
    "\n",
    "print(\"\\nPredictions\\n\")\n",
    "print(y_pred)\n",
    "print(\"\\nPrecision of model = \") \n",
    "print(reg_svc.score(X_test, y_test))\n",
    "print(\"\\nConfusion Matrix: \")\n",
    "print(confusion_matrix(reg_svc.predict(X_test), y_test))\n",
    "print(\"\\nClassification: \")\n",
    "print(classification_report(reg_svc.predict(X_test), y_test))\n",
    "\n",
    "SVM_score = reg_svc.score(X_test, y_test)\n",
    "\n",
    "# Compute predicted probabilities: y_pred_prob\n",
    "y_pred_prob = reg_svc.predict_proba(X_test)\n",
    "\n",
    "adv_teams = team_done_matches['adv_team'].values\n",
    "\n",
    "for i in range(y_pred_prob.shape[0]) :\n",
    "    if y_pred[i] != y_test[i]:\n",
    "        print(\"Model predicted \" + (str(int(y_pred[i])) if y_pred[i]<3 else \"3+\")  + \" goal(s) against \" + adv_teams[i] + \" \"  + home[i] + \" -- Real result = \" + (str(int(y_test[i])) if y_test[i]<3 else \"3+\") + \" [0=\" + str(round(y_pred_prob[i][0], 3)) + \", 1=\" + str(round(y_pred_prob[i][1], 3)) + \", 2=\" + str(round(y_pred_prob[i][2], 3)) + \", 3+=\" + str(round(y_pred_prob[i][3], 3)) + \"]\" + \"\\n\") \n",
    "    else :\n",
    "        print(\"Result predicted correctly! \" + (str(int(y_pred[i])) if y_pred[i]<3 else \"3+\") + \" goal(s) against \" + adv_teams[i] + \" \"  + home[i] + \" -- \"+ \"[0=\" + str(round(y_pred_prob[i][0], 3)) + \", 1=\" + str(round(y_pred_prob[i][1], 3)) + \", 2=\" + str(round(y_pred_prob[i][2], 3)) + \", 3+=\" + str(round(y_pred_prob[i][3], 3)) + \"]\" + \"\\n\") "
   ]
  },
  {
   "cell_type": "code",
   "execution_count": 607,
   "metadata": {},
   "outputs": [
    {
     "name": "stdout",
     "output_type": "stream",
     "text": [
      "Lasso_score: -0.00784238108418478\n",
      "LinRegDif_score: 0.08454670825123689\n",
      "LinRegProb_score: 0.15156486173097572\n",
      "LinReg_score: 0.24168002416498557\n",
      "Ridge_score: 0.2662107011202409\n",
      "Tree_score: 0.37142857142857144\n",
      "SVM_score: 0.4\n",
      "KNN_score: 0.45714285714285713\n",
      "LogReg_score: 0.5142857142857142\n"
     ]
    }
   ],
   "source": [
    "array_scores = {'SVM_score': SVM_score, 'Ridge_score': Ridge_score, 'Lasso_score': Lasso_score, 'LogReg_score': LogReg_score, 'Tree_score': Tree_score, 'LinRegDif_score': LinRegDif_score, 'LinRegProb_score': LinRegProb_score, 'LinReg_score': LinReg_score, 'KNN_score': KNN_score}\n",
    "ordered_scores = {k: v for k, v in sorted(array_scores.items(), key=lambda item: item[1])}\n",
    "for index, value in ordered_scores.items():\n",
    "    print(index + \": \" + str(value))"
   ]
  },
  {
   "cell_type": "code",
   "execution_count": null,
   "metadata": {},
   "outputs": [],
   "source": []
  }
 ],
 "metadata": {
  "kernelspec": {
   "display_name": "Python 3",
   "language": "python",
   "name": "python3"
  },
  "language_info": {
   "codemirror_mode": {
    "name": "ipython",
    "version": 3
   },
   "file_extension": ".py",
   "mimetype": "text/x-python",
   "name": "python",
   "nbconvert_exporter": "python",
   "pygments_lexer": "ipython3",
   "version": "3.7.0"
  }
 },
 "nbformat": 4,
 "nbformat_minor": 2
}
