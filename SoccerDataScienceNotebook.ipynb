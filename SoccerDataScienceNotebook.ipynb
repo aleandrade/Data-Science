{
 "cells": [
  {
   "cell_type": "code",
   "execution_count": 264,
   "metadata": {},
   "outputs": [],
   "source": [
    "import pandas as pd\n",
    "import numpy as np\n",
    "import matplotlib.pyplot as plt\n",
    "import datetime\n",
    "from sklearn.neighbors import KNeighborsClassifier\n",
    "from sklearn.model_selection import train_test_split \n",
    "from sklearn.linear_model import LinearRegression\n",
    "from sklearn.metrics import mean_squared_error\n",
    "from sklearn.model_selection import cross_val_score\n",
    "from sklearn.linear_model import Lasso\n",
    "from sklearn.metrics import classification_report, confusion_matrix\n",
    "import math\n",
    "import seaborn as sns"
   ]
  },
  {
   "cell_type": "code",
   "execution_count": 265,
   "metadata": {},
   "outputs": [],
   "source": [
    "teamname = \"Santos\"\n",
    "\n",
    "matches = pd.read_csv(\"spi_matches.csv\")\n",
    "if(teamname == \"all\") :\n",
    "    team_matches = matches\n",
    "else :\n",
    "    team_matches = matches[np.logical_or(matches['team1'] == teamname, matches['team2'] == teamname)]\n",
    "team_matches_data = team_matches.loc[:, ['date', 'team1', 'team2', 'score1', 'score2', 'prob1', 'prob2', 'importance1', 'importance2', 'spi1', 'spi2']]"
   ]
  },
  {
   "cell_type": "code",
   "execution_count": 266,
   "metadata": {},
   "outputs": [
    {
     "name": "stdout",
     "output_type": "stream",
     "text": [
      "2017-05-14 : Fluminense 3x2 Santos\n",
      "2017-05-20 : Santos 1x0 Coritiba\n",
      "2017-05-28 : Santos 0x1 Cruzeiro\n",
      "2017-06-03 : Corinthians 2x0 Santos\n",
      "2017-06-07 : Santos 1x0 Botafogo\n",
      "2017-06-11 : Atlético Paranaense 0x2 Santos\n",
      "2017-06-14 : Santos 1x0 Palmeiras\n",
      "2017-06-17 : Santos 0x0 Ponte Preta\n",
      "2017-06-21 : Vítoria 0x2 Santos\n",
      "2017-06-24 : Santos 0x1 Sport Recife\n",
      "2017-07-01 : Atlético Goianiense 1x1 Santos\n",
      "2017-07-09 : Santos 3x2 São Paulo\n",
      "2017-07-12 : Atletico Mineiro 0x1 Santos\n",
      "2017-07-16 : Vasco da Gama 0x0 Santos\n",
      "2017-07-19 : Santos 1x0 Chapecoense AF\n",
      "2017-07-23 : Santos 3x0 Bahía\n",
      "2017-07-30 : Grêmio 1x1 Santos\n",
      "2017-08-02 : Santos 3x2 Flamengo\n",
      "2017-08-06 : Avaí 0x0 Santos\n",
      "2017-08-14 : Santos 0x0 Fluminense\n",
      "2017-08-20 : Coritiba 0x0 Santos\n",
      "2017-08-27 : Cruzeiro 1x1 Santos\n",
      "2017-09-10 : Santos 2x0 Corinthians\n",
      "2017-09-16 : Botafogo 2x0 Santos\n",
      "2017-09-23 : Santos 1x0 Atlético Paranaense\n",
      "2017-09-30 : Palmeiras 0x1 Santos\n",
      "2017-10-12 : Ponte Preta 1x1 Santos\n",
      "2017-10-16 : Santos 2x2 Vítoria\n",
      "2017-10-19 : Sport Recife 1x1 Santos\n",
      "2017-10-22 : Santos 1x0 Atlético Goianiense\n",
      "2017-10-28 : São Paulo 2x1 Santos\n",
      "2017-11-04 : Santos 3x1 Atletico Mineiro\n",
      "2017-11-08 : Santos 1x2 Vasco da Gama\n",
      "2017-11-13 : Chapecoense AF 2x0 Santos\n",
      "2017-11-16 : Bahía 3x1 Santos\n",
      "2017-11-19 : Santos 1x0 Grêmio\n",
      "2017-11-26 : Flamengo 1x2 Santos\n",
      "2017-12-03 : Santos 1x1 Avaí\n",
      "2018-04-14 : Santos 2x0 Ceará\n",
      "2018-04-21 : Bahía 1x0 Santos\n",
      "2018-05-06 : Grêmio 5x1 Santos\n",
      "2018-05-13 : Santos 3x1 Paraná\n",
      "2018-05-20 : São Paulo 1x0 Santos\n",
      "2018-05-27 : Santos 0x1 Cruzeiro\n",
      "2018-05-31 : Atlético Paranaense 2x0 Santos\n",
      "2018-06-03 : Santos 5x2 Vítoria\n",
      "2018-06-06 : Corinthians 1x1 Santos\n",
      "2018-06-10 : Santos 1x2 Internacional\n",
      "2018-06-13 : Fluminense 0x1 Santos\n",
      "2018-07-19 : Santos 1x1 Palmeiras\n",
      "2018-07-22 : Chapecoense AF 0x0 Santos\n",
      "2018-07-25 : Santos 1x1 Flamengo\n",
      "2018-07-29 : Santos 0x1 América Mineiro\n",
      "2018-08-04 : Botafogo 0x0 Santos\n",
      "2018-08-08 : Ceará 1x1 Santos\n",
      "2018-08-12 : Atletico Mineiro 3x1 Santos\n",
      "2018-08-18 : Santos 3x0 Sport Recife\n",
      "2018-08-25 : Santos 2x0 Bahía\n",
      "2018-09-01 : Vasco da Gama 0x3 Santos\n",
      "2018-09-06 : Santos 0x0 Grêmio\n",
      "2018-09-09 : Paraná 0x2 Santos\n",
      "2018-09-16 : Santos 0x0 São Paulo\n",
      "2018-09-23 : Cruzeiro 2x1 Santos\n",
      "2018-09-27 : Santos 1x1 Vasco da Gama\n",
      "2018-09-30 : Santos 1x0 Atlético Paranaense\n",
      "2018-10-05 : Vítoria 0x1 Santos\n",
      "2018-10-13 : Santos 1x0 Corinthians\n",
      "2018-10-22 : Internacional 2x2 Santos\n",
      "2018-10-27 : Santos 3x0 Fluminense\n",
      "2018-11-03 : Palmeiras 3x2 Santos\n",
      "2018-11-12 : Santos 0x1 Chapecoense AF\n",
      "2018-11-15 : Flamengo 1x0 Santos\n",
      "2018-11-18 : América Mineiro 2x1 Santos\n",
      "2018-11-21 : Santos 1x1 Botafogo\n",
      "2018-11-24 : Santos 3x2 Atletico Mineiro\n",
      "2018-12-02 : Sport Recife 2x1 Santos\n",
      "2019-04-28 : Grêmio 1x2 Santos\n",
      "2019-05-02 : Santos 2x1 Fluminense\n",
      "2019-05-05 : CSA 0x0 Santos\n",
      "2019-05-12 : Santos 3x0 Vasco da Gama\n",
      "2019-05-18 : Palmeiras 4x0 Santos\n",
      "2019-05-26 : Santos 0x0 Internacional\n",
      "2019-06-02 : Ceará 0x1 Santos\n",
      "2019-06-09 : Santos 3x1 Atletico Mineiro\n",
      "2019-06-12 : Santos 1x0 Corinthians\n",
      "2019-07-13 : Bahía 0x1 Santos\n",
      "2019-07-21 : Botafogo 0x1 Santos\n",
      "2019-07-28 : Santos 3x1 Avaí\n",
      "2019-08-04 : Santos 6x1 Goiás\n",
      "2019-08-10 : São Paulo 3x2 Santos\n",
      "2019-08-18 : Cruzeiro 2x0 Santos\n",
      "2019-08-25 : Santos 3x3 Fortaleza\n",
      "2019-08-31 : Chapecoense AF 0x1 Santos\n",
      "2019-09-08 : Santos 1x1 Atlético Paranaense\n",
      "2019-09-14 : Flamengo 1x0 Santos\n",
      "2019-09-21 : Santos 0x3 Grêmio\n",
      "2019-09-26 : Fluminense 1x1 Santos\n",
      "2019-09-29 : Santos 2x0 CSA\n",
      "2019-10-05 : Vasco da Gama 0x1 Santos\n",
      "2019-10-09 : Santos 2x0 Palmeiras\n",
      "2019-10-13 : Internacional 0x0 Santos\n",
      "2019-10-17 : Santos 2x1 Ceará\n",
      "2019-10-20 : Atletico Mineiro 2x0 Santos\n",
      "2019-10-26 : Corinthians 0x0 Santos\n",
      "2019-10-31 : Santos 1x0 Bahía\n",
      "2019-11-03 : Santos 4x1 Botafogo\n",
      "2019-11-06 : Avaí 1x2 Santos\n",
      "2019-11-09 : Goiás 0x3 Santos\n",
      "2019-11-16 : Santos 1x1 São Paulo\n",
      "2019-11-23 : Santos 4x1 Cruzeiro\n",
      "2019-11-28 : Fortaleza 2x1 Santos\n",
      "2019-12-01 : Santos 2x0 Chapecoense AF\n",
      "2019-12-04 : Atlético Paranaense 1x0 Santos\n",
      "2019-12-08 : Santos 4x0 Flamengo\n"
     ]
    }
   ],
   "source": [
    "for label, row in team_matches_data.iterrows() :\n",
    "    print(str(row[\"date\"]) + \" : \" + str(row[\"team1\"]) + \" \" + str(row[\"score1\"])[0] + \"x\"  + str(row[\"score2\"])[0] + \" \" + str(row[\"team2\"]))\n",
    "    if(row['team1'] == teamname) :\n",
    "        team_matches_data.loc[label, \"goals_team\"] = row['score1']\n",
    "        team_matches_data.loc[label, \"goals_adv\"] = row['score2']\n",
    "        team_matches_data.loc[label, \"place\"] = 0.0\n",
    "        team_matches_data.loc[label, \"prob_team\"] = row['prob1']\n",
    "        team_matches_data.loc[label, \"spi_team\"] = row['spi1']\n",
    "        team_matches_data.loc[label, \"spi_adv\"] = row['spi2']\n",
    "        team_matches_data.loc[label, \"spi_dif\"] = row['spi1'] - row['spi2']\n",
    "        if(math.isnan(row['importance1'])) :\n",
    "            team_matches_data.loc[label, \"importance_team\"] = 25.0\n",
    "        else : \n",
    "            team_matches_data.loc[label, \"importance_team\"] = row['importance1']\n",
    "        if(math.isnan(row['score1'])) :\n",
    "            team_matches_data.loc[label, \"goals_team\"] = 0.0\n",
    "            team_matches_data.loc[label, \"goals_adv\"] = 0.0\n",
    "    else :\n",
    "        team_matches_data.loc[label, \"goals_team\"] = row['score2']\n",
    "        team_matches_data.loc[label, \"goals_adv\"] = row['score1']\n",
    "        team_matches_data.loc[label, \"place\"] = 1.0\n",
    "        team_matches_data.loc[label, \"prob_team\"] = row['prob2']\n",
    "        team_matches_data.loc[label, \"spi_team\"] = row['spi2']\n",
    "        team_matches_data.loc[label, \"spi_adv\"] = row['spi1']\n",
    "        team_matches_data.loc[label, \"spi_dif\"] = row['spi2'] - row['spi1']\n",
    "        if(math.isnan(row['importance2'])) :\n",
    "            team_matches_data.loc[label, \"importance_team\"] = 25.0\n",
    "        else :\n",
    "            team_matches_data.loc[label, \"importance_team\"] = row['importance2']\n",
    "        if(math.isnan(row['score1'])) :\n",
    "            team_matches_data.loc[label, \"goals_team\"] = 0.0\n",
    "            team_matches_data.loc[label, \"goals_adv\"] = 0.0"
   ]
  },
  {
   "cell_type": "code",
   "execution_count": 267,
   "metadata": {},
   "outputs": [
    {
     "data": {
      "image/png": "[encoded data removed]",
      "text/plain": [
       "<Figure size 432x288 with 1 Axes>"
      ]
     },
     "metadata": {
      "needs_background": "light"
     },
     "output_type": "display_data"
    },
    {
     "data": {
      "text/plain": [
       "<Figure size 432x288 with 0 Axes>"
      ]
     },
     "metadata": {},
     "output_type": "display_data"
    }
   ],
   "source": [
    "team_matches_data.loc[:, \"datetimeobj\"] = team_matches_data.loc[:, \"date\"].apply(lambda x : datetime.datetime.strptime(x, \"%Y-%m-%d\"))\n",
    "\n",
    "plt.plot_date(x=team_matches_data.loc[:, 'datetimeobj'], y=team_matches_data.loc[:,'goals_team'], xdate = True, ydate = False, color = 'blue')\n",
    "plt.plot_date(x=team_matches_data.loc[:, 'datetimeobj'], y=team_matches_data.loc[:,'goals_adv'], xdate = True, ydate = False, color = 'red')\n",
    "plt.show()\n",
    "plt.clf()"
   ]
  },
  {
   "cell_type": "code",
   "execution_count": 268,
   "metadata": {},
   "outputs": [
    {
     "data": {
      "image/png": "[encoded data removed]",
      "text/plain": [
       "<Figure size 432x288 with 1 Axes>"
      ]
     },
     "metadata": {
      "needs_background": "light"
     },
     "output_type": "display_data"
    },
    {
     "data": {
      "text/plain": [
       "<Figure size 432x288 with 0 Axes>"
      ]
     },
     "metadata": {},
     "output_type": "display_data"
    }
   ],
   "source": [
    "plt.hist(team_matches_data['goals_team'], bins = range(10), alpha=0.5, label='Goals home team')\n",
    "plt.hist(team_matches_data['goals_adv'], bins = range(10), alpha=0.5, label='Goals Adv.')\n",
    "plt.legend(loc='upper right')\n",
    "plt.xticks(range(10))\n",
    "plt.show()\n",
    "plt.clf()"
   ]
  },
  {
   "cell_type": "markdown",
   "metadata": {},
   "source": [
    "# Training kNeighbors to predict goal numbers"
   ]
  },
  {
   "cell_type": "code",
   "execution_count": 269,
   "metadata": {},
   "outputs": [
    {
     "name": "stdout",
     "output_type": "stream",
     "text": [
      "Empty DataFrame\n",
      "Columns: [date, team1, team2, score1, score2, prob1, prob2, importance1, importance2, spi1, spi2, goals_team, goals_adv, place, prob_team, spi_team, spi_adv, spi_dif, importance_team, datetimeobj]\n",
      "Index: []\n",
      "Predicted scores = \n",
      "[2. 0. 1. 0. 0. 0. 1. 1. 1. 1. 0. 1. 0. 1. 0. 0. 1. 0. 0. 1. 1. 1. 1.]\n"
     ]
    },
    {
     "data": {
      "image/png": "[encoded data removed]",
      "text/plain": [
       "<Figure size 432x288 with 1 Axes>"
      ]
     },
     "metadata": {
      "needs_background": "light"
     },
     "output_type": "display_data"
    },
    {
     "name": "stdout",
     "output_type": "stream",
     "text": [
      "\n",
      "Precision of model = \n",
      "0.30434782608695654\n",
      "\n",
      "Confusion Matrix: \n",
      "[[2 4 2 1 1]\n",
      " [4 5 1 2 0]\n",
      " [1 0 0 0 0]\n",
      " [0 0 0 0 0]\n",
      " [0 0 0 0 0]]\n",
      "\n",
      "Classification: \n",
      "             precision    recall  f1-score   support\n",
      "\n",
      "        0.0       0.29      0.20      0.24        10\n",
      "        1.0       0.56      0.42      0.48        12\n",
      "        2.0       0.00      0.00      0.00         1\n",
      "        3.0       0.00      0.00      0.00         0\n",
      "        5.0       0.00      0.00      0.00         0\n",
      "\n",
      "avg / total       0.41      0.30      0.35        23\n",
      "\n"
     ]
    },
    {
     "name": "stderr",
     "output_type": "stream",
     "text": [
      "C:\\Program Files\\Anaconda3\\lib\\site-packages\\sklearn\\metrics\\classification.py:1137: UndefinedMetricWarning: Recall and F-score are ill-defined and being set to 0.0 in labels with no true samples.\n",
      "  'recall', 'true', average, warn_for)\n"
     ]
    },
    {
     "data": {
      "text/plain": [
       "<Figure size 432x288 with 0 Axes>"
      ]
     },
     "metadata": {},
     "output_type": "display_data"
    }
   ],
   "source": [
    "team_done_matches = team_matches_data[team_matches_data['datetimeobj'] < datetime.datetime.now() - datetime.timedelta(days=1)]\n",
    "team_predict = team_done_matches[['goals_team','prob_team', 'importance_team', 'spi_team', 'spi_adv', 'place', 'spi_dif']]\n",
    "\n",
    "df1 = team_done_matches[team_predict.isna().any(axis=1)]\n",
    "print(df1)\n",
    "\n",
    "X = team_predict.drop('goals_team', axis=1).values\n",
    "y = team_predict['goals_team'].values\n",
    "\n",
    "X_train, X_test, y_train, y_test = train_test_split(X, y, test_size = 0.2, random_state=42)\n",
    "\n",
    "knn = KNeighborsClassifier(n_neighbors=4)\n",
    "knn.fit(X_train,y_train)\n",
    "print(\"Predicted scores = \") \n",
    "print(knn.predict(X_test))\n",
    "plt.hist(knn.predict(X_test), bins = range(10), alpha=1, label='Number of goals')\n",
    "plt.xticks(range(10))\n",
    "plt.show()\n",
    "plt.clf()\n",
    "print(\"\\nPrecision of model = \") \n",
    "print(knn.score(X_test, y_test))\n",
    "print(\"\\nConfusion Matrix: \")\n",
    "print(confusion_matrix(knn.predict(X_test), y_test))\n",
    "print(\"\\nClassification: \")\n",
    "print(classification_report(knn.predict(X_test), y_test))"
   ]
  },
  {
   "cell_type": "code",
   "execution_count": 270,
   "metadata": {},
   "outputs": [
    {
     "data": {
      "image/png": "[encoded data removed]",
      "text/plain": [
       "<Figure size 432x288 with 2 Axes>"
      ]
     },
     "metadata": {
      "needs_background": "light"
     },
     "output_type": "display_data"
    }
   ],
   "source": [
    "ax = sns.heatmap(team_predict.corr(), square=True, cmap='RdYlGn')\n",
    "plt.show()"
   ]
  },
  {
   "cell_type": "markdown",
   "metadata": {},
   "source": [
    "# Trying linear regression to predict scores"
   ]
  },
  {
   "cell_type": "code",
   "execution_count": 271,
   "metadata": {},
   "outputs": [
    {
     "name": "stdout",
     "output_type": "stream",
     "text": [
      "0.13913837805905804\n"
     ]
    },
    {
     "data": {
      "image/png": "[encoded data removed]",
      "text/plain": [
       "<Figure size 432x288 with 1 Axes>"
      ]
     },
     "metadata": {
      "needs_background": "light"
     },
     "output_type": "display_data"
    },
    {
     "name": "stdout",
     "output_type": "stream",
     "text": [
      "R^2: 0.0719446536946019\n",
      "Root Mean Squared Error: 1.2124982257535193\n",
      "[-0.26427031  0.18166192 -0.09421164  0.20446645  0.18733531]\n"
     ]
    },
    {
     "data": {
      "text/plain": [
       "<Figure size 432x288 with 0 Axes>"
      ]
     },
     "metadata": {},
     "output_type": "display_data"
    }
   ],
   "source": [
    "reg = LinearRegression()\n",
    "\n",
    "X = team_predict['prob_team'].values.reshape(-1,1)\n",
    "y = team_predict['goals_team'].values.reshape(-1,1)\n",
    "\n",
    "prediction_space = np.linspace(min(X), max(X)).reshape(-1,1)\n",
    "reg.fit(X, y)\n",
    "result = reg.predict(prediction_space)\n",
    "print(reg.score(X,y))\n",
    "\n",
    "# Plot regression line\n",
    "plt.scatter(X,y)\n",
    "plt.plot(prediction_space, result, color='black', linewidth=3)\n",
    "plt.xlabel(\"Win prob for team\")\n",
    "plt.ylabel(\"Number of goals scored\")\n",
    "plt.show()\n",
    "plt.clf()\n",
    "\n",
    "X_train, X_test, y_train, y_test = train_test_split(X, y, test_size = 0.2, random_state=42)\n",
    "reg.fit(X_train, y_train)\n",
    "y_pred = reg.predict(X_test)\n",
    "print(\"R^2: {}\".format(reg.score(X_test, y_test)))\n",
    "rmse = np.sqrt(mean_squared_error(y_test, y_pred))\n",
    "print(\"Root Mean Squared Error: {}\".format(rmse))\n",
    "\n",
    "cv_scores = cross_val_score(reg, X, y, cv=5)\n",
    "print(cv_scores)"
   ]
  },
  {
   "cell_type": "code",
   "execution_count": 275,
   "metadata": {},
   "outputs": [
    {
     "name": "stdout",
     "output_type": "stream",
     "text": [
      "0.03022275556447029\n"
     ]
    },
    {
     "data": {
      "image/png": "[encoded data removed]",
      "text/plain": [
       "<Figure size 432x288 with 1 Axes>"
      ]
     },
     "metadata": {
      "needs_background": "light"
     },
     "output_type": "display_data"
    },
    {
     "name": "stdout",
     "output_type": "stream",
     "text": [
      "R^2: -0.07442678234905031\n",
      "Root Mean Squared Error: 1.3046156562766242\n",
      "[-0.21918318 -0.00638006  0.04586602  0.01240853  0.04277842]\n"
     ]
    },
    {
     "data": {
      "text/plain": [
       "<Figure size 432x288 with 0 Axes>"
      ]
     },
     "metadata": {},
     "output_type": "display_data"
    }
   ],
   "source": [
    "reg2 = LinearRegression()\n",
    "\n",
    "X = team_predict['spi_dif'].values.reshape(-1,1)\n",
    "y = team_predict['goals_team'].values.reshape(-1,1)\n",
    "\n",
    "prediction_space = np.linspace(min(X), max(X)).reshape(-1,1)\n",
    "reg2.fit(X, y)\n",
    "result = reg2.predict(prediction_space)\n",
    "print(reg2.score(X,y))\n",
    "\n",
    "# Plot regression line\n",
    "plt.scatter(X,y)\n",
    "plt.plot(prediction_space, result, color='black', linewidth=3)\n",
    "plt.xlabel(\"Differnce in Soccer Power Index between teams\")\n",
    "plt.ylabel(\"Number of goals scored\")\n",
    "plt.show()\n",
    "plt.clf()\n",
    "\n",
    "X_train, X_test, y_train, y_test = train_test_split(X, y, test_size = 0.2, random_state=42)\n",
    "reg2.fit(X_train, y_train)\n",
    "y_pred = reg2.predict(X_test)\n",
    "print(\"R^2: {}\".format(reg2.score(X_test, y_test)))\n",
    "rmse = np.sqrt(mean_squared_error(y_test, y_pred))\n",
    "print(\"Root Mean Squared Error: {}\".format(rmse))\n",
    "\n",
    "cv_scores = cross_val_score(reg, X, y, cv=5)\n",
    "print(cv_scores)"
   ]
  },
  {
   "cell_type": "code",
   "execution_count": 276,
   "metadata": {},
   "outputs": [
    {
     "name": "stdout",
     "output_type": "stream",
     "text": [
      "\n",
      "Predictions\n",
      "\n",
      "[0.93269231 1.27644231 0.20612981 0.62019231 0.62019231 0.98640325\n",
      " 1.76081731 1.66706731 1.05769231 1.28767278 1.13581731 0.18269231\n",
      " 1.82331731 1.09284856 0.87019231 0.80769231 1.05769231 0.79206731\n",
      " 1.76862981 0.70612981 1.07331731 2.18269231 0.50300481]\n",
      "\n",
      "Score\n",
      "\n",
      "-0.0987721324157218\n",
      "\n",
      "Coeficients\n",
      "\n",
      "[ 4.37756587e-01 -1.39696465e-04 -1.11999474e+13  1.11999474e+13\n",
      " -6.98948597e-01  1.11999474e+13]\n",
      "-1.6610576923076923\n"
     ]
    },
    {
     "data": {
      "image/png": "[encoded data removed]",
      "text/plain": [
       "<Figure size 432x288 with 1 Axes>"
      ]
     },
     "metadata": {
      "needs_background": "light"
     },
     "output_type": "display_data"
    },
    {
     "data": {
      "text/plain": [
       "<Figure size 432x288 with 0 Axes>"
      ]
     },
     "metadata": {},
     "output_type": "display_data"
    }
   ],
   "source": [
    "reg_all = LinearRegression()\n",
    "\n",
    "X = team_predict.drop('goals_team', axis = 1).values\n",
    "y = team_predict['goals_team'].values\n",
    "\n",
    "X_train, X_test, y_train, y_test = train_test_split(X, y, test_size = 0.2, random_state=42)\n",
    "reg_all.fit(X_train, y_train)\n",
    "y_pred = reg_all.predict(X_test)\n",
    "print(\"\\nPredictions\\n\")\n",
    "print(y_pred)\n",
    "print(\"\\nScore\\n\")\n",
    "print(reg_all.score(X_test, y_test))\n",
    "print(\"\\nCoeficients\\n\")\n",
    "print(reg_all.coef_)\n",
    "print(reg_all.intercept_)\n",
    "\n",
    "plt.plot(team_predict.drop('goals_team', axis = 1).columns, reg_all.coef_)\n",
    "plt.show()\n",
    "plt.clf()\n"
   ]
  },
  {
   "cell_type": "code",
   "execution_count": null,
   "metadata": {},
   "outputs": [],
   "source": []
  }
 ],
 "metadata": {
  "kernelspec": {
   "display_name": "Python 3",
   "language": "python",
   "name": "python3"
  },
  "language_info": {
   "codemirror_mode": {
    "name": "ipython",
    "version": 3
   },
   "file_extension": ".py",
   "mimetype": "text/x-python",
   "name": "python",
   "nbconvert_exporter": "python",
   "pygments_lexer": "ipython3",
   "version": "3.7.0"
  }
 },
 "nbformat": 4,
 "nbformat_minor": 2
}
