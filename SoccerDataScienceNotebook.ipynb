{
 "cells": [
  {
   "cell_type": "code",
   "execution_count": 69,
   "metadata": {},
   "outputs": [],
   "source": [
    "import pandas as pd\n",
    "import numpy as np\n",
    "import matplotlib.pyplot as plt\n",
    "import datetime\n",
    "from sklearn.neighbors import KNeighborsClassifier\n",
    "from sklearn.model_selection import train_test_split \n",
    "import math\n",
    "import seaborn as sns"
   ]
  },
  {
   "cell_type": "code",
   "execution_count": 106,
   "metadata": {},
   "outputs": [],
   "source": [
    "teamname = \"Vasco da Gama\"\n",
    "\n",
    "matches = pd.read_csv(\"spi_matches.csv\")\n",
    "team_matches = matches[np.logical_or(matches['team1'] == teamname, matches['team2'] == teamname)]\n",
    "team_matches_data = team_matches.loc[:, ['date', 'team1', 'team2', 'score1', 'score2', 'prob1', 'prob2', 'importance1', 'importance2', 'spi1', 'spi2']]"
   ]
  },
  {
   "cell_type": "code",
   "execution_count": 107,
   "metadata": {},
   "outputs": [
    {
     "name": "stdout",
     "output_type": "stream",
     "text": [
      "2017-05-14 : Palmeiras 4x0 Vasco da Gama\n",
      "2017-05-21 : Vasco da Gama 2x1 Bahía\n",
      "2017-05-27 : Vasco da Gama 3x2 Fluminense\n",
      "2017-06-04 : Grêmio 2x0 Vasco da Gama\n",
      "2017-06-07 : Vasco da Gama 2x5 Corinthians\n",
      "2017-06-10 : Vasco da Gama 2x1 Sport Recife\n",
      "2017-06-14 : Chapecoense AF 2x1 Vasco da Gama\n",
      "2017-06-17 : Vasco da Gama 1x0 Avaí\n",
      "2017-06-21 : Botafogo 3x1 Vasco da Gama\n",
      "2017-06-25 : Vasco da Gama 1x0 Atlético Goianiense\n",
      "2017-07-02 : Coritiba 2x2 Vasco da Gama\n",
      "2017-07-08 : Vasco da Gama 0x1 Flamengo\n",
      "2017-07-12 : Vítoria 1x4 Vasco da Gama\n",
      "2017-07-16 : Vasco da Gama 0x0 Santos\n",
      "2017-07-19 : São Paulo 1x0 Vasco da Gama\n",
      "2017-07-23 : Atletico Mineiro 1x2 Vasco da Gama\n",
      "2017-07-31 : Vasco da Gama 0x1 Atlético Paranaense\n",
      "2017-08-03 : Vasco da Gama 0x3 Cruzeiro\n",
      "2017-08-06 : Ponte Preta 0x0 Vasco da Gama\n",
      "2017-08-13 : Vasco da Gama 1x1 Palmeiras\n",
      "2017-08-20 : Bahía 3x0 Vasco da Gama\n",
      "2017-08-26 : Fluminense 0x1 Vasco da Gama\n",
      "2017-09-09 : Vasco da Gama 1x0 Grêmio\n",
      "2017-09-17 : Corinthians 1x0 Vasco da Gama\n",
      "2017-09-25 : Sport Recife 1x1 Vasco da Gama\n",
      "2017-09-30 : Vasco da Gama 1x1 Chapecoense AF\n",
      "2017-10-11 : Avaí 1x2 Vasco da Gama\n",
      "2017-10-14 : Vasco da Gama 1x0 Botafogo\n",
      "2017-10-18 : Atlético Goianiense 0x1 Vasco da Gama\n",
      "2017-10-21 : Vasco da Gama 1x1 Coritiba\n",
      "2017-10-28 : Flamengo 0x0 Vasco da Gama\n",
      "2017-11-05 : Vasco da Gama 1x1 Vítoria\n",
      "2017-11-08 : Santos 1x2 Vasco da Gama\n",
      "2017-11-12 : Vasco da Gama 1x1 São Paulo\n",
      "2017-11-15 : Vasco da Gama 1x1 Atletico Mineiro\n",
      "2017-11-19 : Atlético Paranaense 3x1 Vasco da Gama\n",
      "2017-11-26 : Cruzeiro 0x1 Vasco da Gama\n",
      "2017-12-03 : Vasco da Gama 2x1 Ponte Preta\n",
      "2018-04-15 : Vasco da Gama 2x1 Atletico Mineiro\n",
      "2018-04-22 : Chapecoense AF 1x1 Vasco da Gama\n",
      "2018-05-05 : Vasco da Gama 4x1 América Mineiro\n",
      "2018-05-13 : Vasco da Gama 2x3 Vítoria\n",
      "2018-05-19 : Flamengo 1x1 Vasco da Gama\n",
      "2018-05-27 : Bahía 3x0 Vasco da Gama\n",
      "2018-05-30 : Vasco da Gama 1x0 Paraná\n",
      "2018-06-02 : Vasco da Gama 1x2 Botafogo\n",
      "2018-06-06 : Cruzeiro 1x1 Vasco da Gama\n",
      "2018-06-09 : Vasco da Gama 3x2 Sport Recife\n",
      "2018-06-13 : Internacional 3x1 Vasco da Gama\n",
      "2018-07-19 : Vasco da Gama 1x1 Fluminense\n",
      "2018-07-22 : Vasco da Gama 1x0 Grêmio\n",
      "2018-07-29 : Vasco da Gama 1x4 Corinthians\n",
      "2018-08-05 : São Paulo 2x1 Vasco da Gama\n",
      "2018-08-12 : Palmeiras 1x0 Vasco da Gama\n",
      "2018-08-20 : Vasco da Gama 1x1 Ceará\n",
      "2018-08-23 : Atletico Mineiro 0x0 Vasco da Gama\n",
      "2018-08-26 : Vasco da Gama 3x1 Chapecoense AF\n",
      "2018-08-29 : Atlético Paranaense 1x0 Vasco da Gama\n",
      "2018-09-01 : Vasco da Gama 0x3 Santos\n",
      "2018-09-06 : América Mineiro 2x1 Vasco da Gama\n",
      "2018-09-09 : Vítoria 1x0 Vasco da Gama\n",
      "2018-09-15 : Vasco da Gama 1x1 Flamengo\n",
      "2018-09-24 : Vasco da Gama 2x1 Bahía\n",
      "2018-09-27 : Santos 1x1 Vasco da Gama\n",
      "2018-10-01 : Paraná 1x1 Vasco da Gama\n",
      "2018-10-09 : Botafogo 1x1 Vasco da Gama\n",
      "2018-10-14 : Vasco da Gama 2x0 Cruzeiro\n",
      "2018-10-20 : Sport Recife 2x1 Vasco da Gama\n",
      "2018-10-26 : Vasco da Gama 1x1 Internacional\n",
      "2018-11-03 : Fluminense 0x1 Vasco da Gama\n",
      "2018-11-11 : Grêmio 2x1 Vasco da Gama\n",
      "2018-11-14 : Vasco da Gama 1x1 Atlético Paranaense\n",
      "2018-11-17 : Corinthians 1x0 Vasco da Gama\n",
      "2018-11-22 : Vasco da Gama 2x0 São Paulo\n",
      "2018-11-25 : Vasco da Gama 0x1 Palmeiras\n",
      "2018-12-02 : Ceará 0x0 Vasco da Gama\n",
      "2019-04-28 : Atlético Paranaense 4x1 Vasco da Gama\n",
      "2019-05-01 : Vasco da Gama 1x2 Atletico Mineiro\n",
      "2019-05-04 : Vasco da Gama 1x1 Corinthians\n",
      "2019-05-12 : Santos 3x0 Vasco da Gama\n",
      "2019-05-19 : Vasco da Gama 1x1 Avaí\n",
      "2019-05-26 : Fortaleza 1x1 Vasco da Gama\n",
      "2019-06-02 : Botafogo 1x0 Vasco da Gama\n",
      "2019-06-07 : Vasco da Gama 2x1 Internacional\n",
      "2019-06-13 : Vasco da Gama 1x0 Ceará\n",
      "2019-07-13 : Grêmio 2x1 Vasco da Gama\n",
      "2019-07-20 : Vasco da Gama 2x1 Fluminense\n",
      "2019-07-27 : Palmeiras 1x1 Vasco da Gama\n",
      "2019-08-04 : Vasco da Gama 0x0 CSA\n",
      "2019-08-11 : Goiás 0x1 Vasco da Gama\n",
      "2019-08-17 : Vasco da Gama 1x4 Flamengo\n",
      "2019-08-25 : Vasco da Gama 2x0 São Paulo\n",
      "2019-09-01 : Cruzeiro 1x0 Vasco da Gama\n",
      "2019-09-07 : Vasco da Gama 0x2 Bahía\n",
      "2019-09-14 : Chapecoense AF 1x2 Vasco da Gama\n",
      "2019-09-22 : Vasco da Gama 1x1 Atlético Paranaense\n",
      "2019-09-29 : Corinthians 1x0 Vasco da Gama\n",
      "2019-10-02 : Atletico Mineiro 1x2 Vasco da Gama\n",
      "2019-10-05 : Vasco da Gama 0x1 Santos\n",
      "2019-10-10 : Avaí 0x0 Vasco da Gama\n",
      "2019-10-13 : Vasco da Gama 1x0 Fortaleza\n",
      "2019-10-16 : Vasco da Gama 2x1 Botafogo\n",
      "2019-10-20 : Internacional 0x1 Vasco da Gama\n",
      "2019-10-26 : Ceará 1x1 Vasco da Gama\n",
      "2019-10-30 : Vasco da Gama 1x3 Grêmio\n",
      "2019-11-02 : Fluminense 0x0 Vasco da Gama\n",
      "2019-11-06 : Vasco da Gama 1x2 Palmeiras\n",
      "2019-11-10 : CSA 0x3 Vasco da Gama\n",
      "2019-11-13 : Flamengo 4x4 Vasco da Gama\n",
      "2019-11-18 : Vasco da Gama 1x1 Goiás\n",
      "2019-11-28 : São Paulo 1x0 Vasco da Gama\n",
      "2019-12-02 : Vasco da Gama 1x0 Cruzeiro\n",
      "2019-12-05 : Bahía 1x1 Vasco da Gama\n",
      "2019-12-08 : Vasco da Gama 1x1 Chapecoense AF\n"
     ]
    }
   ],
   "source": [
    "for label, row in team_matches_data.iterrows() :\n",
    "    print(str(row[\"date\"]) + \" : \" + str(row[\"team1\"]) + \" \" + str(row[\"score1\"])[0] + \"x\"  + str(row[\"score2\"])[0] + \" \" + str(row[\"team2\"]))\n",
    "    if(row['team1'] == teamname) :\n",
    "        team_matches_data.loc[label, \"goals_team\"] = row['score1']\n",
    "        team_matches_data.loc[label, \"goals_adv\"] = row['score2']\n",
    "        team_matches_data.loc[label, \"place\"] = 0.0\n",
    "        team_matches_data.loc[label, \"prob_team\"] = row['prob1']\n",
    "        team_matches_data.loc[label, \"spi_team\"] = row['spi1']\n",
    "        if(math.isnan(row['importance1'])) :\n",
    "            team_matches_data.loc[label, \"importance_team\"] = 25.0\n",
    "        else : \n",
    "            team_matches_data.loc[label, \"importance_team\"] = row['importance1']\n",
    "    else :\n",
    "        team_matches_data.loc[label, \"goals_team\"] = row['score2']\n",
    "        team_matches_data.loc[label, \"goals_adv\"] = row['score1']\n",
    "        team_matches_data.loc[label, \"place\"] = 1.0\n",
    "        team_matches_data.loc[label, \"prob_team\"] = row['prob2']\n",
    "        team_matches_data.loc[label, \"spi_team\"] = row['spi2']\n",
    "        if(math.isnan(row['importance2'])) :\n",
    "            team_matches_data.loc[label, \"importance_team\"] = 25.0\n",
    "        else :\n",
    "            team_matches_data.loc[label, \"importance_team\"] = row['importance2']"
   ]
  },
  {
   "cell_type": "code",
   "execution_count": 108,
   "metadata": {},
   "outputs": [
    {
     "data": {
      "image/png": "[encoded data removed]",
      "text/plain": [
       "<Figure size 432x288 with 1 Axes>"
      ]
     },
     "metadata": {
      "needs_background": "light"
     },
     "output_type": "display_data"
    },
    {
     "data": {
      "text/plain": [
       "<Figure size 432x288 with 0 Axes>"
      ]
     },
     "metadata": {},
     "output_type": "display_data"
    }
   ],
   "source": [
    "team_matches_data.loc[:, \"datetimeobj\"] = team_matches_data.loc[:, \"date\"].apply(lambda x : datetime.datetime.strptime(x, \"%Y-%m-%d\"))\n",
    "\n",
    "plt.plot_date(x=team_matches_data.loc[:, 'datetimeobj'], y=team_matches_data.loc[:,'goals_team'], xdate = True, ydate = False, color = 'blue')\n",
    "plt.plot_date(x=team_matches_data.loc[:, 'datetimeobj'], y=team_matches_data.loc[:,'goals_adv'], xdate = True, ydate = False, color = 'red')\n",
    "plt.show()\n",
    "plt.clf()"
   ]
  },
  {
   "cell_type": "code",
   "execution_count": 109,
   "metadata": {},
   "outputs": [
    {
     "data": {
      "image/png": "[encoded data removed]",
      "text/plain": [
       "<Figure size 432x288 with 1 Axes>"
      ]
     },
     "metadata": {
      "needs_background": "light"
     },
     "output_type": "display_data"
    },
    {
     "data": {
      "text/plain": [
       "<Figure size 432x288 with 0 Axes>"
      ]
     },
     "metadata": {},
     "output_type": "display_data"
    }
   ],
   "source": [
    "plt.hist(team_matches_data['goals_team'], bins = range(7), alpha=0.5, label='Goals team')\n",
    "plt.hist(team_matches_data['goals_adv'], bins = range(7), alpha=0.5, label='Goals Adv.')\n",
    "plt.legend(loc='upper right')\n",
    "plt.xticks(range(7))\n",
    "plt.show()\n",
    "plt.clf()"
   ]
  },
  {
   "cell_type": "markdown",
   "metadata": {},
   "source": [
    "# Training kNeighbors to predict goal numbers"
   ]
  },
  {
   "cell_type": "code",
   "execution_count": 110,
   "metadata": {},
   "outputs": [
    {
     "name": "stdout",
     "output_type": "stream",
     "text": [
      "Predicted scores = \n",
      "[0. 0. 1. 1. 1. 1. 0. 1. 1. 0. 2. 1. 0. 1. 1. 0. 1. 1. 1. 0. 1. 1. 1.]\n",
      "Precision of model = \n",
      "0.391304347826087\n"
     ]
    }
   ],
   "source": [
    "team_done_matches = team_matches_data[team_matches_data['datetimeobj'] < datetime.datetime.now() - datetime.timedelta(days=1)]\n",
    "team_predict = team_done_matches[['goals_team','prob_team', 'importance_team', 'spi_team', 'place']]\n",
    "X = team_predict.drop('goals_team', axis=1).values\n",
    "y = team_predict['goals_team'].values\n",
    "\n",
    "X_train, X_test, y_train, y_test = train_test_split(X, y, test_size = 0.2, random_state=42)\n",
    "\n",
    "knn = KNeighborsClassifier(n_neighbors=4)\n",
    "knn.fit(X_train,y_train)\n",
    "print(\"Predicted scores = \") \n",
    "print(knn.predict(X_test))\n",
    "print(\"Precision of model = \") \n",
    "print(knn.score(X_test, y_test))\n"
   ]
  },
  {
   "cell_type": "code",
   "execution_count": 111,
   "metadata": {},
   "outputs": [
    {
     "data": {
      "image/png": "[encoded data removed]",
      "text/plain": [
       "<Figure size 432x288 with 2 Axes>"
      ]
     },
     "metadata": {
      "needs_background": "light"
     },
     "output_type": "display_data"
    }
   ],
   "source": [
    "ax = sns.heatmap(team_predict.corr(), square=True, cmap='RdYlGn')\n",
    "plt.show()"
   ]
  },
  {
   "cell_type": "code",
   "execution_count": null,
   "metadata": {},
   "outputs": [],
   "source": []
  }
 ],
 "metadata": {
  "kernelspec": {
   "display_name": "Python 3",
   "language": "python",
   "name": "python3"
  },
  "language_info": {
   "codemirror_mode": {
    "name": "ipython",
    "version": 3
   },
   "file_extension": ".py",
   "mimetype": "text/x-python",
   "name": "python",
   "nbconvert_exporter": "python",
   "pygments_lexer": "ipython3",
   "version": "3.7.0"
  }
 },
 "nbformat": 4,
 "nbformat_minor": 2
}
