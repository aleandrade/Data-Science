{
 "cells": [
  {
   "cell_type": "code",
   "execution_count": 542,
   "metadata": {},
   "outputs": [],
   "source": [
    "import pandas as pd\n",
    "import numpy as np\n",
    "import matplotlib.pyplot as plt\n",
    "import datetime\n",
    "from sklearn.neighbors import KNeighborsClassifier\n",
    "from sklearn.model_selection import train_test_split \n",
    "from sklearn.linear_model import LinearRegression\n",
    "from sklearn.metrics import mean_squared_error\n",
    "from sklearn.model_selection import cross_val_score\n",
    "from sklearn.linear_model import Lasso\n",
    "from sklearn.linear_model import Ridge\n",
    "from sklearn.metrics import classification_report, confusion_matrix\n",
    "from sklearn.linear_model import LogisticRegression\n",
    "from sklearn.metrics import roc_curve\n",
    "from sklearn.model_selection import GridSearchCV\n",
    "from sklearn.tree import DecisionTreeClassifier\n",
    "from sklearn.model_selection import RandomizedSearchCV\n",
    "import math\n",
    "import seaborn as sns\n",
    "from scipy.stats import randint"
   ]
  },
  {
   "cell_type": "code",
   "execution_count": 543,
   "metadata": {},
   "outputs": [],
   "source": [
    "teamname = \"Arsenal\"\n",
    "\n",
    "matches = pd.read_csv(\"spi_matches.csv\")\n",
    "if(teamname == \"all\") :\n",
    "    team_matches = matches\n",
    "else :\n",
    "    team_matches = matches[np.logical_or(matches['team1'] == teamname, matches['team2'] == teamname)]\n",
    "team_matches_data = team_matches.loc[:, ['date', 'team1', 'team2', 'score1', 'score2', 'prob1', 'prob2', 'importance1', 'importance2', 'spi1', 'spi2']]"
   ]
  },
  {
   "cell_type": "markdown",
   "metadata": {},
   "source": [
    "# Cleaning dataset and creating columns for team data "
   ]
  },
  {
   "cell_type": "code",
   "execution_count": 563,
   "metadata": {},
   "outputs": [
    {
     "name": "stdout",
     "output_type": "stream",
     "text": [
      "2016-08-14 : Arsenal 3x4 Liverpool\n",
      "2016-08-20 : Leicester City 0x0 Arsenal\n",
      "2016-08-27 : Watford 1x3 Arsenal\n",
      "2016-09-10 : Arsenal 2x1 Southampton\n",
      "2016-09-13 : Paris Saint-Germain 1x1 Arsenal\n",
      "2016-09-17 : Hull City 1x4 Arsenal\n",
      "2016-09-24 : Arsenal 3x0 Chelsea\n",
      "2016-09-28 : Arsenal 2x0 Basel\n",
      "2016-10-02 : Burnley 0x1 Arsenal\n",
      "2016-10-15 : Arsenal 3x2 Swansea City\n",
      "2016-10-19 : Arsenal 6x0 Ludogorets\n",
      "2016-10-22 : Arsenal 0x0 Middlesbrough\n",
      "2016-10-29 : Sunderland 1x4 Arsenal\n",
      "2016-11-01 : Ludogorets 2x3 Arsenal\n",
      "2016-11-06 : Arsenal 1x1 Tottenham Hotspur\n",
      "2016-11-19 : Manchester United 1x1 Arsenal\n",
      "2016-11-23 : Arsenal 2x2 Paris Saint-Germain\n",
      "2016-11-27 : Arsenal 3x1 AFC Bournemouth\n",
      "2016-12-03 : West Ham United 1x5 Arsenal\n",
      "2016-12-06 : Basel 1x4 Arsenal\n",
      "2016-12-10 : Arsenal 3x1 Stoke City\n",
      "2016-12-13 : Everton 2x1 Arsenal\n",
      "2016-12-18 : Manchester City 2x1 Arsenal\n",
      "2016-12-26 : Arsenal 1x0 West Bromwich Albion\n",
      "2017-01-01 : Arsenal 2x0 Crystal Palace\n",
      "2017-01-03 : AFC Bournemouth 3x3 Arsenal\n",
      "2017-01-14 : Swansea City 0x4 Arsenal\n",
      "2017-01-22 : Arsenal 2x1 Burnley\n",
      "2017-01-31 : Arsenal 1x2 Watford\n",
      "2017-02-04 : Chelsea 3x1 Arsenal\n",
      "2017-02-11 : Arsenal 2x0 Hull City\n",
      "2017-02-15 : Bayern Munich 5x1 Arsenal\n",
      "2017-03-04 : Liverpool 3x1 Arsenal\n",
      "2017-03-07 : Arsenal 1x5 Bayern Munich\n",
      "2017-03-18 : West Bromwich Albion 3x1 Arsenal\n",
      "2017-04-02 : Arsenal 2x2 Manchester City\n",
      "2017-04-05 : Arsenal 3x0 West Ham United\n",
      "2017-04-10 : Crystal Palace 3x0 Arsenal\n",
      "2017-04-17 : Middlesbrough 1x2 Arsenal\n",
      "2017-04-26 : Arsenal 1x0 Leicester City\n",
      "2017-04-30 : Tottenham Hotspur 2x0 Arsenal\n",
      "2017-05-07 : Arsenal 2x0 Manchester United\n",
      "2017-05-10 : Southampton 0x2 Arsenal\n",
      "2017-05-13 : Stoke City 1x4 Arsenal\n",
      "2017-05-16 : Arsenal 2x0 Sunderland\n",
      "2017-05-21 : Arsenal 3x1 Everton\n",
      "2017-08-11 : Arsenal 4x3 Leicester City\n",
      "2017-08-19 : Stoke City 1x0 Arsenal\n",
      "2017-08-27 : Liverpool 4x0 Arsenal\n",
      "2017-09-09 : Arsenal 3x0 AFC Bournemouth\n",
      "2017-09-14 : Arsenal 3x1 FC Cologne\n",
      "2017-09-17 : Chelsea 0x0 Arsenal\n",
      "2017-09-25 : Arsenal 2x0 West Bromwich Albion\n",
      "2017-09-28 : BATE Borisov 2x4 Arsenal\n",
      "2017-10-01 : Arsenal 2x0 Brighton and Hove Albion\n",
      "2017-10-14 : Watford 2x1 Arsenal\n",
      "2017-10-19 : Red Star Belgrade 0x1 Arsenal\n",
      "2017-10-22 : Everton 2x5 Arsenal\n",
      "2017-10-28 : Arsenal 2x1 Swansea City\n",
      "2017-11-02 : Arsenal 0x0 Red Star Belgrade\n",
      "2017-11-05 : Manchester City 3x1 Arsenal\n",
      "2017-11-18 : Arsenal 2x0 Tottenham Hotspur\n",
      "2017-11-23 : FC Cologne 1x0 Arsenal\n",
      "2017-11-26 : Burnley 0x1 Arsenal\n",
      "2017-11-29 : Arsenal 5x0 Huddersfield Town\n",
      "2017-12-02 : Arsenal 1x3 Manchester United\n",
      "2017-12-07 : Arsenal 6x0 BATE Borisov\n",
      "2017-12-10 : Southampton 1x1 Arsenal\n",
      "2017-12-13 : West Ham United 0x0 Arsenal\n",
      "2017-12-16 : Arsenal 1x0 Newcastle\n",
      "2017-12-22 : Arsenal 3x3 Liverpool\n",
      "2017-12-28 : Crystal Palace 2x3 Arsenal\n",
      "2017-12-31 : West Bromwich Albion 1x1 Arsenal\n",
      "2018-01-03 : Arsenal 2x2 Chelsea\n",
      "2018-01-14 : AFC Bournemouth 2x1 Arsenal\n",
      "2018-01-20 : Arsenal 4x1 Crystal Palace\n",
      "2018-01-30 : Swansea City 3x1 Arsenal\n",
      "2018-02-03 : Arsenal 5x1 Everton\n",
      "2018-02-10 : Tottenham Hotspur 1x0 Arsenal\n",
      "2018-02-15 : Östersunds FK 0x3 Arsenal\n",
      "2018-02-22 : Arsenal 1x2 Östersunds FK\n",
      "2018-03-01 : Arsenal 0x3 Manchester City\n",
      "2018-03-04 : Brighton and Hove Albion 2x1 Arsenal\n",
      "2018-03-08 : AC Milan 0x2 Arsenal\n",
      "2018-03-11 : Arsenal 3x0 Watford\n",
      "2018-03-15 : Arsenal 3x1 AC Milan\n",
      "2018-04-01 : Arsenal 3x0 Stoke City\n",
      "2018-04-05 : Arsenal 4x1 CSKA Moscow\n",
      "2018-04-08 : Arsenal 3x2 Southampton\n",
      "2018-04-12 : CSKA Moscow 2x2 Arsenal\n",
      "2018-04-15 : Newcastle 2x1 Arsenal\n",
      "2018-04-22 : Arsenal 4x1 West Ham United\n",
      "2018-04-26 : Arsenal 1x1 Atletico Madrid\n",
      "2018-04-29 : Manchester United 2x1 Arsenal\n",
      "2018-05-03 : Atletico Madrid 1x0 Arsenal\n",
      "2018-05-06 : Arsenal 5x0 Burnley\n",
      "2018-05-09 : Leicester City 3x1 Arsenal\n",
      "2018-05-13 : Huddersfield Town 0x1 Arsenal\n",
      "2018-08-12 : Arsenal 0x2 Manchester City\n",
      "2018-08-18 : Chelsea 3x2 Arsenal\n",
      "2018-08-25 : Arsenal 3x1 West Ham United\n",
      "2018-09-02 : Cardiff City 2x3 Arsenal\n",
      "2018-09-15 : Newcastle 1x2 Arsenal\n",
      "2018-09-20 : Arsenal 4x2 Vorskla\n",
      "2018-09-23 : Arsenal 2x0 Everton\n",
      "2018-09-29 : Arsenal 2x0 Watford\n",
      "2018-10-04 : FK Qarabag 0x3 Arsenal\n",
      "2018-10-07 : Fulham 1x5 Arsenal\n",
      "2018-10-22 : Arsenal 3x1 Leicester City\n",
      "2018-10-25 : Sporting CP 0x1 Arsenal\n",
      "2018-10-28 : Crystal Palace 2x2 Arsenal\n",
      "2018-11-03 : Arsenal 1x1 Liverpool\n",
      "2018-11-08 : Arsenal 0x0 Sporting CP\n",
      "2018-11-11 : Arsenal 1x1 Wolverhampton\n",
      "2018-11-25 : AFC Bournemouth 1x2 Arsenal\n",
      "2018-11-29 : Vorskla 0x3 Arsenal\n",
      "2018-12-02 : Arsenal 4x2 Tottenham Hotspur\n",
      "2018-12-05 : Manchester United 2x2 Arsenal\n",
      "2018-12-08 : Arsenal 1x0 Huddersfield Town\n",
      "2018-12-13 : Arsenal 1x0 FK Qarabag\n",
      "2018-12-16 : Southampton 3x2 Arsenal\n",
      "2018-12-22 : Arsenal 3x1 Burnley\n",
      "2018-12-26 : Brighton and Hove Albion 1x1 Arsenal\n",
      "2018-12-29 : Liverpool 5x1 Arsenal\n",
      "2019-01-01 : Arsenal 4x1 Fulham\n",
      "2019-01-12 : West Ham United 1x0 Arsenal\n",
      "2019-01-19 : Arsenal 2x0 Chelsea\n",
      "2019-01-29 : Arsenal 2x1 Cardiff City\n",
      "2019-02-03 : Manchester City 3x1 Arsenal\n",
      "2019-02-09 : Huddersfield Town 1x2 Arsenal\n",
      "2019-02-14 : BATE Borisov 1x0 Arsenal\n",
      "2019-02-21 : Arsenal 3x0 BATE Borisov\n",
      "2019-02-24 : Arsenal 2x0 Southampton\n",
      "2019-02-27 : Arsenal 5x1 AFC Bournemouth\n",
      "2019-03-02 : Tottenham Hotspur 1x1 Arsenal\n",
      "2019-03-07 : Stade Rennes 3x1 Arsenal\n",
      "2019-03-10 : Arsenal 2x0 Manchester United\n",
      "2019-03-14 : Arsenal 3x0 Stade Rennes\n",
      "2019-04-01 : Arsenal 2x0 Newcastle\n",
      "2019-04-07 : Everton 1x0 Arsenal\n",
      "2019-04-11 : Arsenal 2x0 Napoli\n",
      "2019-04-15 : Watford 0x1 Arsenal\n",
      "2019-04-18 : Napoli 0x1 Arsenal\n",
      "2019-04-21 : Arsenal 2x3 Crystal Palace\n",
      "2019-04-24 : Wolverhampton 3x1 Arsenal\n",
      "2019-04-28 : Leicester City 3x0 Arsenal\n",
      "2019-05-02 : Arsenal 3x1 Valencia\n",
      "2019-05-05 : Arsenal 1x1 Brighton and Hove Albion\n",
      "2019-05-09 : Valencia 2x4 Arsenal\n",
      "2019-05-12 : Burnley 1x3 Arsenal\n",
      "2019-05-29 : Chelsea 4x1 Arsenal\n",
      "2019-08-11 : Newcastle 0x1 Arsenal\n",
      "2019-08-17 : Arsenal 2x1 Burnley\n",
      "2019-08-24 : Liverpool 3x1 Arsenal\n",
      "2019-09-01 : Arsenal 2x2 Tottenham Hotspur\n",
      "2019-09-15 : Watford 2x2 Arsenal\n",
      "2019-09-19 : Eintracht Frankfurt 0x3 Arsenal\n",
      "2019-09-22 : Arsenal 3x2 Aston Villa\n",
      "2019-09-30 : Manchester United 1x1 Arsenal\n",
      "2019-10-03 : Arsenal 4x0 Standard Liege\n",
      "2019-10-06 : Arsenal 1x0 AFC Bournemouth\n",
      "2019-10-21 : Sheffield United 1x0 Arsenal\n",
      "2019-10-24 : Arsenal 3x2 Guimaraes\n",
      "2019-10-27 : Arsenal 2x2 Crystal Palace\n",
      "2019-11-02 : Arsenal 1x1 Wolverhampton\n",
      "2019-11-06 : Guimaraes 1x1 Arsenal\n",
      "2019-11-09 : Leicester City 2x0 Arsenal\n",
      "2019-11-23 : Arsenal 2x2 Southampton\n",
      "2019-11-28 : Arsenal 1x2 Eintracht Frankfurt\n",
      "2019-12-01 : Norwich City 2x2 Arsenal\n",
      "2019-12-05 : Arsenal 1x2 Brighton and Hove Albion\n",
      "2019-12-09 : West Ham United 1x3 Arsenal\n",
      "2019-12-12 : Standard Liege nxn Arsenal\n",
      "2019-12-15 : Arsenal nxn Manchester City\n",
      "2019-12-21 : Everton nxn Arsenal\n",
      "2019-12-26 : AFC Bournemouth nxn Arsenal\n",
      "2019-12-29 : Arsenal nxn Chelsea\n",
      "2020-01-01 : Arsenal nxn Manchester United\n",
      "2020-01-11 : Crystal Palace nxn Arsenal\n",
      "2020-01-18 : Arsenal nxn Sheffield United\n",
      "2020-01-21 : Chelsea nxn Arsenal\n",
      "2020-02-01 : Burnley nxn Arsenal\n",
      "2020-02-08 : Arsenal nxn Newcastle\n",
      "2020-02-22 : Arsenal nxn Everton\n",
      "2020-02-29 : Manchester City nxn Arsenal\n",
      "2020-03-07 : Arsenal nxn West Ham United\n",
      "2020-03-14 : Brighton and Hove Albion nxn Arsenal\n",
      "2020-03-21 : Southampton nxn Arsenal\n",
      "2020-04-04 : Arsenal nxn Norwich City\n",
      "2020-04-11 : Wolverhampton nxn Arsenal\n",
      "2020-04-18 : Arsenal nxn Leicester City\n",
      "2020-04-25 : Tottenham Hotspur nxn Arsenal\n",
      "2020-05-02 : Arsenal nxn Liverpool\n",
      "2020-05-09 : Aston Villa nxn Arsenal\n",
      "2020-05-17 : Arsenal nxn Watford\n",
      "             date                     team1                     team2  score1  \\\n",
      "16     2016-08-14                   Arsenal                 Liverpool     3.0   \n",
      "33     2016-08-20            Leicester City                   Arsenal     0.0   \n",
      "71     2016-08-27                   Watford                   Arsenal     1.0   \n",
      "120    2016-09-10                   Arsenal               Southampton     2.0   \n",
      "160    2016-09-13       Paris Saint-Germain                   Arsenal     1.0   \n",
      "185    2016-09-17                 Hull City                   Arsenal     1.0   \n",
      "280    2016-09-24                   Arsenal                   Chelsea     3.0   \n",
      "321    2016-09-28                   Arsenal                     Basel     2.0   \n",
      "367    2016-10-02                   Burnley                   Arsenal     0.0   \n",
      "388    2016-10-15                   Arsenal              Swansea City     3.0   \n",
      "435    2016-10-19                   Arsenal                Ludogorets     6.0   \n",
      "455    2016-10-22                   Arsenal             Middlesbrough     0.0   \n",
      "503    2016-10-29                Sunderland                   Arsenal     1.0   \n",
      "554    2016-11-01                Ludogorets                   Arsenal     2.0   \n",
      "592    2016-11-06                   Arsenal         Tottenham Hotspur     1.0   \n",
      "618    2016-11-19         Manchester United                   Arsenal     1.0   \n",
      "674    2016-11-23                   Arsenal       Paris Saint-Germain     2.0   \n",
      "713    2016-11-27                   Arsenal           AFC Bournemouth     3.0   \n",
      "754    2016-12-03           West Ham United                   Arsenal     1.0   \n",
      "786    2016-12-06                     Basel                   Arsenal     1.0   \n",
      "814    2016-12-10                   Arsenal                Stoke City     3.0   \n",
      "849    2016-12-13                   Everton                   Arsenal     2.0   \n",
      "897    2016-12-18           Manchester City                   Arsenal     2.0   \n",
      "937    2016-12-26                   Arsenal      West Bromwich Albion     1.0   \n",
      "954    2017-01-01                   Arsenal            Crystal Palace     2.0   \n",
      "961    2017-01-03           AFC Bournemouth                   Arsenal     3.0   \n",
      "996    2017-01-14              Swansea City                   Arsenal     0.0   \n",
      "1086   2017-01-22                   Arsenal                   Burnley     2.0   \n",
      "1147   2017-01-31                   Arsenal                   Watford     1.0   \n",
      "1163   2017-02-04                   Chelsea                   Arsenal     3.0   \n",
      "...           ...                       ...                       ...     ...   \n",
      "26833  2019-11-06                 Guimaraes                   Arsenal     1.0   \n",
      "26979  2019-11-09            Leicester City                   Arsenal     2.0   \n",
      "27228  2019-11-23                   Arsenal               Southampton     2.0   \n",
      "27485  2019-11-28                   Arsenal       Eintracht Frankfurt     1.0   \n",
      "27662  2019-12-01              Norwich City                   Arsenal     2.0   \n",
      "27777  2019-12-05                   Arsenal  Brighton and Hove Albion     1.0   \n",
      "28009  2019-12-09           West Ham United                   Arsenal     1.0   \n",
      "28046  2019-12-12            Standard Liege                   Arsenal     NaN   \n",
      "28235  2019-12-15                   Arsenal           Manchester City     NaN   \n",
      "28316  2019-12-21                   Everton                   Arsenal     NaN   \n",
      "28494  2019-12-26           AFC Bournemouth                   Arsenal     NaN   \n",
      "28554  2019-12-29                   Arsenal                   Chelsea     NaN   \n",
      "28649  2020-01-01                   Arsenal         Manchester United     NaN   \n",
      "28757  2020-01-11            Crystal Palace                   Arsenal     NaN   \n",
      "28900  2020-01-18                   Arsenal          Sheffield United     NaN   \n",
      "29021  2020-01-21                   Chelsea                   Arsenal     NaN   \n",
      "29363  2020-02-01                   Burnley                   Arsenal     NaN   \n",
      "29540  2020-02-08                   Arsenal                 Newcastle     NaN   \n",
      "30009  2020-02-22                   Arsenal                   Everton     NaN   \n",
      "30229  2020-02-29           Manchester City                   Arsenal     NaN   \n",
      "30458  2020-03-07                   Arsenal           West Ham United     NaN   \n",
      "30653  2020-03-14  Brighton and Hove Albion                   Arsenal     NaN   \n",
      "30825  2020-03-21               Southampton                   Arsenal     NaN   \n",
      "31087  2020-04-04                   Arsenal              Norwich City     NaN   \n",
      "31290  2020-04-11             Wolverhampton                   Arsenal     NaN   \n",
      "31490  2020-04-18                   Arsenal            Leicester City     NaN   \n",
      "31697  2020-04-25         Tottenham Hotspur                   Arsenal     NaN   \n",
      "31841  2020-05-02                   Arsenal                 Liverpool     NaN   \n",
      "32006  2020-05-09               Aston Villa                   Arsenal     NaN   \n",
      "32190  2020-05-17                   Arsenal                   Watford     NaN   \n",
      "\n",
      "       score2   prob1   prob2  importance1  importance2   spi1     ...       \\\n",
      "16        4.0  0.5551  0.2115         62.7         63.9  82.55     ...        \n",
      "33        0.0  0.2505  0.5056         23.8         63.0  66.93     ...        \n",
      "71        3.0  0.1698  0.6133         30.4         58.9  59.03     ...        \n",
      "120       1.0  0.6503  0.1334         65.5         22.8  81.72     ...        \n",
      "160       1.0  0.4587  0.2850          NaN          NaN  84.65     ...        \n",
      "185       4.0  0.1705  0.5894         27.7         65.3  53.80     ...        \n",
      "280       0.0  0.4983  0.2563         67.0         59.5  83.19     ...        \n",
      "321       0.0  0.8317  0.0461          NaN          NaN  84.34     ...        \n",
      "367       1.0  0.1284  0.6628         35.8         50.2  56.60     ...        \n",
      "388       2.0  0.7816  0.0671         40.1         30.2  84.98     ...        \n",
      "435       0.0  0.7480  0.0694          NaN          NaN  84.20     ...        \n",
      "455       0.0  0.7914  0.0595         75.2         38.4  85.58     ...        \n",
      "503       4.0  0.0880  0.7482         48.0         56.5  50.59     ...        \n",
      "554       3.0  0.1849  0.5745          NaN          NaN  47.71     ...        \n",
      "592       1.0  0.6239  0.1517         56.7         66.0  85.54     ...        \n",
      "618       1.0  0.3734  0.3657         76.1         57.9  80.00     ...        \n",
      "674       2.0  0.5170  0.2300          NaN          NaN  84.76     ...        \n",
      "713       1.0  0.7524  0.0849         60.6         15.1  84.45     ...        \n",
      "754       5.0  0.1416  0.6674         25.1         46.1  61.16     ...        \n",
      "786       4.0  0.1194  0.7046          NaN          NaN  70.13     ...        \n",
      "814       1.0  0.7568  0.0798         68.1         11.1  85.46     ...        \n",
      "849       1.0  0.1743  0.6144          NaN          NaN  65.92     ...        \n",
      "897       1.0  0.4823  0.2837         51.3         60.1  85.10     ...        \n",
      "937       0.0  0.7397  0.0887         64.8          5.5  83.88     ...        \n",
      "954       0.0  0.7769  0.0775         71.2         29.7  84.22     ...        \n",
      "961       3.0  0.1508  0.6522          NaN          NaN  62.10     ...        \n",
      "996       4.0  0.0940  0.7527         49.3         69.9  53.79     ...        \n",
      "1086      1.0  0.7779  0.0702         79.9          4.8  84.75     ...        \n",
      "1147      2.0  0.7902  0.0675         72.4         18.1  84.32     ...        \n",
      "1163      1.0  0.5259  0.2273         91.9         69.3  85.58     ...        \n",
      "...       ...     ...     ...          ...          ...    ...     ...        \n",
      "26833     1.0  0.2628  0.4874         14.7         11.2  58.80     ...        \n",
      "26979     0.0  0.5248  0.2408         74.1         50.6  82.33     ...        \n",
      "27228     2.0  0.6070  0.1857         24.5         41.3  77.16     ...        \n",
      "27485     2.0  0.4316  0.3291         19.0         89.8  75.66     ...        \n",
      "27662     2.0  0.2973  0.4712         47.3         16.1  59.35     ...        \n",
      "27777     2.0  0.5518  0.2234         13.8         27.6  75.68     ...        \n",
      "28009     3.0  0.3720  0.3926         38.1         10.8  65.85     ...        \n",
      "28046     NaN  0.2801  0.4832         41.6         34.5  55.57     ...        \n",
      "28235     NaN  0.1590  0.6692         16.2         27.4  75.50     ...        \n",
      "28316     NaN  0.4672  0.2931          NaN          NaN  77.53     ...        \n",
      "28494     NaN  0.3571  0.4027          NaN          NaN  67.86     ...        \n",
      "28554     NaN  0.3173  0.4589          NaN          NaN  75.50     ...        \n",
      "28649     NaN  0.4015  0.3541          NaN          NaN  75.50     ...        \n",
      "28757     NaN  0.3675  0.3765          NaN          NaN  70.27     ...        \n",
      "28900     NaN  0.5494  0.2151          NaN          NaN  75.50     ...        \n",
      "29021     NaN  0.6081  0.1936          NaN          NaN  85.86     ...        \n",
      "29363     NaN  0.3689  0.3868          NaN          NaN  69.30     ...        \n",
      "29540     NaN  0.6037  0.1783          NaN          NaN  75.50     ...        \n",
      "30009     NaN  0.4445  0.3135          NaN          NaN  75.50     ...        \n",
      "30229     NaN  0.8164  0.0669          NaN          NaN  94.60     ...        \n",
      "30458     NaN  0.5904  0.1992          NaN          NaN  75.50     ...        \n",
      "30653     NaN  0.3630  0.3934          NaN          NaN  68.71     ...        \n",
      "30825     NaN  0.3470  0.4168          NaN          NaN  66.58     ...        \n",
      "31087     NaN  0.6612  0.1477          NaN          NaN  75.50     ...        \n",
      "31290     NaN  0.4247  0.3221          NaN          NaN  75.05     ...        \n",
      "31490     NaN  0.3472  0.4116          NaN          NaN  75.50     ...        \n",
      "31697     NaN  0.5729  0.2217          NaN          NaN  83.50     ...        \n",
      "31841     NaN  0.2012  0.6013          NaN          NaN  75.50     ...        \n",
      "32006     NaN  0.3450  0.4220          NaN          NaN  66.09     ...        \n",
      "32190     NaN  0.5800  0.1974          NaN          NaN  75.50     ...        \n",
      "\n",
      "       goals_team  goals_adv                  adv_team place prob_team  \\\n",
      "16            3.0        4.0                 Liverpool  home    0.5551   \n",
      "33            0.0        0.0            Leicester City  away    0.5056   \n",
      "71            3.0        1.0                   Watford  away    0.6133   \n",
      "120           2.0        1.0               Southampton  home    0.6503   \n",
      "160           1.0        1.0       Paris Saint-Germain  away    0.2850   \n",
      "185           4.0        1.0                 Hull City  away    0.5894   \n",
      "280           3.0        0.0                   Chelsea  home    0.4983   \n",
      "321           2.0        0.0                     Basel  home    0.8317   \n",
      "367           1.0        0.0                   Burnley  away    0.6628   \n",
      "388           3.0        2.0              Swansea City  home    0.7816   \n",
      "435           6.0        0.0                Ludogorets  home    0.7480   \n",
      "455           0.0        0.0             Middlesbrough  home    0.7914   \n",
      "503           4.0        1.0                Sunderland  away    0.7482   \n",
      "554           3.0        2.0                Ludogorets  away    0.5745   \n",
      "592           1.0        1.0         Tottenham Hotspur  home    0.6239   \n",
      "618           1.0        1.0         Manchester United  away    0.3657   \n",
      "674           2.0        2.0       Paris Saint-Germain  home    0.5170   \n",
      "713           3.0        1.0           AFC Bournemouth  home    0.7524   \n",
      "754           5.0        1.0           West Ham United  away    0.6674   \n",
      "786           4.0        1.0                     Basel  away    0.7046   \n",
      "814           3.0        1.0                Stoke City  home    0.7568   \n",
      "849           1.0        2.0                   Everton  away    0.6144   \n",
      "897           1.0        2.0           Manchester City  away    0.2837   \n",
      "937           1.0        0.0      West Bromwich Albion  home    0.7397   \n",
      "954           2.0        0.0            Crystal Palace  home    0.7769   \n",
      "961           3.0        3.0           AFC Bournemouth  away    0.6522   \n",
      "996           4.0        0.0              Swansea City  away    0.7527   \n",
      "1086          2.0        1.0                   Burnley  home    0.7779   \n",
      "1147          1.0        2.0                   Watford  home    0.7902   \n",
      "1163          1.0        3.0                   Chelsea  away    0.2273   \n",
      "...           ...        ...                       ...   ...       ...   \n",
      "26833         1.0        1.0                 Guimaraes  away    0.4874   \n",
      "26979         0.0        2.0            Leicester City  away    0.2408   \n",
      "27228         2.0        2.0               Southampton  home    0.6070   \n",
      "27485         1.0        2.0       Eintracht Frankfurt  home    0.4316   \n",
      "27662         2.0        2.0              Norwich City  away    0.4712   \n",
      "27777         1.0        2.0  Brighton and Hove Albion  home    0.5518   \n",
      "28009         3.0        1.0           West Ham United  away    0.3926   \n",
      "28046         0.0        0.0            Standard Liege  away    0.4832   \n",
      "28235         0.0        0.0           Manchester City  home    0.1590   \n",
      "28316         0.0        0.0                   Everton  away    0.2931   \n",
      "28494         0.0        0.0           AFC Bournemouth  away    0.4027   \n",
      "28554         0.0        0.0                   Chelsea  home    0.3173   \n",
      "28649         0.0        0.0         Manchester United  home    0.4015   \n",
      "28757         0.0        0.0            Crystal Palace  away    0.3765   \n",
      "28900         0.0        0.0          Sheffield United  home    0.5494   \n",
      "29021         0.0        0.0                   Chelsea  away    0.1936   \n",
      "29363         0.0        0.0                   Burnley  away    0.3868   \n",
      "29540         0.0        0.0                 Newcastle  home    0.6037   \n",
      "30009         0.0        0.0                   Everton  home    0.4445   \n",
      "30229         0.0        0.0           Manchester City  away    0.0669   \n",
      "30458         0.0        0.0           West Ham United  home    0.5904   \n",
      "30653         0.0        0.0  Brighton and Hove Albion  away    0.3934   \n",
      "30825         0.0        0.0               Southampton  away    0.4168   \n",
      "31087         0.0        0.0              Norwich City  home    0.6612   \n",
      "31290         0.0        0.0             Wolverhampton  away    0.3221   \n",
      "31490         0.0        0.0            Leicester City  home    0.3472   \n",
      "31697         0.0        0.0         Tottenham Hotspur  away    0.2217   \n",
      "31841         0.0        0.0                 Liverpool  home    0.2012   \n",
      "32006         0.0        0.0               Aston Villa  away    0.4220   \n",
      "32190         0.0        0.0                   Watford  home    0.5800   \n",
      "\n",
      "       spi_team  spi_adv  spi_dif  importance_team  datetimeobj  \n",
      "16        82.55    77.44     5.11             62.7   2016-08-14  \n",
      "33        81.57    66.93    14.64             63.0   2016-08-20  \n",
      "71        81.56    59.03    22.53             58.9   2016-08-27  \n",
      "120       81.72    67.78    13.94             65.5   2016-09-10  \n",
      "160       81.85    84.65    -2.80             25.0   2016-09-13  \n",
      "185       81.95    53.80    28.15             65.3   2016-09-17  \n",
      "280       83.19    81.10     2.09             67.0   2016-09-24  \n",
      "321       84.34    70.71    13.63             25.0   2016-09-28  \n",
      "367       84.61    56.60    28.01             50.2   2016-10-02  \n",
      "388       84.98    58.68    26.30             40.1   2016-10-15  \n",
      "435       84.20    49.36    34.84             25.0   2016-10-19  \n",
      "455       85.58    53.15    32.43             75.2   2016-10-22  \n",
      "503       84.67    50.59    34.08             56.5   2016-10-29  \n",
      "554       85.30    47.71    37.59             25.0   2016-11-01  \n",
      "592       85.54    75.30    10.24             56.7   2016-11-06  \n",
      "618       84.92    80.00     4.92             57.9   2016-11-19  \n",
      "674       84.76    86.47    -1.71             25.0   2016-11-23  \n",
      "713       84.45    60.85    23.60             60.6   2016-11-27  \n",
      "754       84.21    61.16    23.05             46.1   2016-12-03  \n",
      "786       85.11    70.13    14.98             25.0   2016-12-06  \n",
      "814       85.46    61.56    23.90             68.1   2016-12-10  \n",
      "849       85.11    65.92    19.19             25.0   2016-12-13  \n",
      "897       84.33    85.10    -0.77             60.1   2016-12-18  \n",
      "937       83.88    61.69    22.19             64.8   2016-12-26  \n",
      "954       84.22    59.40    24.82             71.2   2017-01-01  \n",
      "961       84.35    62.10    22.25             25.0   2017-01-03  \n",
      "996       83.85    53.79    30.06             69.9   2017-01-14  \n",
      "1086      84.75    58.83    25.92             79.9   2017-01-22  \n",
      "1147      84.32    56.87    27.45             72.4   2017-01-31  \n",
      "1163      83.05    85.58    -2.53             69.3   2017-02-04  \n",
      "...         ...      ...      ...              ...          ...  \n",
      "26833     77.82    58.80    19.02             11.2   2019-11-06  \n",
      "26979     77.50    82.33    -4.83             50.6   2019-11-09  \n",
      "27228     77.16    64.05    13.11             24.5   2019-11-23  \n",
      "27485     75.66    73.74     1.92             19.0   2019-11-28  \n",
      "27662     75.38    59.35    16.03             16.1   2019-12-01  \n",
      "27777     75.68    68.11     7.57             13.8   2019-12-05  \n",
      "28009     74.50    65.85     8.65             10.8   2019-12-09  \n",
      "28046     75.50    55.57    19.93             34.5   2019-12-12  \n",
      "28235     75.50    94.60   -19.10             16.2   2019-12-15  \n",
      "28316     75.50    77.53    -2.03             25.0   2019-12-21  \n",
      "28494     75.50    67.86     7.64             25.0   2019-12-26  \n",
      "28554     75.50    85.86   -10.36             25.0   2019-12-29  \n",
      "28649     75.50    80.76    -5.26             25.0   2020-01-01  \n",
      "28757     75.50    70.27     5.23             25.0   2020-01-11  \n",
      "28900     75.50    69.54     5.96             25.0   2020-01-18  \n",
      "29021     75.50    85.86   -10.36             25.0   2020-01-21  \n",
      "29363     75.50    69.30     6.20             25.0   2020-02-01  \n",
      "29540     75.50    64.50    11.00             25.0   2020-02-08  \n",
      "30009     75.50    77.53    -2.03             25.0   2020-02-22  \n",
      "30229     75.50    94.60   -19.10             25.0   2020-02-29  \n",
      "30458     75.50    64.92    10.58             25.0   2020-03-07  \n",
      "30653     75.50    68.71     6.79             25.0   2020-03-14  \n",
      "30825     75.50    66.58     8.92             25.0   2020-03-21  \n",
      "31087     75.50    58.31    17.19             25.0   2020-04-04  \n",
      "31290     75.50    75.05     0.45             25.0   2020-04-11  \n",
      "31490     75.50    84.51    -9.01             25.0   2020-04-18  \n",
      "31697     75.50    83.50    -8.00             25.0   2020-04-25  \n",
      "31841     75.50    92.96   -17.46             25.0   2020-05-02  \n",
      "32006     75.50    66.09     9.41             25.0   2020-05-09  \n",
      "32190     75.50    66.52     8.98             25.0   2020-05-17  \n",
      "\n",
      "[195 rows x 21 columns]\n"
     ]
    }
   ],
   "source": [
    "for label, row in team_matches_data.iterrows() :\n",
    "    print(str(row[\"date\"]) + \" : \" + str(row[\"team1\"]) + \" \" + str(row[\"score1\"])[0] + \"x\"  + str(row[\"score2\"])[0] + \" \" + str(row[\"team2\"]))\n",
    "    if(row['team1'] == teamname) :\n",
    "        team_matches_data.loc[label, \"goals_team\"] = row['score1']\n",
    "        team_matches_data.loc[label, \"goals_adv\"] = row['score2']\n",
    "        team_matches_data.loc[label, \"adv_team\"] = row['team2']\n",
    "        team_matches_data.loc[label, \"place\"] = \"home\"\n",
    "        team_matches_data.loc[label, \"prob_team\"] = row['prob1']\n",
    "        team_matches_data.loc[label, \"spi_team\"] = row['spi1']\n",
    "        team_matches_data.loc[label, \"spi_adv\"] = row['spi2']\n",
    "        team_matches_data.loc[label, \"spi_dif\"] = row['spi1'] - row['spi2']\n",
    "        if(math.isnan(row['importance1'])) :\n",
    "            team_matches_data.loc[label, \"importance_team\"] = 25.0\n",
    "        else : \n",
    "            team_matches_data.loc[label, \"importance_team\"] = row['importance1']\n",
    "        if(math.isnan(row['score1'])) :\n",
    "            team_matches_data.loc[label, \"goals_team\"] = 0.0\n",
    "            team_matches_data.loc[label, \"goals_adv\"] = 0.0\n",
    "    else :\n",
    "        team_matches_data.loc[label, \"goals_team\"] = row['score2']\n",
    "        team_matches_data.loc[label, \"goals_adv\"] = row['score1']\n",
    "        team_matches_data.loc[label, \"adv_team\"] = row['team1']\n",
    "        team_matches_data.loc[label, \"place\"] = \"away\"\n",
    "        team_matches_data.loc[label, \"prob_team\"] = row['prob2']\n",
    "        team_matches_data.loc[label, \"spi_team\"] = row['spi2']\n",
    "        team_matches_data.loc[label, \"spi_adv\"] = row['spi1']\n",
    "        team_matches_data.loc[label, \"spi_dif\"] = row['spi2'] - row['spi1']\n",
    "        if(math.isnan(row['importance2'])) :\n",
    "            team_matches_data.loc[label, \"importance_team\"] = 25.0\n",
    "        else :\n",
    "            team_matches_data.loc[label, \"importance_team\"] = row['importance2']\n",
    "        if(math.isnan(row['score1'])) :\n",
    "            team_matches_data.loc[label, \"goals_team\"] = 0.0\n",
    "            team_matches_data.loc[label, \"goals_adv\"] = 0.0\n",
    "            \n",
    "print(team_matches_data)"
   ]
  },
  {
   "cell_type": "markdown",
   "metadata": {},
   "source": [
    "# Creating data visualizations"
   ]
  },
  {
   "cell_type": "code",
   "execution_count": 545,
   "metadata": {},
   "outputs": [
    {
     "data": {
      "image/png": "[encoded data removed]",
      "text/plain": [
       "<Figure size 432x288 with 1 Axes>"
      ]
     },
     "metadata": {
      "needs_background": "light"
     },
     "output_type": "display_data"
    },
    {
     "data": {
      "text/plain": [
       "<Figure size 432x288 with 0 Axes>"
      ]
     },
     "metadata": {},
     "output_type": "display_data"
    }
   ],
   "source": [
    "team_matches_data.loc[:, \"datetimeobj\"] = team_matches_data.loc[:, \"date\"].apply(lambda x : datetime.datetime.strptime(x, \"%Y-%m-%d\"))\n",
    "\n",
    "plt.plot_date(x=team_matches_data.loc[:, 'datetimeobj'], y=team_matches_data.loc[:,'goals_team'], xdate = True, ydate = False, color = 'blue')\n",
    "plt.plot_date(x=team_matches_data.loc[:, 'datetimeobj'], y=team_matches_data.loc[:,'goals_adv'], xdate = True, ydate = False, color = 'red')\n",
    "plt.show()\n",
    "plt.clf()"
   ]
  },
  {
   "cell_type": "code",
   "execution_count": 573,
   "metadata": {},
   "outputs": [
    {
     "data": {
      "image/png": "[encoded data removed]",
      "text/plain": [
       "<Figure size 432x288 with 1 Axes>"
      ]
     },
     "metadata": {
      "needs_background": "light"
     },
     "output_type": "display_data"
    },
    {
     "data": {
      "text/plain": [
       "<Figure size 432x288 with 0 Axes>"
      ]
     },
     "metadata": {},
     "output_type": "display_data"
    },
    {
     "data": {
      "image/png": "[encoded data removed]",
      "text/plain": [
       "<Figure size 432x288 with 1 Axes>"
      ]
     },
     "metadata": {
      "needs_background": "light"
     },
     "output_type": "display_data"
    },
    {
     "data": {
      "text/plain": [
       "<Figure size 432x288 with 0 Axes>"
      ]
     },
     "metadata": {},
     "output_type": "display_data"
    }
   ],
   "source": [
    "plt.hist(team_matches_data['goals_team'], bins = range(10), alpha=0.5, label='Goals home team')\n",
    "plt.hist(team_matches_data['goals_adv'], bins = range(10), alpha=0.5, label='Goals Adv.')\n",
    "plt.legend(loc='upper right')\n",
    "plt.xticks(range(10))\n",
    "plt.show()\n",
    "plt.clf()\n",
    "\n",
    "team_done_matches = team_matches_data[team_matches_data['datetimeobj'] < datetime.datetime.now() - datetime.timedelta(days=1)]\n",
    "team_predict = team_done_matches[['goals_team','prob_team', 'importance_team', 'spi_adv', 'place', 'spi_dif']]\n",
    "team_predict = pd.get_dummies(team_predict, drop_first = True)\n",
    "\n",
    "team_predict.boxplot('goals_team', 'place_home', rot=60)\n",
    "plt.xticks([1, 2], ['away', 'home'])\n",
    "plt.show()\n",
    "plt.clf()"
   ]
  },
  {
   "cell_type": "markdown",
   "metadata": {},
   "source": [
    "# Training kNeighbors to predict goal numbers"
   ]
  },
  {
   "cell_type": "code",
   "execution_count": 547,
   "metadata": {},
   "outputs": [
    {
     "name": "stderr",
     "output_type": "stream",
     "text": [
      "C:\\Program Files\\Anaconda3\\lib\\site-packages\\sklearn\\model_selection\\_split.py:605: Warning: The least populated class in y has only 2 members, which is too few. The minimum number of members in any class cannot be less than n_splits=5.\n",
      "  % (min_groups, self.n_splits)), Warning)\n"
     ]
    },
    {
     "name": "stdout",
     "output_type": "stream",
     "text": [
      "{'n_neighbors': 19}\n",
      "0.30057803468208094\n",
      "Predicted scores = \n",
      "[3. 1. 1. 2. 2. 1. 1. 1. 2. 2. 0. 0. 2. 0. 1. 3. 2. 2. 1. 2. 1. 2. 1. 2.\n",
      " 2. 2. 1. 1. 1. 1. 1. 2. 2. 1. 3.]\n"
     ]
    },
    {
     "data": {
      "image/png": "[encoded data removed]",
      "text/plain": [
       "<Figure size 432x288 with 1 Axes>"
      ]
     },
     "metadata": {
      "needs_background": "light"
     },
     "output_type": "display_data"
    },
    {
     "name": "stdout",
     "output_type": "stream",
     "text": [
      "\n",
      "Precision of model = \n",
      "0.2571428571428571\n",
      "\n",
      "Confusion Matrix: \n",
      "[[0 1 1 0 1 0]\n",
      " [1 5 6 2 1 0]\n",
      " [1 8 1 2 1 1]\n",
      " [0 0 0 3 0 0]\n",
      " [0 0 0 0 0 0]\n",
      " [0 0 0 0 0 0]]\n",
      "\n",
      "Classification: \n",
      "             precision    recall  f1-score   support\n",
      "\n",
      "        0.0       0.00      0.00      0.00         3\n",
      "        1.0       0.36      0.33      0.34        15\n",
      "        2.0       0.12      0.07      0.09        14\n",
      "        3.0       0.43      1.00      0.60         3\n",
      "        4.0       0.00      0.00      0.00         0\n",
      "        5.0       0.00      0.00      0.00         0\n",
      "\n",
      "avg / total       0.24      0.26      0.24        35\n",
      "\n"
     ]
    },
    {
     "name": "stderr",
     "output_type": "stream",
     "text": [
      "C:\\Program Files\\Anaconda3\\lib\\site-packages\\sklearn\\metrics\\classification.py:1137: UndefinedMetricWarning: Recall and F-score are ill-defined and being set to 0.0 in labels with no true samples.\n",
      "  'recall', 'true', average, warn_for)\n"
     ]
    },
    {
     "data": {
      "text/plain": [
       "<Figure size 432x288 with 0 Axes>"
      ]
     },
     "metadata": {},
     "output_type": "display_data"
    }
   ],
   "source": [
    "X = team_predict.drop('goals_team', axis=1).values\n",
    "y = team_predict['goals_team'].values\n",
    "\n",
    "#Discovering best parameter for k_neighbors\n",
    "param_grid={'n_neighbors': np.arange(1,50)}\n",
    "knn = KNeighborsClassifier()\n",
    "knn_cv = GridSearchCV(knn, param_grid, cv = 5)\n",
    "\n",
    "knn_cv.fit(X, y)\n",
    "\n",
    "print(knn_cv.best_params_)\n",
    "print(knn_cv.best_score_)\n",
    "\n",
    "X_train, X_test, y_train, y_test = train_test_split(X, y, test_size = 0.2, random_state=42)\n",
    "\n",
    "knn = KNeighborsClassifier(n_neighbors=knn_cv.best_params_['n_neighbors'])\n",
    "knn.fit(X_train,y_train)\n",
    "print(\"Predicted scores = \") \n",
    "print(knn.predict(X_test))\n",
    "plt.hist(knn.predict(X_test), bins = range(10), alpha=1, label='Number of goals')\n",
    "plt.xticks(range(10))\n",
    "plt.show()\n",
    "plt.clf()\n",
    "print(\"\\nPrecision of model = \") \n",
    "print(knn.score(X_test, y_test))\n",
    "print(\"\\nConfusion Matrix: \")\n",
    "print(confusion_matrix(knn.predict(X_test), y_test))\n",
    "print(\"\\nClassification: \")\n",
    "print(classification_report(knn.predict(X_test), y_test))"
   ]
  },
  {
   "cell_type": "code",
   "execution_count": 548,
   "metadata": {},
   "outputs": [
    {
     "data": {
      "image/png": "[encoded data removed]",
      "text/plain": [
       "<Figure size 432x288 with 2 Axes>"
      ]
     },
     "metadata": {
      "needs_background": "light"
     },
     "output_type": "display_data"
    }
   ],
   "source": [
    "ax = sns.heatmap(team_predict.corr(), square=True, cmap='RdYlGn')\n",
    "plt.show()"
   ]
  },
  {
   "cell_type": "markdown",
   "metadata": {},
   "source": [
    "# Trying linear regression to predict goals"
   ]
  },
  {
   "cell_type": "markdown",
   "metadata": {},
   "source": [
    "With one variable (prob_team first and spi_dif after)"
   ]
  },
  {
   "cell_type": "code",
   "execution_count": 549,
   "metadata": {},
   "outputs": [
    {
     "name": "stdout",
     "output_type": "stream",
     "text": [
      "0.1476973916848221\n"
     ]
    },
    {
     "data": {
      "image/png": "[encoded data removed]",
      "text/plain": [
       "<Figure size 432x288 with 1 Axes>"
      ]
     },
     "metadata": {
      "needs_background": "light"
     },
     "output_type": "display_data"
    },
    {
     "name": "stdout",
     "output_type": "stream",
     "text": [
      "R^2: 0.33600488153076913\n",
      "Root Mean Squared Error: 0.9728290228146107\n",
      "[ 0.15340838  0.14882361  0.23740335  0.03589135 -0.10205584]\n"
     ]
    },
    {
     "data": {
      "text/plain": [
       "<Figure size 432x288 with 0 Axes>"
      ]
     },
     "metadata": {},
     "output_type": "display_data"
    }
   ],
   "source": [
    "reg = LinearRegression()\n",
    "\n",
    "X = team_predict['prob_team'].values.reshape(-1,1)\n",
    "y = team_predict['goals_team'].values.reshape(-1,1)\n",
    "\n",
    "prediction_space = np.linspace(min(X), max(X)).reshape(-1,1)\n",
    "reg.fit(X, y)\n",
    "result = reg.predict(prediction_space)\n",
    "print(reg.score(X,y))\n",
    "\n",
    "# Plot regression line\n",
    "plt.scatter(X,y)\n",
    "plt.plot(prediction_space, result, color='black', linewidth=3)\n",
    "plt.xlabel(\"Win prob for team\")\n",
    "plt.ylabel(\"Number of goals scored\")\n",
    "plt.show()\n",
    "plt.clf()\n",
    "\n",
    "X_train, X_test, y_train, y_test = train_test_split(X, y, test_size = 0.2, random_state=42)\n",
    "reg.fit(X_train, y_train)\n",
    "y_pred = reg.predict(X_test)\n",
    "print(\"R^2: {}\".format(reg.score(X_test, y_test)))\n",
    "rmse = np.sqrt(mean_squared_error(y_test, y_pred))\n",
    "print(\"Root Mean Squared Error: {}\".format(rmse))\n",
    "\n",
    "cv_scores = cross_val_score(reg, X, y, cv=5)\n",
    "print(cv_scores)"
   ]
  },
  {
   "cell_type": "code",
   "execution_count": 550,
   "metadata": {},
   "outputs": [
    {
     "name": "stdout",
     "output_type": "stream",
     "text": [
      "0.09701053181646824\n"
     ]
    },
    {
     "data": {
      "image/png": "[encoded data removed]",
      "text/plain": [
       "<Figure size 432x288 with 1 Axes>"
      ]
     },
     "metadata": {
      "needs_background": "light"
     },
     "output_type": "display_data"
    },
    {
     "name": "stdout",
     "output_type": "stream",
     "text": [
      "R^2: 0.19587425349210785\n",
      "Root Mean Squared Error: 1.0705724402003607\n",
      "[ 0.150661    0.09006867  0.10066665 -0.0284039  -0.04981854]\n"
     ]
    },
    {
     "data": {
      "text/plain": [
       "<Figure size 432x288 with 0 Axes>"
      ]
     },
     "metadata": {},
     "output_type": "display_data"
    }
   ],
   "source": [
    "reg2 = LinearRegression()\n",
    "\n",
    "X = team_predict['spi_dif'].values.reshape(-1,1)\n",
    "y = team_predict['goals_team'].values.reshape(-1,1)\n",
    "\n",
    "prediction_space = np.linspace(min(X), max(X)).reshape(-1,1)\n",
    "reg2.fit(X, y)\n",
    "result = reg2.predict(prediction_space)\n",
    "print(reg2.score(X,y))\n",
    "\n",
    "# Plot regression line\n",
    "plt.scatter(X,y)\n",
    "plt.plot(prediction_space, result, color='black', linewidth=3)\n",
    "plt.xlabel(\"Differnce in Soccer Power Index between teams\")\n",
    "plt.ylabel(\"Number of goals scored\")\n",
    "plt.show()\n",
    "plt.clf()\n",
    "\n",
    "X_train, X_test, y_train, y_test = train_test_split(X, y, test_size = 0.2, random_state=42)\n",
    "reg2.fit(X_train, y_train)\n",
    "y_pred = reg2.predict(X_test)\n",
    "print(\"R^2: {}\".format(reg2.score(X_test, y_test)))\n",
    "rmse = np.sqrt(mean_squared_error(y_test, y_pred))\n",
    "print(\"Root Mean Squared Error: {}\".format(rmse))\n",
    "\n",
    "cv_scores = cross_val_score(reg, X, y, cv=5)\n",
    "print(cv_scores)"
   ]
  },
  {
   "cell_type": "markdown",
   "metadata": {},
   "source": [
    "Trying with all variables"
   ]
  },
  {
   "cell_type": "code",
   "execution_count": 551,
   "metadata": {
    "scrolled": true
   },
   "outputs": [
    {
     "name": "stdout",
     "output_type": "stream",
     "text": [
      "\n",
      "Predictions\n",
      "\n",
      "[2.69888244 1.60776144 1.84475974 0.85215785 1.4309532  2.21824159\n",
      " 1.94769154 1.16748372 2.15752949 2.0672139  2.55890734 1.98320824\n",
      " 1.02382906 2.15545725 0.82529472 2.55256312 1.68237906 1.89749574\n",
      " 2.49525403 0.83178793 1.22394938 2.12917458 1.86594983 1.09491151\n",
      " 1.88752378 1.87319338 2.02845631 1.0266999  1.58247625 1.30053902\n",
      " 2.98184417 1.55973918 1.97764735 1.21690239 2.36381228]\n",
      "\n",
      "Score\n",
      "\n",
      "0.1664627882189329\n",
      "\n",
      "Coeficients\n",
      "\n",
      "[-2.03397228e+00 -2.59667657e-04 -2.82061256e-02  2.60031664e-02\n",
      "  1.06908409e+00]\n",
      "4.054896612868742\n"
     ]
    },
    {
     "data": {
      "image/png": "[encoded data removed]",
      "text/plain": [
       "<Figure size 432x288 with 1 Axes>"
      ]
     },
     "metadata": {
      "needs_background": "light"
     },
     "output_type": "display_data"
    },
    {
     "data": {
      "text/plain": [
       "<Figure size 432x288 with 0 Axes>"
      ]
     },
     "metadata": {},
     "output_type": "display_data"
    }
   ],
   "source": [
    "reg_all = LinearRegression()\n",
    "\n",
    "X = team_predict.drop('goals_team', axis = 1).values\n",
    "y = team_predict['goals_team'].values\n",
    "\n",
    "X_train, X_test, y_train, y_test = train_test_split(X, y, test_size = 0.2, random_state=42)\n",
    "reg_all.fit(X_train, y_train)\n",
    "y_pred = reg_all.predict(X_test)\n",
    "\n",
    "print(\"\\nPredictions\\n\")\n",
    "print(y_pred)\n",
    "print(\"\\nScore\\n\")\n",
    "print(reg_all.score(X_test, y_test))\n",
    "print(\"\\nCoeficients\\n\")\n",
    "print(reg_all.coef_)\n",
    "print(reg_all.intercept_)\n",
    "\n",
    "plt.plot(team_predict.drop('goals_team', axis = 1).columns, reg_all.coef_)\n",
    "plt.show()\n",
    "plt.clf()\n"
   ]
  },
  {
   "cell_type": "markdown",
   "metadata": {},
   "source": [
    "# Logistic regression"
   ]
  },
  {
   "cell_type": "code",
   "execution_count": 552,
   "metadata": {},
   "outputs": [
    {
     "name": "stderr",
     "output_type": "stream",
     "text": [
      "C:\\Program Files\\Anaconda3\\lib\\site-packages\\sklearn\\model_selection\\_split.py:605: Warning: The least populated class in y has only 2 members, which is too few. The minimum number of members in any class cannot be less than n_splits=5.\n",
      "  % (min_groups, self.n_splits)), Warning)\n"
     ]
    },
    {
     "name": "stdout",
     "output_type": "stream",
     "text": [
      "Melhor score com parametro = 0.3699421965317919\n",
      "{'C': 0.4393970560760795, 'penalty': 'l1'}\n",
      "\n",
      "Predictions\n",
      "\n",
      "[3. 1. 3. 1. 1. 2. 2. 1. 2. 2. 2. 1. 1. 3. 1. 3. 2. 1. 2. 1. 1. 2. 2. 1.\n",
      " 1. 2. 2. 1. 2. 1. 2. 1. 1. 1. 3.]\n",
      "\n",
      "Precision of model = \n",
      "0.5142857142857142\n",
      "\n",
      "Confusion Matrix: \n",
      "[[ 0  0  0  0  0  0]\n",
      " [ 2 10  2  0  2  1]\n",
      " [ 0  3  5  4  1  0]\n",
      " [ 0  1  1  3  0  0]\n",
      " [ 0  0  0  0  0  0]\n",
      " [ 0  0  0  0  0  0]]\n",
      "\n",
      "Classification: \n",
      "             precision    recall  f1-score   support\n",
      "\n",
      "        0.0       0.00      0.00      0.00         0\n",
      "        1.0       0.71      0.59      0.65        17\n",
      "        2.0       0.62      0.38      0.48        13\n",
      "        3.0       0.43      0.60      0.50         5\n",
      "        4.0       0.00      0.00      0.00         0\n",
      "        5.0       0.00      0.00      0.00         0\n",
      "\n",
      "avg / total       0.64      0.51      0.56        35\n",
      "\n",
      "Previsão: 3 gol(s) contra Liverpool -> Confidence: 0.23017735305627393\n",
      "Previsão: 1 gol(s) contra Leicester City -> Confidence: 0.3244351704227693\n",
      "Previsão: 3 gol(s) contra Watford -> Confidence: 0.28510919283836184\n",
      "Previsão: 1 gol(s) contra Southampton -> Confidence: 0.35560605683247426\n",
      "Previsão: 1 gol(s) contra Paris Saint-Germain -> Confidence: 0.3504276988991752\n",
      "Previsão: 2 gol(s) contra Hull City -> Confidence: 0.2698290866808383\n",
      "Previsão: 2 gol(s) contra Chelsea -> Confidence: 0.2741493972547665\n",
      "Previsão: 1 gol(s) contra Basel -> Confidence: 0.37152569828728244\n",
      "Previsão: 2 gol(s) contra Burnley -> Confidence: 0.27385617219037006\n",
      "Previsão: 2 gol(s) contra Swansea City -> Confidence: 0.2784277916270141\n",
      "Previsão: 2 gol(s) contra Ludogorets -> Confidence: 0.24990184407891058\n",
      "Previsão: 1 gol(s) contra Middlesbrough -> Confidence: 0.2974175598486412\n",
      "Previsão: 1 gol(s) contra Sunderland -> Confidence: 0.3684879948631398\n",
      "Previsão: 3 gol(s) contra Ludogorets -> Confidence: 0.28166524738794024\n",
      "Previsão: 1 gol(s) contra Tottenham Hotspur -> Confidence: 0.35129779576233044\n",
      "Previsão: 3 gol(s) contra Manchester United -> Confidence: 0.2449176640940732\n",
      "Previsão: 2 gol(s) contra Paris Saint-Germain -> Confidence: 0.29087096559904574\n",
      "Previsão: 1 gol(s) contra AFC Bournemouth -> Confidence: 0.3130938231976566\n",
      "Previsão: 2 gol(s) contra West Ham United -> Confidence: 0.25750942209128297\n",
      "Previsão: 1 gol(s) contra Basel -> Confidence: 0.35762676469907345\n",
      "Previsão: 1 gol(s) contra Stoke City -> Confidence: 0.3241509564335338\n",
      "Previsão: 2 gol(s) contra Everton -> Confidence: 0.2770458624150464\n",
      "Previsão: 2 gol(s) contra Manchester City -> Confidence: 0.28102947744706047\n",
      "Previsão: 1 gol(s) contra West Bromwich Albion -> Confidence: 0.371537626475785\n",
      "Previsão: 1 gol(s) contra Crystal Palace -> Confidence: 0.3244308243314952\n",
      "Previsão: 2 gol(s) contra AFC Bournemouth -> Confidence: 0.28983661112238873\n",
      "Previsão: 2 gol(s) contra Swansea City -> Confidence: 0.27667870001999484\n",
      "Previsão: 1 gol(s) contra Burnley -> Confidence: 0.3370965337124868\n",
      "Previsão: 2 gol(s) contra Watford -> Confidence: 0.28678521198278334\n",
      "Previsão: 1 gol(s) contra Chelsea -> Confidence: 0.36208304613697256\n",
      "Previsão: 2 gol(s) contra Hull City -> Confidence: 0.20841878090074584\n",
      "Previsão: 1 gol(s) contra Bayern Munich -> Confidence: 0.3329888954564094\n",
      "Previsão: 1 gol(s) contra Liverpool -> Confidence: 0.286998876364849\n",
      "Previsão: 1 gol(s) contra Bayern Munich -> Confidence: 0.3670451858418496\n",
      "Previsão: 3 gol(s) contra West Bromwich Albion -> Confidence: 0.24008294988754875\n"
     ]
    },
    {
     "name": "stderr",
     "output_type": "stream",
     "text": [
      "C:\\Program Files\\Anaconda3\\lib\\site-packages\\sklearn\\metrics\\classification.py:1137: UndefinedMetricWarning: Recall and F-score are ill-defined and being set to 0.0 in labels with no true samples.\n",
      "  'recall', 'true', average, warn_for)\n"
     ]
    }
   ],
   "source": [
    "X = team_predict.drop('goals_team', axis = 1).values\n",
    "y = team_predict['goals_team'].values\n",
    "\n",
    "#Choosing best parameter for model\n",
    "c_space = np.logspace(-5, 8, 15)\n",
    "param_grid = {'C': c_space, 'penalty': ['l1', 'l2']}\n",
    "reg_log = LogisticRegression()\n",
    "reg_log_cv = GridSearchCV(reg_log, param_grid, cv=5)\n",
    "reg_log_cv.fit(X, y)\n",
    "\n",
    "print(\"Melhor score com parametro = \" + str(reg_log_cv.best_score_))\n",
    "print(reg_log_cv.best_params_)\n",
    "\n",
    "reg_log = LogisticRegression(C = reg_log_cv.best_params_['C'], penalty = reg_log_cv.best_params_['penalty'])\n",
    "\n",
    "X_train, X_test, y_train, y_test = train_test_split(X, y, test_size = 0.2, random_state=42)\n",
    "reg_log.fit(X_train, y_train)\n",
    "y_pred = reg_log.predict(X_test)\n",
    "\n",
    "print(\"\\nPredictions\\n\")\n",
    "print(y_pred)\n",
    "print(\"\\nPrecision of model = \") \n",
    "print(reg_log.score(X_test, y_test))\n",
    "print(\"\\nConfusion Matrix: \")\n",
    "print(confusion_matrix(reg_log.predict(X_test), y_test))\n",
    "print(\"\\nClassification: \")\n",
    "print(classification_report(reg_log.predict(X_test), y_test))\n",
    "\n",
    "# Compute predicted probabilities: y_pred_prob\n",
    "y_pred_prob = reg_log.predict_proba(X_test)[:,1]\n",
    "\n",
    "adv_teams = team_done_matches['adv_team'].values\n",
    "\n",
    "for i in range(y_pred_prob.shape[0]) :\n",
    "    print(\"Previsão: \" + str(int(y_pred[i])) + \" gol(s) contra \" + adv_teams[i] + \" -> Confidence: \" + str(y_pred_prob[i]))\n",
    "\n"
   ]
  },
  {
   "cell_type": "markdown",
   "metadata": {},
   "source": [
    "# Decision tree model"
   ]
  },
  {
   "cell_type": "code",
   "execution_count": 553,
   "metadata": {},
   "outputs": [
    {
     "name": "stdout",
     "output_type": "stream",
     "text": [
      "Tuned Decision Tree Parameters: {'criterion': 'entropy', 'max_depth': 3, 'max_features': 1, 'min_samples_leaf': 1}\n",
      "Best score is 0.3352601156069364\n",
      "\n",
      "Predictions\n",
      "\n",
      "[3. 3. 3. 0. 2. 2. 2. 2. 2. 2. 3. 3. 0. 1. 0. 3. 1. 3. 3. 0. 2. 2. 2. 0.\n",
      " 3. 2. 2. 2. 2. 2. 1. 3. 1. 2. 1.]\n",
      "\n",
      "Precision of model = \n",
      "0.5142857142857142\n",
      "\n",
      "Confusion Matrix: \n",
      "[[ 0  0  0  0  0  0]\n",
      " [ 2 10  2  0  2  1]\n",
      " [ 0  3  5  4  1  0]\n",
      " [ 0  1  1  3  0  0]\n",
      " [ 0  0  0  0  0  0]\n",
      " [ 0  0  0  0  0  0]]\n",
      "\n",
      "Classification: \n",
      "             precision    recall  f1-score   support\n",
      "\n",
      "        0.0       0.00      0.00      0.00         0\n",
      "        1.0       0.71      0.59      0.65        17\n",
      "        2.0       0.62      0.38      0.48        13\n",
      "        3.0       0.43      0.60      0.50         5\n",
      "        4.0       0.00      0.00      0.00         0\n",
      "        5.0       0.00      0.00      0.00         0\n",
      "\n",
      "avg / total       0.64      0.51      0.56        35\n",
      "\n"
     ]
    },
    {
     "name": "stderr",
     "output_type": "stream",
     "text": [
      "C:\\Program Files\\Anaconda3\\lib\\site-packages\\sklearn\\model_selection\\_split.py:605: Warning: The least populated class in y has only 2 members, which is too few. The minimum number of members in any class cannot be less than n_splits=5.\n",
      "  % (min_groups, self.n_splits)), Warning)\n",
      "C:\\Program Files\\Anaconda3\\lib\\site-packages\\sklearn\\metrics\\classification.py:1137: UndefinedMetricWarning: Recall and F-score are ill-defined and being set to 0.0 in labels with no true samples.\n",
      "  'recall', 'true', average, warn_for)\n"
     ]
    }
   ],
   "source": [
    "X = team_predict.drop('goals_team', axis = 1).values\n",
    "y = team_predict['goals_team'].values\n",
    "\n",
    "\n",
    "#Finding best parameters for Decision tree\n",
    "# Setup the parameters and distributions to sample from: param_dist\n",
    "param_dist = {\"max_depth\": [3, None],\n",
    "              \"max_features\": randint(1, 6),\n",
    "              \"min_samples_leaf\": randint(1, 9),\n",
    "              \"criterion\": [\"gini\", \"entropy\"]}\n",
    "# Instantiate a Decision Tree classifier: tree\n",
    "tree = DecisionTreeClassifier()\n",
    "# Instantiate the RandomizedSearchCV object: tree_cv\n",
    "tree_cv = RandomizedSearchCV(tree, param_dist, cv=5)\n",
    "# Fit it to the data\n",
    "tree_cv.fit(X,y)\n",
    "\n",
    "# Print the tuned parameters and score\n",
    "print(\"Tuned Decision Tree Parameters: {}\".format(tree_cv.best_params_))\n",
    "print(\"Best score is {}\".format(tree_cv.best_score_))\n",
    "\n",
    "tree = DecisionTreeClassifier(criterion = tree_cv.best_params_['criterion'], max_depth = tree_cv.best_params_['max_depth'], max_features = tree_cv.best_params_['max_features'], min_samples_leaf = tree_cv.best_params_['min_samples_leaf'])\n",
    "\n",
    "X_train, X_test, y_train, y_test = train_test_split(X, y, test_size = 0.2, random_state=42)\n",
    "tree.fit(X_train, y_train)\n",
    "y_pred = tree.predict(X_test)\n",
    "\n",
    "print(\"\\nPredictions\\n\")\n",
    "print(y_pred)\n",
    "print(\"\\nPrecision of model = \") \n",
    "print(reg_log.score(X_test, y_test))\n",
    "print(\"\\nConfusion Matrix: \")\n",
    "print(confusion_matrix(reg_log.predict(X_test), y_test))\n",
    "print(\"\\nClassification: \")\n",
    "print(classification_report(reg_log.predict(X_test), y_test))\n",
    "\n"
   ]
  },
  {
   "cell_type": "markdown",
   "metadata": {},
   "source": [
    "# Ridge model"
   ]
  },
  {
   "cell_type": "code",
   "execution_count": 560,
   "metadata": {},
   "outputs": [
    {
     "name": "stdout",
     "output_type": "stream",
     "text": [
      "Tuned Decision Tree Parameters: {'alpha': 1.0}\n",
      "Best score is 0.08155085380264473\n",
      "\n",
      "Predictions\n",
      "\n",
      "[2.43503848 1.72805751 1.99128541 1.12070609 1.73170224 2.11561978\n",
      " 1.74807391 1.49185631 2.16837886 2.08771461 2.31195558 2.02483225\n",
      " 1.26447192 2.08704852 1.20891665 2.44795294 1.55990234 1.90323056\n",
      " 2.3829523  1.12383034 1.54139017 2.06093107 1.73809612 1.28365493\n",
      " 1.93515614 1.75423016 2.10008727 1.91823522 1.8629827  1.67148523\n",
      " 2.54075183 1.99520238 2.20053123 1.61576465 2.18083381]\n",
      "\n",
      "Precision of model = \n",
      "0.26153540032189193\n",
      "\n",
      "R^2: 0.26153540032189193\n",
      "Root Mean Squared Error: 1.0259328024451906\n"
     ]
    }
   ],
   "source": [
    "# Setup the parameters and distributions to sample from: param_dist\n",
    "linear_space = np.linspace(0, 1)\n",
    "\n",
    "param_dist = {\"alpha\": linear_space}\n",
    "\n",
    "ridge_reg = Ridge()\n",
    "\n",
    "ridge_reg_cv = GridSearchCV(ridge_reg, param_dist, cv=5)\n",
    "\n",
    "ridge_reg_cv.fit(X,y)\n",
    "\n",
    "# Print the tuned parameters and score\n",
    "print(\"Tuned Decision Tree Parameters: {}\".format(ridge_reg_cv.best_params_))\n",
    "print(\"Best score is {}\".format(ridge_reg_cv.best_score_))\n",
    "\n",
    "ridge_reg = Ridge(alpha = ridge_reg_cv.best_params_['alpha'], normalize = True)\n",
    "\n",
    "X_train, X_test, y_train, y_test = train_test_split(X, y, test_size = 0.2, random_state=42)\n",
    "ridge_reg.fit(X_train, y_train)\n",
    "y_pred = ridge_reg.predict(X_test)\n",
    "\n",
    "print(\"\\nPredictions\\n\")\n",
    "print(y_pred)\n",
    "print(\"\\nPrecision of model = \") \n",
    "print(ridge_reg.score(X_test, y_test))\n",
    "\n",
    "print(\"\\nR^2: {}\".format(ridge_reg.score(X_test, y_test)))\n",
    "rmse = np.sqrt(mean_squared_error(y_test, y_pred))\n",
    "print(\"Root Mean Squared Error: {}\".format(rmse))\n"
   ]
  },
  {
   "cell_type": "markdown",
   "metadata": {},
   "source": [
    "# Lasso model"
   ]
  },
  {
   "cell_type": "code",
   "execution_count": 562,
   "metadata": {},
   "outputs": [
    {
     "name": "stdout",
     "output_type": "stream",
     "text": [
      "Tuned Decision Tree Parameters: {'alpha': 0.44897959183673464}\n",
      "Best score is 0.10405220977335437\n",
      "\n",
      "Predictions\n",
      "\n",
      "[2.26895134 1.97491154 2.24241531 1.3119186  1.91879228 1.87426757\n",
      " 1.56387608 1.67168364 1.91671971 1.83383492 2.13265571 2.29038209\n",
      " 1.45622184 2.37977565 1.39009548 2.23385965 1.33938975 2.17496502\n",
      " 2.15646973 1.31216372 1.7506479  1.8273681  1.50363978 1.49196986\n",
      " 2.18575727 1.52783506 1.8155739  1.97390853 1.56167375 1.82096595\n",
      " 2.39067531 2.1531826  2.40567039 1.76184646 2.50896141]\n",
      "\n",
      "Precision of model = \n",
      "0.17173183878221843\n",
      "\n",
      "R^2: 0.17173183878221843\n",
      "Root Mean Squared Error: 1.0865245884071206\n"
     ]
    }
   ],
   "source": [
    "# Setup the parameters and distributions to sample from: param_dist\n",
    "linear_space = np.linspace(0, 1)\n",
    "\n",
    "param_dist = {\"alpha\": linear_space}\n",
    "\n",
    "lasso_reg = Lasso()\n",
    "\n",
    "lasso_reg_cv = GridSearchCV(ridge_reg, param_dist, cv=5)\n",
    "\n",
    "lasso_reg_cv.fit(X,y)\n",
    "\n",
    "# Print the tuned parameters and score\n",
    "print(\"Tuned Decision Tree Parameters: {}\".format(lasso_reg_cv.best_params_))\n",
    "print(\"Best score is {}\".format(lasso_reg_cv.best_score_))\n",
    "\n",
    "ridge_reg = Ridge(alpha = lasso_reg_cv.best_params_['alpha'], normalize = True)\n",
    "\n",
    "X_train, X_test, y_train, y_test = train_test_split(X, y, test_size = 0.2, random_state=42)\n",
    "lasso_reg.fit(X_train, y_train)\n",
    "y_pred = lasso_reg.predict(X_test)\n",
    "\n",
    "print(\"\\nPredictions\\n\")\n",
    "print(y_pred)\n",
    "print(\"\\nPrecision of model = \") \n",
    "print(lasso_reg.score(X_test, y_test))\n",
    "\n",
    "print(\"\\nR^2: {}\".format(lasso_reg.score(X_test, y_test)))\n",
    "rmse = np.sqrt(mean_squared_error(y_test, y_pred))\n",
    "print(\"Root Mean Squared Error: {}\".format(rmse))"
   ]
  },
  {
   "cell_type": "code",
   "execution_count": null,
   "metadata": {},
   "outputs": [],
   "source": []
  }
 ],
 "metadata": {
  "kernelspec": {
   "display_name": "Python 3",
   "language": "python",
   "name": "python3"
  },
  "language_info": {
   "codemirror_mode": {
    "name": "ipython",
    "version": 3
   },
   "file_extension": ".py",
   "mimetype": "text/x-python",
   "name": "python",
   "nbconvert_exporter": "python",
   "pygments_lexer": "ipython3",
   "version": "3.7.0"
  }
 },
 "nbformat": 4,
 "nbformat_minor": 2
}
